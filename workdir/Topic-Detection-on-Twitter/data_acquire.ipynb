{
 "cells": [
  {
   "cell_type": "code",
   "execution_count": 2,
   "source": [
    "import tweepy\r\n",
    "from keys import *\r\n",
    "from datetime import datetime\r\n",
    "import json\r\n",
    "\r\n",
    "\r\n",
    "auth = tweepy.OAuthHandler(consumer_key=consumer_key, consumer_secret = consumer_secret)\r\n",
    "auth.set_access_token(access_token, access_token_secret)\r\n",
    "api = tweepy.API(auth)"
   ],
   "outputs": [],
   "metadata": {}
  },
  {
   "cell_type": "code",
   "execution_count": 3,
   "source": [
    "\"\"\"start_date = \"201708140000\"\r\n",
    "end_date = \"201708192359\"\r\n",
    "cursor = tweepy.Cursor(api.search_full_archive, label =\"TopicModeling\", query=\"Charlottesville\",\r\n",
    "                        fromDate=start_date, toDate=end_date ).items(2300)\"\"\"\r\n",
    "\r\n",
    "cursor = tweepy.Cursor(api.search_tweets, q=\"samsung AND flip\", tweet = \"mode\").items(150)\r\n",
    "\r\n",
    "tweet_list = []\r\n",
    "for tweet in cursor:\r\n",
    "    tweet_list.append(tweet._json)"
   ],
   "outputs": [],
   "metadata": {}
  },
  {
   "cell_type": "code",
   "execution_count": 4,
   "source": [
    "with open(\"flip_tweets.json\", \"w\") as file:\r\n",
    "\r\n",
    "    json.dump(tweet_list, file)"
   ],
   "outputs": [],
   "metadata": {}
  }
 ],
 "metadata": {
  "orig_nbformat": 4,
  "language_info": {
   "name": "python",
   "version": "3.8.5",
   "mimetype": "text/x-python",
   "codemirror_mode": {
    "name": "ipython",
    "version": 3
   },
   "pygments_lexer": "ipython3",
   "nbconvert_exporter": "python",
   "file_extension": ".py"
  },
  "kernelspec": {
   "name": "python3",
   "display_name": "Python 3.8.5 64-bit ('base': conda)"
  },
  "interpreter": {
   "hash": "ed8eca2b220cf1e27a3481ffdb2c31f1e299e2d8073166b9e2e1c30297a93942"
  }
 },
 "nbformat": 4,
 "nbformat_minor": 2
}