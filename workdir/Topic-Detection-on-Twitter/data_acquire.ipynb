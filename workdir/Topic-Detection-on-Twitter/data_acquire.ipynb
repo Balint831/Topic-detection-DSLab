{
 "cells": [
  {
   "cell_type": "code",
   "execution_count": 2,
   "metadata": {},
   "outputs": [],
   "source": [
    "import tweepy\n",
    "from keys import *\n",
    "from datetime import datetime\n",
    "import json\n",
    "\n",
    "\n",
    "auth = tweepy.OAuthHandler(consumer_key=consumer_key, consumer_secret = consumer_secret)\n",
    "auth.set_access_token(access_token, access_token_secret)\n",
    "api = tweepy.API(auth)"
   ]
  },
  {
   "cell_type": "code",
   "execution_count": 3,
   "metadata": {},
   "outputs": [],
   "source": [
    "\"\"\"start_date = \"201708140000\"\n",
    "end_date = \"201708192359\"\n",
    "cursor = tweepy.Cursor(api.search_full_archive, label =\"TopicModeling\", query=\"Charlottesville\",\n",
    "                        fromDate=start_date, toDate=end_date ).items(2300)\"\"\"\n",
    "\n",
    "cursor = tweepy.Cursor(api.search_tweets, q=\"samsung AND flip\", tweet = \"mode\").items(150)\n",
    "\n",
    "tweet_list = []\n",
    "for tweet in cursor:\n",
    "    tweet_list.append(tweet._json)"
   ]
  },
  {
   "cell_type": "code",
   "execution_count": 4,
   "metadata": {},
   "outputs": [],
   "source": [
    "with open(\"flip_tweets.json\", \"w\") as file:\n",
    "\n",
    "    json.dump(tweet_list, file)"
   ]
  }
 ],
 "metadata": {
  "interpreter": {
   "hash": "ed8eca2b220cf1e27a3481ffdb2c31f1e299e2d8073166b9e2e1c30297a93942"
  },
  "kernelspec": {
   "display_name": "Python 3.8.5 64-bit ('base': conda)",
   "name": "python3"
  },
  "language_info": {
   "codemirror_mode": {
    "name": "ipython",
    "version": 3
   },
   "file_extension": ".py",
   "mimetype": "text/x-python",
   "name": "python",
   "nbconvert_exporter": "python",
   "pygments_lexer": "ipython3",
   "version": "3.8.5"
  },
  "orig_nbformat": 4
 },
 "nbformat": 4,
 "nbformat_minor": 2
}
