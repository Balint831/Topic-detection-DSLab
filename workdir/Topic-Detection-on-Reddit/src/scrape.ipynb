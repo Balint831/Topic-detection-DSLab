{
 "cells": [
  {
   "cell_type": "code",
   "execution_count": 17,
   "source": [
    "from keys import * #api tokens, logins: CLIENT_ID, SECRET_KEY, USERNAME, PASSWORD, USER_AGENT\r\n",
    "\r\n",
    "import praw\r\n",
    "import pandas as pd\r\n",
    "from datetime import datetime"
   ],
   "outputs": [],
   "metadata": {}
  },
  {
   "cell_type": "code",
   "execution_count": 18,
   "source": [
    "reddit = praw.Reddit(client_id = CLIENT_ID,\r\n",
    "                     client_secret = SECRET_KEY,\r\n",
    "                     user_agent = USER_AGENT,\r\n",
    "                     username = USERNAME,\r\n",
    "                     password = PASSWORD\r\n",
    "                    ) "
   ],
   "outputs": [],
   "metadata": {}
  },
  {
   "cell_type": "code",
   "execution_count": 19,
   "source": [
    "subred = reddit.subreddit(\"hungary\")"
   ],
   "outputs": [],
   "metadata": {}
  },
  {
   "cell_type": "code",
   "execution_count": 20,
   "source": [
    "new = subred.new(limit = 100) #search for last 100 posts in \"new\" section"
   ],
   "outputs": [],
   "metadata": {}
  },
  {
   "cell_type": "code",
   "execution_count": 21,
   "source": [
    "\r\n",
    "\r\n",
    "row_list = []\r\n",
    "for post in new:\r\n",
    "\r\n",
    "    try:\r\n",
    "        #Post metadata and content\r\n",
    "        post_id = post.id\r\n",
    "        flair = post.link_flair_text\r\n",
    "        author = post.author.name\r\n",
    "        timestamp = post.created_utc #unix time, UTC, -2 hours earlier than us\r\n",
    "        upvotes = post.score \r\n",
    "        text = post.selftext #it is empty if the text is a link #TODO test for pic and poll\r\n",
    "        title = post.title \r\n",
    "        comments = post.comments\r\n",
    "        awards = post.all_awardings\r\n",
    "\r\n",
    "        #one post goes to one row in the df\r\n",
    "        row = {\r\n",
    "            \"post_id\" : post_id, #str\r\n",
    "            \"flair\" : flair, #str\r\n",
    "            \"author\" : author, #str\r\n",
    "            \"timestamp\" : timestamp, #? str?\r\n",
    "            \"upvotes\" : upvotes, #TODO datatypes\r\n",
    "            \"text\" : text, #str\r\n",
    "            \"title\" : title, #str\r\n",
    "            \"comments\" : comments, # praw.CommentForest\r\n",
    "            \"awards\": awards\r\n",
    "        }\r\n",
    "\r\n",
    "        row_list.append(row)\r\n",
    "\r\n",
    "    except AttributeError:\r\n",
    "        pass\r\n",
    "post_data = pd.DataFrame(row_list)"
   ],
   "outputs": [],
   "metadata": {}
  },
  {
   "cell_type": "code",
   "execution_count": 15,
   "source": [
    "\r\n",
    "row_list = []\r\n",
    "for _, post_row in post_data.iterrows():\r\n",
    "\r\n",
    "    for comment in post_row.comments:\r\n",
    "        try:\r\n",
    "            #Comment metadata and content\r\n",
    "            comment_id = comment.id\r\n",
    "            text = comment.body\r\n",
    "            author = comment.author.name\r\n",
    "            upvotes = comment.score\r\n",
    "            timestamp = comment.created_utc\r\n",
    "\r\n",
    "            #Post metadata\r\n",
    "            flair = post_row.flair\r\n",
    "            post_id = post_row.post_id\r\n",
    "            title = post_row.title\r\n",
    "            \r\n",
    "            # one row goes to one row in the df\r\n",
    "            row = {\r\n",
    "                \"comment_id\" : comment_id, #str\r\n",
    "                \"text\" : text, #str\r\n",
    "                \"author\" : author, #str\r\n",
    "                \"upvotes\" : upvotes, #? str?\r\n",
    "                \"timestamp\" : timestamp, #\r\n",
    "                \"flair\" : flair, #str\r\n",
    "                \"post_id\" : post_id, #str\r\n",
    "                \"title\" : title #str\r\n",
    "            }\r\n",
    "            row_list.append(row)\r\n",
    "        except AttributeError:\r\n",
    "            pass\r\n",
    "\r\n",
    "comment_data = pd.DataFrame(row_list)"
   ],
   "outputs": [],
   "metadata": {}
  },
  {
   "cell_type": "code",
   "execution_count": 23,
   "source": [
    "post_data[post_data[\"post_id\"] == 'q2mo99']"
   ],
   "outputs": [
    {
     "output_type": "execute_result",
     "data": {
      "text/html": [
       "<div>\n",
       "<style scoped>\n",
       "    .dataframe tbody tr th:only-of-type {\n",
       "        vertical-align: middle;\n",
       "    }\n",
       "\n",
       "    .dataframe tbody tr th {\n",
       "        vertical-align: top;\n",
       "    }\n",
       "\n",
       "    .dataframe thead th {\n",
       "        text-align: right;\n",
       "    }\n",
       "</style>\n",
       "<table border=\"1\" class=\"dataframe\">\n",
       "  <thead>\n",
       "    <tr style=\"text-align: right;\">\n",
       "      <th></th>\n",
       "      <th>post_id</th>\n",
       "      <th>flair</th>\n",
       "      <th>author</th>\n",
       "      <th>timestamp</th>\n",
       "      <th>upvotes</th>\n",
       "      <th>text</th>\n",
       "      <th>title</th>\n",
       "      <th>comments</th>\n",
       "      <th>awards</th>\n",
       "    </tr>\n",
       "  </thead>\n",
       "  <tbody>\n",
       "    <tr>\n",
       "      <th>45</th>\n",
       "      <td>q2mo99</td>\n",
       "      <td>ARTICLE</td>\n",
       "      <td>frank-a-tank</td>\n",
       "      <td>1.633534e+09</td>\n",
       "      <td>16</td>\n",
       "      <td></td>\n",
       "      <td>Lakást vennél? 2-8 százalékos áremelkedésre ké...</td>\n",
       "      <td>(hfm8hin, hfm7lm7, hfmgt1x, hfmo3fa, hfm42n9, ...</td>\n",
       "      <td>[]</td>\n",
       "    </tr>\n",
       "  </tbody>\n",
       "</table>\n",
       "</div>"
      ],
      "text/plain": [
       "   post_id    flair        author     timestamp  upvotes text  \\\n",
       "45  q2mo99  ARTICLE  frank-a-tank  1.633534e+09       16        \n",
       "\n",
       "                                                title  \\\n",
       "45  Lakást vennél? 2-8 százalékos áremelkedésre ké...   \n",
       "\n",
       "                                             comments awards  \n",
       "45  (hfm8hin, hfm7lm7, hfmgt1x, hfmo3fa, hfm42n9, ...     []  "
      ]
     },
     "metadata": {},
     "execution_count": 23
    }
   ],
   "metadata": {}
  },
  {
   "cell_type": "code",
   "execution_count": 14,
   "source": [
    "#post_data.to_excel(\"posts-2021-09-27 00:15:25.xlsx\")\r\n",
    "#comment_data.to_excel(\"comments_.xlsx\")"
   ],
   "outputs": [],
   "metadata": {}
  },
  {
   "cell_type": "code",
   "execution_count": 1,
   "source": [
    "comment_data.timestamp.map(lambda x: datetime.fromtimestamp(x)).min()"
   ],
   "outputs": [
    {
     "output_type": "error",
     "ename": "NameError",
     "evalue": "name 'comment_data' is not defined",
     "traceback": [
      "\u001b[1;31m---------------------------------------------------------------------------\u001b[0m",
      "\u001b[1;31mNameError\u001b[0m                                 Traceback (most recent call last)",
      "\u001b[1;32m<ipython-input-1-59922bc46261>\u001b[0m in \u001b[0;36m<module>\u001b[1;34m\u001b[0m\n\u001b[1;32m----> 1\u001b[1;33m \u001b[0mcomment_data\u001b[0m\u001b[1;33m.\u001b[0m\u001b[0mtimestamp\u001b[0m\u001b[1;33m.\u001b[0m\u001b[0mmap\u001b[0m\u001b[1;33m(\u001b[0m\u001b[1;32mlambda\u001b[0m \u001b[0mx\u001b[0m\u001b[1;33m:\u001b[0m \u001b[0mdatetime\u001b[0m\u001b[1;33m.\u001b[0m\u001b[0mfromtimestamp\u001b[0m\u001b[1;33m(\u001b[0m\u001b[0mx\u001b[0m\u001b[1;33m)\u001b[0m\u001b[1;33m)\u001b[0m\u001b[1;33m.\u001b[0m\u001b[0mmin\u001b[0m\u001b[1;33m(\u001b[0m\u001b[1;33m)\u001b[0m\u001b[1;33m\u001b[0m\u001b[1;33m\u001b[0m\u001b[0m\n\u001b[0m",
      "\u001b[1;31mNameError\u001b[0m: name 'comment_data' is not defined"
     ]
    }
   ],
   "metadata": {}
  }
 ],
 "metadata": {
  "orig_nbformat": 4,
  "language_info": {
   "name": "python",
   "version": "3.8.5",
   "mimetype": "text/x-python",
   "codemirror_mode": {
    "name": "ipython",
    "version": 3
   },
   "pygments_lexer": "ipython3",
   "nbconvert_exporter": "python",
   "file_extension": ".py"
  },
  "kernelspec": {
   "name": "python3",
   "display_name": "Python 3.8.5 64-bit ('base': conda)"
  },
  "interpreter": {
   "hash": "ed8eca2b220cf1e27a3481ffdb2c31f1e299e2d8073166b9e2e1c30297a93942"
  }
 },
 "nbformat": 4,
 "nbformat_minor": 2
}