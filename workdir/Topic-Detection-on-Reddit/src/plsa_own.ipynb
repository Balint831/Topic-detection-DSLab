{
 "cells": [
  {
   "cell_type": "code",
   "execution_count": 2,
   "metadata": {},
   "outputs": [],
   "source": [
    "import numpy as np\n",
    "import matplotlib.pyplot as plt\n",
    "import pandas as pd"
   ]
  },
  {
   "cell_type": "code",
   "execution_count": 3,
   "metadata": {},
   "outputs": [
    {
     "data": {
      "text/plain": [
       "'1.21.3'"
      ]
     },
     "execution_count": 3,
     "metadata": {},
     "output_type": "execute_result"
    }
   ],
   "source": [
    "np.__version__"
   ]
  },
  {
   "cell_type": "code",
   "execution_count": 4,
   "metadata": {},
   "outputs": [],
   "source": [
    "comment_df = pd.read_excel(\"..\\data\\cleaned_swed_lemma.xlsx\",\n",
    "                            )\n",
    "comment_df.drop(index = [9, 1555, 2474, 2483, 4346, 7212], inplace = True)"
   ]
  },
  {
   "cell_type": "code",
   "execution_count": 5,
   "metadata": {},
   "outputs": [],
   "source": [
    "from sklearn.feature_extraction.text import TfidfVectorizer\n",
    "tf_idf_sk = TfidfVectorizer(norm=\"l1\")\n",
    "X = tf_idf_sk.fit_transform(comment_df.text)"
   ]
  },
  {
   "cell_type": "code",
   "execution_count": 6,
   "metadata": {},
   "outputs": [
    {
     "data": {
      "text/plain": [
       "(8589, 43184)"
      ]
     },
     "execution_count": 6,
     "metadata": {},
     "output_type": "execute_result"
    }
   ],
   "source": [
    "X.shape"
   ]
  },
  {
   "cell_type": "code",
   "execution_count": 12,
   "metadata": {},
   "outputs": [],
   "source": [
    "class PLSA:\n",
    "    def __init__(self, X, topic_num):\n",
    "        \"\"\" X - TF-IDF Matrix\"\"\"\n",
    "        self.doc_num, self.vocab_len = X.shape\n",
    "        self.topic_num = topic_num\n",
    "        self.corpus = X\n",
    "\n",
    "        self.init_params()\n",
    "        self.norm_params()\n",
    "        \n",
    "    def init_params(self):\n",
    "        rng = np.random.default_rng()\n",
    "        self.u = rng.standard_normal( size = (self.doc_num, self.topic_num) ) #P(D|Z)\n",
    "        self.v = rng.standard_normal( size = (self.topic_num, self.vocab_len) ) #P(W|Z)^T\n",
    "\n",
    "\n",
    "    def norm_params(self):\n",
    "        pass\n",
    "    #def fit\n",
    "\n",
    "    "
   ]
  },
  {
   "cell_type": "code",
   "execution_count": 13,
   "metadata": {},
   "outputs": [],
   "source": [
    "plsa = PLSA(X, 7)"
   ]
  }
 ],
 "metadata": {
  "interpreter": {
   "hash": "ed8eca2b220cf1e27a3481ffdb2c31f1e299e2d8073166b9e2e1c30297a93942"
  },
  "kernelspec": {
   "display_name": "Python 3.8.5 64-bit ('base': conda)",
   "name": "python3"
  },
  "language_info": {
   "codemirror_mode": {
    "name": "ipython",
    "version": 3
   },
   "file_extension": ".py",
   "mimetype": "text/x-python",
   "name": "python",
   "nbconvert_exporter": "python",
   "pygments_lexer": "ipython3",
   "version": "3.8.5"
  },
  "orig_nbformat": 4
 },
 "nbformat": 4,
 "nbformat_minor": 2
}
