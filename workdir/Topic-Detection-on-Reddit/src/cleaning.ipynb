{
 "cells": [
  {
   "cell_type": "code",
   "execution_count": 61,
   "metadata": {},
   "outputs": [],
   "source": [
    "import pandas as pd\n",
    "import numpy as np\n",
    "\n",
    "import re\n",
    "import matplotlib.pyplot as plt\n",
    "import plotly.express as px\n",
    "\n",
    "import collections\n",
    "from plotly import graph_objects\n",
    "\n",
    "import sys\n",
    "sys.path.append(\"..\")\n",
    "\n",
    "def deEmojify(text):\n",
    "    regrex_pattern = re.compile(pattern = \"[\"\n",
    "        u\"\\U0001F600-\\U0001F64F\"  # emoticons\n",
    "        u\"\\U0001F300-\\U0001F5FF\"  # symbols & pictographs\n",
    "        u\"\\U0001F680-\\U0001F6FF\"  # transport & map symbols\n",
    "        u\"\\U0001F1E0-\\U0001F1FF\"  # flags (iOS)\n",
    "                           \"]+\", flags = re.UNICODE)\n",
    "    return regrex_pattern.sub(r'',text)"
   ]
  },
  {
   "cell_type": "code",
   "execution_count": 62,
   "metadata": {},
   "outputs": [
    {
     "data": {
      "text/html": [
       "<div>\n",
       "<style scoped>\n",
       "    .dataframe tbody tr th:only-of-type {\n",
       "        vertical-align: middle;\n",
       "    }\n",
       "\n",
       "    .dataframe tbody tr th {\n",
       "        vertical-align: top;\n",
       "    }\n",
       "\n",
       "    .dataframe thead th {\n",
       "        text-align: right;\n",
       "    }\n",
       "</style>\n",
       "<table border=\"1\" class=\"dataframe\">\n",
       "  <thead>\n",
       "    <tr style=\"text-align: right;\">\n",
       "      <th></th>\n",
       "      <th>Unnamed: 0</th>\n",
       "      <th>comment_id</th>\n",
       "      <th>text</th>\n",
       "      <th>author</th>\n",
       "      <th>upvotes</th>\n",
       "      <th>timestamp</th>\n",
       "      <th>post_id</th>\n",
       "      <th>lens</th>\n",
       "    </tr>\n",
       "  </thead>\n",
       "  <tbody>\n",
       "    <tr>\n",
       "      <th>0</th>\n",
       "      <td>0</td>\n",
       "      <td>hfu3t3z</td>\n",
       "      <td>Minden oké otthon?</td>\n",
       "      <td>drakvuf</td>\n",
       "      <td>15</td>\n",
       "      <td>1633686153</td>\n",
       "      <td>q3uef4</td>\n",
       "      <td>3</td>\n",
       "    </tr>\n",
       "    <tr>\n",
       "      <th>1</th>\n",
       "      <td>1</td>\n",
       "      <td>hfu3wlv</td>\n",
       "      <td>Ez azért elég izzadtságszagú azt tekintve, hog...</td>\n",
       "      <td>Debre1024</td>\n",
       "      <td>6</td>\n",
       "      <td>1633686239</td>\n",
       "      <td>q3uef4</td>\n",
       "      <td>15</td>\n",
       "    </tr>\n",
       "    <tr>\n",
       "      <th>2</th>\n",
       "      <td>2</td>\n",
       "      <td>hfu491h</td>\n",
       "      <td>téged ki bántott :(</td>\n",
       "      <td>Endymion2748</td>\n",
       "      <td>6</td>\n",
       "      <td>1633686552</td>\n",
       "      <td>q3uef4</td>\n",
       "      <td>4</td>\n",
       "    </tr>\n",
       "    <tr>\n",
       "      <th>3</th>\n",
       "      <td>3</td>\n",
       "      <td>hfu407d</td>\n",
       "      <td>Még nincs szombat...</td>\n",
       "      <td>LazyTomTom</td>\n",
       "      <td>3</td>\n",
       "      <td>1633686328</td>\n",
       "      <td>q3uef4</td>\n",
       "      <td>3</td>\n",
       "    </tr>\n",
       "    <tr>\n",
       "      <th>4</th>\n",
       "      <td>4</td>\n",
       "      <td>hfu4nyg</td>\n",
       "      <td>Ezazz! Te is szereted ha megbasznak szárazon, ...</td>\n",
       "      <td>DrTorrente</td>\n",
       "      <td>3</td>\n",
       "      <td>1633686923</td>\n",
       "      <td>q3uef4</td>\n",
       "      <td>21</td>\n",
       "    </tr>\n",
       "  </tbody>\n",
       "</table>\n",
       "</div>"
      ],
      "text/plain": [
       "   Unnamed: 0 comment_id                                               text  \\\n",
       "0           0    hfu3t3z                                 Minden oké otthon?   \n",
       "1           1    hfu3wlv  Ez azért elég izzadtságszagú azt tekintve, hog...   \n",
       "2           2    hfu491h                                téged ki bántott :(   \n",
       "3           3    hfu407d                               Még nincs szombat...   \n",
       "4           4    hfu4nyg  Ezazz! Te is szereted ha megbasznak szárazon, ...   \n",
       "\n",
       "         author  upvotes   timestamp post_id  lens  \n",
       "0       drakvuf       15  1633686153  q3uef4     3  \n",
       "1     Debre1024        6  1633686239  q3uef4    15  \n",
       "2  Endymion2748        6  1633686552  q3uef4     4  \n",
       "3    LazyTomTom        3  1633686328  q3uef4     3  \n",
       "4    DrTorrente        3  1633686923  q3uef4    21  "
      ]
     },
     "execution_count": 62,
     "metadata": {},
     "output_type": "execute_result"
    }
   ],
   "source": [
    "comment_df = pd.read_excel(r\"..\\data\\psaw_comments_from_sept1_pol.xlsx\")\n",
    "comment_df[\"lens\"] = comment_df.text.str.split().map(lambda x: len(x))\n",
    "comment_df.head()"
   ]
  },
  {
   "cell_type": "code",
   "execution_count": 63,
   "metadata": {},
   "outputs": [
    {
     "name": "stdout",
     "output_type": "stream",
     "text": [
      "<class 'pandas.core.frame.DataFrame'>\n",
      "RangeIndex: 12950 entries, 0 to 12949\n",
      "Data columns (total 8 columns):\n",
      " #   Column      Non-Null Count  Dtype \n",
      "---  ------      --------------  ----- \n",
      " 0   Unnamed: 0  12950 non-null  int64 \n",
      " 1   comment_id  12950 non-null  object\n",
      " 2   text        12950 non-null  object\n",
      " 3   author      12950 non-null  object\n",
      " 4   upvotes     12950 non-null  int64 \n",
      " 5   timestamp   12950 non-null  int64 \n",
      " 6   post_id     12950 non-null  object\n",
      " 7   lens        12950 non-null  int64 \n",
      "dtypes: int64(4), object(4)\n",
      "memory usage: 809.5+ KB\n"
     ]
    }
   ],
   "source": [
    "comment_df.info()"
   ]
  },
  {
   "cell_type": "code",
   "execution_count": 64,
   "metadata": {},
   "outputs": [
    {
     "data": {
      "text/plain": [
       "7        True\n",
       "18       True\n",
       "25       True\n",
       "31       True\n",
       "52       True\n",
       "         ... \n",
       "12918    True\n",
       "12925    True\n",
       "12933    True\n",
       "12944    True\n",
       "12947    True\n",
       "Name: text, Length: 589, dtype: bool"
      ]
     },
     "execution_count": 64,
     "metadata": {},
     "output_type": "execute_result"
    }
   ],
   "source": [
    "w_http = comment_df[\"text\"].str.contains(\"http\")\n",
    "#w_http[w_http]\n",
    "w_http[w_http]"
   ]
  },
  {
   "cell_type": "code",
   "execution_count": 65,
   "metadata": {},
   "outputs": [
    {
     "name": "stdout",
     "output_type": "stream",
     "text": [
      "Before:\n",
      " [u/shiffer_andras](https://youtu.be/dQw4w9WgXcQ) vélemény?\n",
      "Num of http: 589\n",
      "\n",
      "After:\n",
      " [u/shiffer_andras]( vélemény?\n",
      "Num of http: 0\n",
      "Num of https: 0\n"
     ]
    }
   ],
   "source": [
    "print(\"Before:\\n\",comment_df[\"text\"].iloc[25])\n",
    "print(\"Num of http:\", comment_df[\"text\"].map(lambda x: \"http\" in x).sum())\n",
    "\n",
    "\n",
    "comment_df[\"text\"] = comment_df[\"text\"].map( lambda x: re.sub(r'http\\S+', '', x) )\n",
    "print(\"\\nAfter:\\n\",comment_df[\"text\"].iloc[25])\n",
    "print(\"Num of http:\",comment_df.text.map(lambda x: \"http\" in x).sum())\n",
    "print(\"Num of https:\",comment_df.text.map(lambda x: \"https\" in x).sum())\n",
    "#Remove web links\n"
   ]
  },
  {
   "cell_type": "code",
   "execution_count": 67,
   "metadata": {},
   "outputs": [
    {
     "name": "stdout",
     "output_type": "stream",
     "text": [
      "Before:\n",
      " [u/shiffer_andras]( vélemény?\n",
      "Num of user mentions: 47\n",
      "\n",
      "After:\n",
      " [ vélemény?\n",
      "Num of user mentions: 0\n",
      "Num of user mentions: 0\n"
     ]
    }
   ],
   "source": [
    "#remove user mentions \n",
    "\n",
    "print(\"Before:\\n\",comment_df[\"text\"].iloc[25])\n",
    "print(\"Num of user mentions:\", comment_df[\"text\"].map(lambda x: \"u/\" in x).sum())\n",
    "\n",
    "comment_df[\"text\"] = comment_df[\"text\"].map( lambda x: re.sub(r\"u/\\S+\", \"\", x))\n",
    "\n",
    "print(\"\\nAfter:\\n\",comment_df[\"text\"].iloc[25])\n",
    "print(\"Num of user mentions:\",comment_df.text.map(lambda x: \"u/\" in x).sum())\n",
    "print(\"Num of user mentions:\",comment_df.text.map(lambda x: \"u/\" in x).sum())"
   ]
  },
  {
   "cell_type": "code",
   "execution_count": null,
   "metadata": {},
   "outputs": [],
   "source": [
    "#remove emojis\n",
    "comment_df[\"text\"] = comment_df[\"text\"].map(deEmojify)"
   ]
  },
  {
   "cell_type": "code",
   "execution_count": 69,
   "metadata": {},
   "outputs": [],
   "source": [
    "from string import punctuation, digits\n",
    "\n",
    "\n",
    "\n",
    "\n",
    "#Remove numbers\n",
    "for d in digits:\n",
    "    comment_df[\"text\"] = comment_df[\"text\"].str.replace(d, \"\")\n",
    "\n",
    "#Remove punctuations\n",
    "for s in punctuation:\n",
    "    comment_df[\"text\"] = comment_df[\"text\"].str.replace(s, \"\")\n",
    "\n",
    "#Make lowercase\n",
    "comment_df[\"text\"] = comment_df[\"text\"].str.lower()"
   ]
  },
  {
   "cell_type": "code",
   "execution_count": 70,
   "metadata": {},
   "outputs": [
    {
     "data": {
      "text/plain": [
       "0                                        minden oké otthon\n",
       "1        ez azért elég izzadtságszagú azt tekintve hogy...\n",
       "2                                        téged ki bántott \n",
       "3                                        még nincs szombat\n",
       "4        ezazz te is szereted ha megbasznak szárazon úg...\n",
       "                               ...                        \n",
       "12945    protip for life a bírósági ítéleteket maguk eg...\n",
       "12946    végül a hangfelvételen a dulakodás is csak ham...\n",
       "12947    schiffer és srb urak kavarják a szart rendesen...\n",
       "12948    milyen érdekes hogy ez a per is pont most tudo...\n",
       "12949                                    de schiffer  fasz\n",
       "Name: text, Length: 12950, dtype: object"
      ]
     },
     "execution_count": 70,
     "metadata": {},
     "output_type": "execute_result"
    }
   ],
   "source": [
    "comment_df.text"
   ]
  },
  {
   "cell_type": "code",
   "execution_count": null,
   "metadata": {},
   "outputs": [],
   "source": []
  }
 ],
 "metadata": {
  "interpreter": {
   "hash": "ed8eca2b220cf1e27a3481ffdb2c31f1e299e2d8073166b9e2e1c30297a93942"
  },
  "kernelspec": {
   "display_name": "Python 3.8.5 64-bit ('base': conda)",
   "name": "python3"
  },
  "language_info": {
   "codemirror_mode": {
    "name": "ipython",
    "version": 3
   },
   "file_extension": ".py",
   "mimetype": "text/x-python",
   "name": "python",
   "nbconvert_exporter": "python",
   "pygments_lexer": "ipython3",
   "version": "3.8.5"
  },
  "orig_nbformat": 4
 },
 "nbformat": 4,
 "nbformat_minor": 2
}
