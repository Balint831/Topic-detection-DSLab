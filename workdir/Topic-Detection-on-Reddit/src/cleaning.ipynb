{
 "cells": [
  {
   "cell_type": "code",
   "execution_count": 1,
   "metadata": {},
   "outputs": [],
   "source": [
    "import pandas as pd\n",
    "import numpy as np\n",
    "\n",
    "import re\n",
    "import matplotlib.pyplot as plt\n",
    "import plotly.express as px\n",
    "\n",
    "import collections\n",
    "from plotly import graph_objects as go\n",
    "\n",
    "\n",
    "import sys\n",
    "sys.path.append(\"..\")\n",
    "\n",
    "flatten = lambda t: [item for sublist in t for item in sublist]\n",
    "def deEmojify(text):\n",
    "    regrex_pattern = re.compile(pattern = \"[\"\n",
    "        u\"\\U0001F600-\\U0001F64F\"  # emoticons\n",
    "        u\"\\U0001F300-\\U0001F5FF\"  # symbols & pictographs\n",
    "        u\"\\U0001F680-\\U0001F6FF\"  # transport & map symbols\n",
    "        u\"\\U0001F1E0-\\U0001F1FF\"  # flags (iOS)\n",
    "                           \"]+\", flags = re.UNICODE)\n",
    "    return regrex_pattern.sub(r'',text)"
   ]
  },
  {
   "cell_type": "code",
   "execution_count": 2,
   "metadata": {},
   "outputs": [
    {
     "data": {
      "text/html": [
       "<div>\n",
       "<style scoped>\n",
       "    .dataframe tbody tr th:only-of-type {\n",
       "        vertical-align: middle;\n",
       "    }\n",
       "\n",
       "    .dataframe tbody tr th {\n",
       "        vertical-align: top;\n",
       "    }\n",
       "\n",
       "    .dataframe thead th {\n",
       "        text-align: right;\n",
       "    }\n",
       "</style>\n",
       "<table border=\"1\" class=\"dataframe\">\n",
       "  <thead>\n",
       "    <tr style=\"text-align: right;\">\n",
       "      <th></th>\n",
       "      <th>Unnamed: 0</th>\n",
       "      <th>comment_id</th>\n",
       "      <th>text</th>\n",
       "      <th>author</th>\n",
       "      <th>upvotes</th>\n",
       "      <th>timestamp</th>\n",
       "      <th>post_id</th>\n",
       "      <th>lens</th>\n",
       "    </tr>\n",
       "  </thead>\n",
       "  <tbody>\n",
       "    <tr>\n",
       "      <th>0</th>\n",
       "      <td>0</td>\n",
       "      <td>hfu3t3z</td>\n",
       "      <td>Minden oké otthon?</td>\n",
       "      <td>drakvuf</td>\n",
       "      <td>15</td>\n",
       "      <td>1633686153</td>\n",
       "      <td>q3uef4</td>\n",
       "      <td>3</td>\n",
       "    </tr>\n",
       "    <tr>\n",
       "      <th>1</th>\n",
       "      <td>1</td>\n",
       "      <td>hfu3wlv</td>\n",
       "      <td>Ez azért elég izzadtságszagú azt tekintve, hog...</td>\n",
       "      <td>Debre1024</td>\n",
       "      <td>6</td>\n",
       "      <td>1633686239</td>\n",
       "      <td>q3uef4</td>\n",
       "      <td>15</td>\n",
       "    </tr>\n",
       "    <tr>\n",
       "      <th>2</th>\n",
       "      <td>2</td>\n",
       "      <td>hfu491h</td>\n",
       "      <td>téged ki bántott :(</td>\n",
       "      <td>Endymion2748</td>\n",
       "      <td>6</td>\n",
       "      <td>1633686552</td>\n",
       "      <td>q3uef4</td>\n",
       "      <td>4</td>\n",
       "    </tr>\n",
       "    <tr>\n",
       "      <th>3</th>\n",
       "      <td>3</td>\n",
       "      <td>hfu407d</td>\n",
       "      <td>Még nincs szombat...</td>\n",
       "      <td>LazyTomTom</td>\n",
       "      <td>3</td>\n",
       "      <td>1633686328</td>\n",
       "      <td>q3uef4</td>\n",
       "      <td>3</td>\n",
       "    </tr>\n",
       "    <tr>\n",
       "      <th>4</th>\n",
       "      <td>4</td>\n",
       "      <td>hfu4nyg</td>\n",
       "      <td>Ezazz! Te is szereted ha megbasznak szárazon, ...</td>\n",
       "      <td>DrTorrente</td>\n",
       "      <td>3</td>\n",
       "      <td>1633686923</td>\n",
       "      <td>q3uef4</td>\n",
       "      <td>21</td>\n",
       "    </tr>\n",
       "  </tbody>\n",
       "</table>\n",
       "</div>"
      ],
      "text/plain": [
       "   Unnamed: 0 comment_id                                               text  \\\n",
       "0           0    hfu3t3z                                 Minden oké otthon?   \n",
       "1           1    hfu3wlv  Ez azért elég izzadtságszagú azt tekintve, hog...   \n",
       "2           2    hfu491h                                téged ki bántott :(   \n",
       "3           3    hfu407d                               Még nincs szombat...   \n",
       "4           4    hfu4nyg  Ezazz! Te is szereted ha megbasznak szárazon, ...   \n",
       "\n",
       "         author  upvotes   timestamp post_id  lens  \n",
       "0       drakvuf       15  1633686153  q3uef4     3  \n",
       "1     Debre1024        6  1633686239  q3uef4    15  \n",
       "2  Endymion2748        6  1633686552  q3uef4     4  \n",
       "3    LazyTomTom        3  1633686328  q3uef4     3  \n",
       "4    DrTorrente        3  1633686923  q3uef4    21  "
      ]
     },
     "execution_count": 2,
     "metadata": {},
     "output_type": "execute_result"
    }
   ],
   "source": [
    "comment_df = pd.read_excel(r\"..\\data\\psaw_comments_from_sept1_pol.xlsx\")\n",
    "comment_df[\"lens\"] = comment_df.text.str.split().map(lambda x: len(x))\n",
    "comment_df.head()"
   ]
  },
  {
   "cell_type": "code",
   "execution_count": 3,
   "metadata": {},
   "outputs": [
    {
     "name": "stdout",
     "output_type": "stream",
     "text": [
      "<class 'pandas.core.frame.DataFrame'>\n",
      "RangeIndex: 12950 entries, 0 to 12949\n",
      "Data columns (total 8 columns):\n",
      " #   Column      Non-Null Count  Dtype \n",
      "---  ------      --------------  ----- \n",
      " 0   Unnamed: 0  12950 non-null  int64 \n",
      " 1   comment_id  12950 non-null  object\n",
      " 2   text        12950 non-null  object\n",
      " 3   author      12950 non-null  object\n",
      " 4   upvotes     12950 non-null  int64 \n",
      " 5   timestamp   12950 non-null  int64 \n",
      " 6   post_id     12950 non-null  object\n",
      " 7   lens        12950 non-null  int64 \n",
      "dtypes: int64(4), object(4)\n",
      "memory usage: 809.5+ KB\n"
     ]
    }
   ],
   "source": [
    "comment_df.info()"
   ]
  },
  {
   "cell_type": "code",
   "execution_count": 4,
   "metadata": {},
   "outputs": [
    {
     "data": {
      "text/plain": [
       "7        True\n",
       "18       True\n",
       "25       True\n",
       "31       True\n",
       "52       True\n",
       "         ... \n",
       "12918    True\n",
       "12925    True\n",
       "12933    True\n",
       "12944    True\n",
       "12947    True\n",
       "Name: text, Length: 589, dtype: bool"
      ]
     },
     "execution_count": 4,
     "metadata": {},
     "output_type": "execute_result"
    }
   ],
   "source": [
    "w_http = comment_df[\"text\"].str.contains(\"http\")\n",
    "#w_http[w_http]\n",
    "w_http[w_http]"
   ]
  },
  {
   "cell_type": "code",
   "execution_count": 5,
   "metadata": {},
   "outputs": [
    {
     "name": "stdout",
     "output_type": "stream",
     "text": [
      "Before:\n",
      " [u/shiffer_andras](https://youtu.be/dQw4w9WgXcQ) vélemény?\n",
      "Num of http: 589\n",
      "\n",
      "After:\n",
      " [u/shiffer_andras]( vélemény?\n",
      "Num of http: 0\n",
      "Num of https: 0\n"
     ]
    }
   ],
   "source": [
    "print(\"Before:\\n\",comment_df[\"text\"].iloc[25])\n",
    "print(\"Num of http:\", comment_df[\"text\"].map(lambda x: \"http\" in x).sum())\n",
    "\n",
    "\n",
    "comment_df[\"text\"] = comment_df[\"text\"].map( lambda x: re.sub(r'http\\S+', '', x) )\n",
    "print(\"\\nAfter:\\n\",comment_df[\"text\"].iloc[25])\n",
    "print(\"Num of http:\",comment_df.text.map(lambda x: \"http\" in x).sum())\n",
    "print(\"Num of https:\",comment_df.text.map(lambda x: \"https\" in x).sum())\n",
    "#Remove web links\n"
   ]
  },
  {
   "cell_type": "code",
   "execution_count": 6,
   "metadata": {},
   "outputs": [
    {
     "name": "stdout",
     "output_type": "stream",
     "text": [
      "Before:\n",
      " [u/shiffer_andras]( vélemény?\n",
      "Num of user mentions: 47\n",
      "\n",
      "After:\n",
      " [ vélemény?\n",
      "Num of user mentions: 0\n",
      "Num of user mentions: 0\n"
     ]
    }
   ],
   "source": [
    "#remove user mentions \n",
    "\n",
    "print(\"Before:\\n\",comment_df[\"text\"].iloc[25])\n",
    "print(\"Num of user mentions:\", comment_df[\"text\"].map(lambda x: \"u/\" in x).sum())\n",
    "\n",
    "comment_df[\"text\"] = comment_df[\"text\"].map( lambda x: re.sub(r\"u/\\S+\", \"\", x))\n",
    "\n",
    "print(\"\\nAfter:\\n\",comment_df[\"text\"].iloc[25])\n",
    "print(\"Num of user mentions:\",comment_df.text.map(lambda x: \"u/\" in x).sum())\n",
    "print(\"Num of user mentions:\",comment_df.text.map(lambda x: \"u/\" in x).sum())"
   ]
  },
  {
   "cell_type": "code",
   "execution_count": 7,
   "metadata": {},
   "outputs": [],
   "source": [
    "#remove emojis\n",
    "comment_df[\"text\"] = comment_df[\"text\"].map(deEmojify)"
   ]
  },
  {
   "cell_type": "code",
   "execution_count": 46,
   "metadata": {},
   "outputs": [],
   "source": [
    "from string import punctuation, digits\n",
    "\n",
    "\n",
    "\n",
    "\n",
    "#Remove numbers\n",
    "for d in digits:\n",
    "    comment_df[\"text\"] = comment_df[\"text\"].str.replace(d, \"\")\n",
    "\n",
    "#Remove punctuations\n",
    "for s in punctuation:\n",
    "    comment_df[\"text\"] = comment_df[\"text\"].str.replace(s, \" \")\n",
    "\n",
    "#Make lowercase\n",
    "comment_df[\"text\"] = comment_df[\"text\"].str.lower()\n",
    "\n",
    "#remove newline \n",
    "comment_df[\"text\"] = comment_df[\"text\"].str.replace(\"\\n\", \" \")"
   ]
  },
  {
   "cell_type": "code",
   "execution_count": 47,
   "metadata": {},
   "outputs": [],
   "source": [
    "comment_words = flatten(comment_df.text.str.split(\" \").to_list())"
   ]
  },
  {
   "cell_type": "markdown",
   "metadata": {},
   "source": [
    "# Removing stopwords and stemming"
   ]
  },
  {
   "cell_type": "code",
   "execution_count": 48,
   "metadata": {},
   "outputs": [
    {
     "name": "stdout",
     "output_type": "stream",
     "text": [
      "['a', 'ahogy', 'ahol', 'aki', 'akik', 'akkor', 'alatt', 'által', 'általában', 'amely', 'amelyek', 'amelyekben', 'amelyeket', 'amelyet', 'amelynek', 'ami', 'amit', 'amolyan', 'amíg', 'amikor', 'át', 'abban', 'ahhoz', 'annak', 'arra', 'arról', 'az', 'azok', 'azon', 'azt', 'azzal', 'azért', 'aztán', 'azután', 'azonban', 'bár', 'be', 'belül', 'benne', 'cikk', 'cikkek', 'cikkeket', 'csak', 'de', 'e', 'eddig', 'egész', 'egy', 'egyes', 'egyetlen', 'egyéb', 'egyik', 'egyre', 'ekkor', 'el', 'elég', 'ellen', 'elõ', 'elõször', 'elõtt', 'elsõ', 'én', 'éppen', 'ebben', 'ehhez', 'emilyen', 'ennek', 'erre', 'ez', 'ezt', 'ezek', 'ezen', 'ezzel', 'ezért', 'és', 'fel', 'felé', 'hanem', 'hiszen', 'hogy', 'hogyan', 'igen', 'így', 'illetve', 'ill.', 'ill', 'ilyen', 'ilyenkor', 'ison', 'ismét', 'itt', 'jó', 'jól', 'jobban', 'kell', 'kellett', 'keresztül', 'keressünk', 'ki', 'kívül', 'között', 'közül', 'legalább', 'lehet', 'lehetett', 'legyen', 'lenne', 'lenni', 'lesz', 'lett', 'maga', 'magát', 'majd', 'majd', 'már', 'más', 'másik', 'meg', 'még', 'mellett', 'mert', 'mely', 'melyek', 'mi', 'mit', 'míg', 'miért', 'milyen', 'mikor', 'minden', 'mindent', 'mindenki', 'mindig', 'mint', 'mintha', 'mivel', 'most', 'nagy', 'nagyobb', 'nagyon', 'ne', 'néha', 'nekem', 'neki', 'nem', 'néhány', 'nélkül', 'nincs', 'olyan', 'ott', 'össze', 'õ', 'õk', 'õket', 'pedig', 'persze', 'rá', 's', 'saját', 'sem', 'semmi', 'sok', 'sokat', 'sokkal', 'számára', 'szemben', 'szerint', 'szinte', 'talán', 'tehát', 'teljes', 'tovább', 'továbbá', 'több', 'úgy', 'ugyanis', 'új', 'újabb', 'újra', 'után', 'utána', 'utolsó', 'vagy', 'vagyis', 'valaki', 'valami', 'valamint', 'való', 'vagyok', 'van', 'vannak', 'volt', 'voltam', 'voltak', 'voltunk', 'vissza', 'vele', 'viszont', 'volna']\n"
     ]
    },
    {
     "name": "stderr",
     "output_type": "stream",
     "text": [
      "[nltk_data] Downloading package stopwords to\n",
      "[nltk_data]     C:\\Users\\balin\\AppData\\Roaming\\nltk_data...\n",
      "[nltk_data]   Package stopwords is already up-to-date!\n"
     ]
    }
   ],
   "source": [
    "import nltk\n",
    "nltk.download(\"stopwords\")\n",
    "from nltk.corpus import stopwords\n",
    "hu_stop = stopwords.words(\"hungarian\")\n",
    "print(hu_stop)"
   ]
  },
  {
   "cell_type": "code",
   "execution_count": 61,
   "metadata": {},
   "outputs": [],
   "source": [
    "with open(r\"..\\data\\misc\\hu_stopwords.txt\", \"r\",  encoding='utf-8') as f:\n",
    "    additional_stopwords = f.readlines()\n",
    "\n",
    "additional_stopwords = [ word.replace(\"\\n\",\"\") for word in additional_stopwords]\n",
    "hu_stop += additional_stopwords\n",
    "hu_stop = list(set(hu_stop))"
   ]
  },
  {
   "cell_type": "code",
   "execution_count": 62,
   "metadata": {},
   "outputs": [],
   "source": [
    "#filtering stopwords\n",
    "def filterStopword(word):\n",
    "    if word in hu_stop:\n",
    "        return False\n",
    "    else:\n",
    "        return True\n",
    "\n",
    "filtered_text = list(filter(filterStopword, comment_words))"
   ]
  },
  {
   "cell_type": "code",
   "execution_count": 63,
   "metadata": {},
   "outputs": [],
   "source": [
    "#remove '' blank str\n",
    "filtered_text = list(filter(lambda a: a != \"\", filtered_text))"
   ]
  },
  {
   "cell_type": "code",
   "execution_count": 65,
   "metadata": {},
   "outputs": [
    {
     "data": {
      "application/vnd.plotly.v1+json": {
       "config": {
        "plotlyServerURL": "https://plot.ly"
       },
       "data": [
        {
         "marker": {
          "color": "rgb(17,165,121)",
          "line": {
           "color": "rgb(17,165,121)",
           "width": 0.5
          }
         },
         "opacity": 0.6,
         "type": "bar",
         "x": [
          "mzp",
          "fidesz",
          "dobrev",
          "karácsony",
          "dk",
          "es",
          "szavazni",
          "gyurcsány",
          "fog",
          "orbán",
          "ellenzéki",
          "ember",
          "tudom",
          "jelölt",
          "amúgy",
          "magyar",
          "t",
          "kb",
          "fideszes",
          "emberek"
         ],
         "y": [
          1419,
          989,
          746,
          640,
          575,
          538,
          528,
          499,
          462,
          412,
          364,
          353,
          348,
          337,
          317,
          314,
          305,
          302,
          299,
          287
         ]
        }
       ],
       "layout": {
        "template": {
         "data": {
          "bar": [
           {
            "error_x": {
             "color": "#2a3f5f"
            },
            "error_y": {
             "color": "#2a3f5f"
            },
            "marker": {
             "line": {
              "color": "#E5ECF6",
              "width": 0.5
             }
            },
            "type": "bar"
           }
          ],
          "barpolar": [
           {
            "marker": {
             "line": {
              "color": "#E5ECF6",
              "width": 0.5
             }
            },
            "type": "barpolar"
           }
          ],
          "carpet": [
           {
            "aaxis": {
             "endlinecolor": "#2a3f5f",
             "gridcolor": "white",
             "linecolor": "white",
             "minorgridcolor": "white",
             "startlinecolor": "#2a3f5f"
            },
            "baxis": {
             "endlinecolor": "#2a3f5f",
             "gridcolor": "white",
             "linecolor": "white",
             "minorgridcolor": "white",
             "startlinecolor": "#2a3f5f"
            },
            "type": "carpet"
           }
          ],
          "choropleth": [
           {
            "colorbar": {
             "outlinewidth": 0,
             "ticks": ""
            },
            "type": "choropleth"
           }
          ],
          "contour": [
           {
            "colorbar": {
             "outlinewidth": 0,
             "ticks": ""
            },
            "colorscale": [
             [
              0,
              "#0d0887"
             ],
             [
              0.1111111111111111,
              "#46039f"
             ],
             [
              0.2222222222222222,
              "#7201a8"
             ],
             [
              0.3333333333333333,
              "#9c179e"
             ],
             [
              0.4444444444444444,
              "#bd3786"
             ],
             [
              0.5555555555555556,
              "#d8576b"
             ],
             [
              0.6666666666666666,
              "#ed7953"
             ],
             [
              0.7777777777777778,
              "#fb9f3a"
             ],
             [
              0.8888888888888888,
              "#fdca26"
             ],
             [
              1,
              "#f0f921"
             ]
            ],
            "type": "contour"
           }
          ],
          "contourcarpet": [
           {
            "colorbar": {
             "outlinewidth": 0,
             "ticks": ""
            },
            "type": "contourcarpet"
           }
          ],
          "heatmap": [
           {
            "colorbar": {
             "outlinewidth": 0,
             "ticks": ""
            },
            "colorscale": [
             [
              0,
              "#0d0887"
             ],
             [
              0.1111111111111111,
              "#46039f"
             ],
             [
              0.2222222222222222,
              "#7201a8"
             ],
             [
              0.3333333333333333,
              "#9c179e"
             ],
             [
              0.4444444444444444,
              "#bd3786"
             ],
             [
              0.5555555555555556,
              "#d8576b"
             ],
             [
              0.6666666666666666,
              "#ed7953"
             ],
             [
              0.7777777777777778,
              "#fb9f3a"
             ],
             [
              0.8888888888888888,
              "#fdca26"
             ],
             [
              1,
              "#f0f921"
             ]
            ],
            "type": "heatmap"
           }
          ],
          "heatmapgl": [
           {
            "colorbar": {
             "outlinewidth": 0,
             "ticks": ""
            },
            "colorscale": [
             [
              0,
              "#0d0887"
             ],
             [
              0.1111111111111111,
              "#46039f"
             ],
             [
              0.2222222222222222,
              "#7201a8"
             ],
             [
              0.3333333333333333,
              "#9c179e"
             ],
             [
              0.4444444444444444,
              "#bd3786"
             ],
             [
              0.5555555555555556,
              "#d8576b"
             ],
             [
              0.6666666666666666,
              "#ed7953"
             ],
             [
              0.7777777777777778,
              "#fb9f3a"
             ],
             [
              0.8888888888888888,
              "#fdca26"
             ],
             [
              1,
              "#f0f921"
             ]
            ],
            "type": "heatmapgl"
           }
          ],
          "histogram": [
           {
            "marker": {
             "colorbar": {
              "outlinewidth": 0,
              "ticks": ""
             }
            },
            "type": "histogram"
           }
          ],
          "histogram2d": [
           {
            "colorbar": {
             "outlinewidth": 0,
             "ticks": ""
            },
            "colorscale": [
             [
              0,
              "#0d0887"
             ],
             [
              0.1111111111111111,
              "#46039f"
             ],
             [
              0.2222222222222222,
              "#7201a8"
             ],
             [
              0.3333333333333333,
              "#9c179e"
             ],
             [
              0.4444444444444444,
              "#bd3786"
             ],
             [
              0.5555555555555556,
              "#d8576b"
             ],
             [
              0.6666666666666666,
              "#ed7953"
             ],
             [
              0.7777777777777778,
              "#fb9f3a"
             ],
             [
              0.8888888888888888,
              "#fdca26"
             ],
             [
              1,
              "#f0f921"
             ]
            ],
            "type": "histogram2d"
           }
          ],
          "histogram2dcontour": [
           {
            "colorbar": {
             "outlinewidth": 0,
             "ticks": ""
            },
            "colorscale": [
             [
              0,
              "#0d0887"
             ],
             [
              0.1111111111111111,
              "#46039f"
             ],
             [
              0.2222222222222222,
              "#7201a8"
             ],
             [
              0.3333333333333333,
              "#9c179e"
             ],
             [
              0.4444444444444444,
              "#bd3786"
             ],
             [
              0.5555555555555556,
              "#d8576b"
             ],
             [
              0.6666666666666666,
              "#ed7953"
             ],
             [
              0.7777777777777778,
              "#fb9f3a"
             ],
             [
              0.8888888888888888,
              "#fdca26"
             ],
             [
              1,
              "#f0f921"
             ]
            ],
            "type": "histogram2dcontour"
           }
          ],
          "mesh3d": [
           {
            "colorbar": {
             "outlinewidth": 0,
             "ticks": ""
            },
            "type": "mesh3d"
           }
          ],
          "parcoords": [
           {
            "line": {
             "colorbar": {
              "outlinewidth": 0,
              "ticks": ""
             }
            },
            "type": "parcoords"
           }
          ],
          "pie": [
           {
            "automargin": true,
            "type": "pie"
           }
          ],
          "scatter": [
           {
            "marker": {
             "colorbar": {
              "outlinewidth": 0,
              "ticks": ""
             }
            },
            "type": "scatter"
           }
          ],
          "scatter3d": [
           {
            "line": {
             "colorbar": {
              "outlinewidth": 0,
              "ticks": ""
             }
            },
            "marker": {
             "colorbar": {
              "outlinewidth": 0,
              "ticks": ""
             }
            },
            "type": "scatter3d"
           }
          ],
          "scattercarpet": [
           {
            "marker": {
             "colorbar": {
              "outlinewidth": 0,
              "ticks": ""
             }
            },
            "type": "scattercarpet"
           }
          ],
          "scattergeo": [
           {
            "marker": {
             "colorbar": {
              "outlinewidth": 0,
              "ticks": ""
             }
            },
            "type": "scattergeo"
           }
          ],
          "scattergl": [
           {
            "marker": {
             "colorbar": {
              "outlinewidth": 0,
              "ticks": ""
             }
            },
            "type": "scattergl"
           }
          ],
          "scattermapbox": [
           {
            "marker": {
             "colorbar": {
              "outlinewidth": 0,
              "ticks": ""
             }
            },
            "type": "scattermapbox"
           }
          ],
          "scatterpolar": [
           {
            "marker": {
             "colorbar": {
              "outlinewidth": 0,
              "ticks": ""
             }
            },
            "type": "scatterpolar"
           }
          ],
          "scatterpolargl": [
           {
            "marker": {
             "colorbar": {
              "outlinewidth": 0,
              "ticks": ""
             }
            },
            "type": "scatterpolargl"
           }
          ],
          "scatterternary": [
           {
            "marker": {
             "colorbar": {
              "outlinewidth": 0,
              "ticks": ""
             }
            },
            "type": "scatterternary"
           }
          ],
          "surface": [
           {
            "colorbar": {
             "outlinewidth": 0,
             "ticks": ""
            },
            "colorscale": [
             [
              0,
              "#0d0887"
             ],
             [
              0.1111111111111111,
              "#46039f"
             ],
             [
              0.2222222222222222,
              "#7201a8"
             ],
             [
              0.3333333333333333,
              "#9c179e"
             ],
             [
              0.4444444444444444,
              "#bd3786"
             ],
             [
              0.5555555555555556,
              "#d8576b"
             ],
             [
              0.6666666666666666,
              "#ed7953"
             ],
             [
              0.7777777777777778,
              "#fb9f3a"
             ],
             [
              0.8888888888888888,
              "#fdca26"
             ],
             [
              1,
              "#f0f921"
             ]
            ],
            "type": "surface"
           }
          ],
          "table": [
           {
            "cells": {
             "fill": {
              "color": "#EBF0F8"
             },
             "line": {
              "color": "white"
             }
            },
            "header": {
             "fill": {
              "color": "#C8D4E3"
             },
             "line": {
              "color": "white"
             }
            },
            "type": "table"
           }
          ]
         },
         "layout": {
          "annotationdefaults": {
           "arrowcolor": "#2a3f5f",
           "arrowhead": 0,
           "arrowwidth": 1
          },
          "autotypenumbers": "strict",
          "coloraxis": {
           "colorbar": {
            "outlinewidth": 0,
            "ticks": ""
           }
          },
          "colorscale": {
           "diverging": [
            [
             0,
             "#8e0152"
            ],
            [
             0.1,
             "#c51b7d"
            ],
            [
             0.2,
             "#de77ae"
            ],
            [
             0.3,
             "#f1b6da"
            ],
            [
             0.4,
             "#fde0ef"
            ],
            [
             0.5,
             "#f7f7f7"
            ],
            [
             0.6,
             "#e6f5d0"
            ],
            [
             0.7,
             "#b8e186"
            ],
            [
             0.8,
             "#7fbc41"
            ],
            [
             0.9,
             "#4d9221"
            ],
            [
             1,
             "#276419"
            ]
           ],
           "sequential": [
            [
             0,
             "#0d0887"
            ],
            [
             0.1111111111111111,
             "#46039f"
            ],
            [
             0.2222222222222222,
             "#7201a8"
            ],
            [
             0.3333333333333333,
             "#9c179e"
            ],
            [
             0.4444444444444444,
             "#bd3786"
            ],
            [
             0.5555555555555556,
             "#d8576b"
            ],
            [
             0.6666666666666666,
             "#ed7953"
            ],
            [
             0.7777777777777778,
             "#fb9f3a"
            ],
            [
             0.8888888888888888,
             "#fdca26"
            ],
            [
             1,
             "#f0f921"
            ]
           ],
           "sequentialminus": [
            [
             0,
             "#0d0887"
            ],
            [
             0.1111111111111111,
             "#46039f"
            ],
            [
             0.2222222222222222,
             "#7201a8"
            ],
            [
             0.3333333333333333,
             "#9c179e"
            ],
            [
             0.4444444444444444,
             "#bd3786"
            ],
            [
             0.5555555555555556,
             "#d8576b"
            ],
            [
             0.6666666666666666,
             "#ed7953"
            ],
            [
             0.7777777777777778,
             "#fb9f3a"
            ],
            [
             0.8888888888888888,
             "#fdca26"
            ],
            [
             1,
             "#f0f921"
            ]
           ]
          },
          "colorway": [
           "#636efa",
           "#EF553B",
           "#00cc96",
           "#ab63fa",
           "#FFA15A",
           "#19d3f3",
           "#FF6692",
           "#B6E880",
           "#FF97FF",
           "#FECB52"
          ],
          "font": {
           "color": "#2a3f5f"
          },
          "geo": {
           "bgcolor": "white",
           "lakecolor": "white",
           "landcolor": "#E5ECF6",
           "showlakes": true,
           "showland": true,
           "subunitcolor": "white"
          },
          "hoverlabel": {
           "align": "left"
          },
          "hovermode": "closest",
          "mapbox": {
           "style": "light"
          },
          "paper_bgcolor": "white",
          "plot_bgcolor": "#E5ECF6",
          "polar": {
           "angularaxis": {
            "gridcolor": "white",
            "linecolor": "white",
            "ticks": ""
           },
           "bgcolor": "#E5ECF6",
           "radialaxis": {
            "gridcolor": "white",
            "linecolor": "white",
            "ticks": ""
           }
          },
          "scene": {
           "xaxis": {
            "backgroundcolor": "#E5ECF6",
            "gridcolor": "white",
            "gridwidth": 2,
            "linecolor": "white",
            "showbackground": true,
            "ticks": "",
            "zerolinecolor": "white"
           },
           "yaxis": {
            "backgroundcolor": "#E5ECF6",
            "gridcolor": "white",
            "gridwidth": 2,
            "linecolor": "white",
            "showbackground": true,
            "ticks": "",
            "zerolinecolor": "white"
           },
           "zaxis": {
            "backgroundcolor": "#E5ECF6",
            "gridcolor": "white",
            "gridwidth": 2,
            "linecolor": "white",
            "showbackground": true,
            "ticks": "",
            "zerolinecolor": "white"
           }
          },
          "shapedefaults": {
           "line": {
            "color": "#2a3f5f"
           }
          },
          "ternary": {
           "aaxis": {
            "gridcolor": "white",
            "linecolor": "white",
            "ticks": ""
           },
           "baxis": {
            "gridcolor": "white",
            "linecolor": "white",
            "ticks": ""
           },
           "bgcolor": "#E5ECF6",
           "caxis": {
            "gridcolor": "white",
            "linecolor": "white",
            "ticks": ""
           }
          },
          "title": {
           "x": 0.05
          },
          "xaxis": {
           "automargin": true,
           "gridcolor": "white",
           "linecolor": "white",
           "ticks": "",
           "title": {
            "standoff": 15
           },
           "zerolinecolor": "white",
           "zerolinewidth": 2
          },
          "yaxis": {
           "automargin": true,
           "gridcolor": "white",
           "linecolor": "white",
           "ticks": "",
           "title": {
            "standoff": 15
           },
           "zerolinecolor": "white",
           "zerolinewidth": 2
          }
         }
        },
        "title": {
         "text": "Barchart of the most frequent words"
        },
        "yaxis": {
         "title": {
          "text": "word frequency"
         },
         "type": "log"
        }
       }
      }
     },
     "metadata": {},
     "output_type": "display_data"
    }
   ],
   "source": [
    "cntr = collections.Counter( filtered_text )\n",
    "ws, cnt = zip( *cntr.most_common() )\n",
    "\n",
    "fig = go.Figure([go.Bar(x=ws[:20], y=cnt[:20], marker_color = 'rgb(17,165,121)')])\n",
    "fig.update_yaxes(type=\"log\")\n",
    "\n",
    "fig.update_traces(marker_line_color='rgb(17,165,121)',\n",
    "                  marker_line_width=0.5, opacity=0.6)\n",
    "\n",
    "fig.update_layout(title=\"Barchart of the most frequent words\",\n",
    "                  yaxis_title=\"word frequency\",)\n",
    "\n",
    "fig.show()"
   ]
  },
  {
   "cell_type": "code",
   "execution_count": 45,
   "metadata": {},
   "outputs": [
    {
     "data": {
      "text/plain": [
       "('is',\n",
       " 'ha',\n",
       " 'mzp',\n",
       " 'fidesz',\n",
       " '\\n\\n',\n",
       " 'dobrev',\n",
       " '\\n',\n",
       " 'szerintem',\n",
       " 'ő',\n",
       " 'karácsony',\n",
       " 'dk',\n",
       " 'es',\n",
       " 'se',\n",
       " 'szavazni',\n",
       " 'gyurcsány',\n",
       " 'fog',\n",
       " 'le',\n",
       " 'orbán',\n",
       " 'ellenzéki',\n",
       " 'ember',\n",
       " 'miatt',\n",
       " 'tudom',\n",
       " 'jelölt',\n",
       " 'magyar',\n",
       " 'inkább',\n",
       " 't',\n",
       " 'fideszes',\n",
       " 'tényleg',\n",
       " 'kb',\n",
       " 'emberek',\n",
       " 'első',\n",
       " 'hát',\n",
       " 'politikai',\n",
       " 'amúgy',\n",
       " 'biztos',\n",
       " 'jobb',\n",
       " 'the',\n",
       " 'ellenzék',\n",
       " 'annyira',\n",
       " 'na',\n",
       " 'online',\n",
       " 'kicsit',\n",
       " 'pont',\n",
       " 'két',\n",
       " 'második',\n",
       " 'sajnos',\n",
       " 'jakab',\n",
       " 'teljesen',\n",
       " 'ők',\n",
       " 'párt',\n",
       " 'miniszterelnök',\n",
       " 'tudja',\n",
       " 'te',\n",
       " 'szóval',\n",
       " 'megy',\n",
       " 'ben',\n",
       " '\\n\\na',\n",
       " 'mondjuk',\n",
       " 'pár',\n",
       " 'mszp',\n",
       " 'kormány',\n",
       " 'h',\n",
       " 'őket',\n",
       " 'pl',\n",
       " 'előválasztás',\n",
       " 'zay',\n",
       " 'megint',\n",
       " 'senki',\n",
       " 'ország',\n",
       " 'márki',\n",
       " 'tud',\n",
       " 'péter',\n",
       " 'kéne',\n",
       " 'd',\n",
       " 'nyer',\n",
       " 'év',\n",
       " 'kellene',\n",
       " 'nekik',\n",
       " 'ban',\n",
       " 'értem',\n",
       " 'mind',\n",
       " 'mar',\n",
       " 'alapján',\n",
       " 'túl',\n",
       " 'kis',\n",
       " 'ön',\n",
       " 'előtt',\n",
       " 're',\n",
       " 'ma',\n",
       " 'karigeri',\n",
       " 'remélem',\n",
       " 'gondolom',\n",
       " 'akar',\n",
       " 'esetleg',\n",
       " 'rossz',\n",
       " 'jobbik',\n",
       " 'stb',\n",
       " 'fogja',\n",
       " 'fognak',\n",
       " 'to',\n",
       " 'dolog',\n",
       " 'egyébként',\n",
       " 'mennyire',\n",
       " 'momentum',\n",
       " 'lehetne',\n",
       " 'összes',\n",
       " 'választás',\n",
       " 'akár',\n",
       " 'kedves',\n",
       " 'sokan',\n",
       " 'mondta',\n",
       " 'mégis',\n",
       " 'baj',\n",
       " 'kurva',\n",
       " 'szavazók',\n",
       " 'éve',\n",
       " 'kg',\n",
       " 'kérdés',\n",
       " 'szar',\n",
       " 'x',\n",
       " 'végre',\n",
       " 'nap',\n",
       " 'tóth',\n",
       " 'attól',\n",
       " 'komolyan',\n",
       " 'egyszer',\n",
       " 'ugye',\n",
       " 'rendszer',\n",
       " 'látom',\n",
       " 'ennyi',\n",
       " 'semmit',\n",
       " 'ra',\n",
       " 'mindegy',\n",
       " 'fogok',\n",
       " 'jön',\n",
       " 'erről',\n",
       " 'of',\n",
       " 'előre',\n",
       " 'része',\n",
       " 'áll',\n",
       " 'legnagyobb',\n",
       " 'igaz',\n",
       " 'klára',\n",
       " 'simán',\n",
       " 'valamit',\n",
       " 'oda',\n",
       " '\\n\\naz',\n",
       " 'viktor',\n",
       " 'ebből',\n",
       " 'összefogás',\n",
       " 'melyik',\n",
       " 'xb',\n",
       " 'szavazok',\n",
       " 'szó',\n",
       " 'óta',\n",
       " 'annyi',\n",
       " 'marad',\n",
       " 'helyett',\n",
       " 'országot',\n",
       " 'akinek',\n",
       " 'tűnik',\n",
       " 'visszalép',\n",
       " 'addig',\n",
       " 'en',\n",
       " 'igazán',\n",
       " 'hol',\n",
       " 'többi',\n",
       " 'választási',\n",
       " 'együtt',\n",
       " 'hozzá',\n",
       " 'szavazat',\n",
       " 'ennyire',\n",
       " 'nek',\n",
       " 'javára',\n",
       " 'stop',\n",
       " 'r',\n",
       " 'tudok',\n",
       " 'elmúlt',\n",
       " 'valószínűleg',\n",
       " '\\n\\nha',\n",
       " 'nyilván',\n",
       " 'this',\n",
       " 'jött',\n",
       " 'engem',\n",
       " 'szavaztam',\n",
       " 'csaba',\n",
       " 'vita',\n",
       " 'lép',\n",
       " 'i',\n",
       " 'politikus',\n",
       " 'nyerni',\n",
       " 'egyáltalán',\n",
       " 'közös',\n",
       " 'fiatal',\n",
       " 'előválasztást',\n",
       " 'dobrevre',\n",
       " 'embert',\n",
       " 'esélye',\n",
       " 'eu',\n",
       " 'tetszik',\n",
       " 'róla',\n",
       " 'tudnak',\n",
       " 'őt',\n",
       " 'tenni',\n",
       " 'fideszre',\n",
       " 'mondani',\n",
       " 'and',\n",
       " 'láttam',\n",
       " 'tudják',\n",
       " 'sikerült',\n",
       " 'egyet',\n",
       " 'subreddit',\n",
       " 'as',\n",
       " 'következő',\n",
       " 'ezer',\n",
       " 'igazából',\n",
       " 'lesznek',\n",
       " 'ezeket',\n",
       " 'ment',\n",
       " 'végén',\n",
       " 'érdekel',\n",
       " 'közben',\n",
       " 'szavazó',\n",
       " 'szavazás',\n",
       " '\\n\\nnem',\n",
       " 'tudni',\n",
       " 'os',\n",
       " 'mondja',\n",
       " 'többet',\n",
       " 'egyszerűen',\n",
       " 'bele',\n",
       " '\\r',\n",
       " 'fontos',\n",
       " 'probléma',\n",
       " 'magyarországon',\n",
       " 'fél',\n",
       " 'jövőre',\n",
       " 'politika',\n",
       " 'feri',\n",
       " 'értelme',\n",
       " 'akarja',\n",
       " 'dobrevet',\n",
       " 'szavaz',\n",
       " 'vagyunk',\n",
       " 'előválasztáson',\n",
       " 'választáson',\n",
       " 'ja',\n",
       " 'jobboldali',\n",
       " 'fogják',\n",
       " 'fideszt',\n",
       " 'rajta',\n",
       " 'annyit',\n",
       " 'valóban',\n",
       " 'nehéz',\n",
       " 'ugyan',\n",
       " '–',\n",
       " 'fegyőr',\n",
       " 'jelenlegi',\n",
       " 'soha',\n",
       " 'főleg',\n",
       " 'pénz',\n",
       " 'tisztelt',\n",
       " 'ot',\n",
       " 'érdekes',\n",
       " 'fidesznek',\n",
       " 'számomra',\n",
       " 'perc',\n",
       " 'magyarország',\n",
       " 'esetén',\n",
       " 'ide',\n",
       " 'bárki',\n",
       " 'pártok',\n",
       " 'propaganda',\n",
       " 'kevés',\n",
       " 'jelenleg',\n",
       " 'sincs',\n",
       " 'sőt',\n",
       " '\\n\\nedit',\n",
       " 'ok',\n",
       " 'm',\n",
       " 'akarnak',\n",
       " 'pontosan',\n",
       " 'esetben',\n",
       " 'akit',\n",
       " 'n',\n",
       " 'lassan',\n",
       " 'ner',\n",
       " 'on',\n",
       " '\\n\\nde',\n",
       " 'mondom',\n",
       " 'fordulóban',\n",
       " 'képes',\n",
       " 'rájuk',\n",
       " 'embereket',\n",
       " 'mennek',\n",
       " 'baloldali',\n",
       " 'hiszem',\n",
       " 'szép',\n",
       " 'adott',\n",
       " 'fekete',\n",
       " 'soros',\n",
       " 'választást',\n",
       " 'éves',\n",
       " 'legtöbb',\n",
       " '\\n\\r',\n",
       " 'geri',\n",
       " 'mindenkinek',\n",
       " 'nő',\n",
       " 'mond',\n",
       " 'mögé',\n",
       " 'tőle',\n",
       " 'pénzt',\n",
       " 'mennyi',\n",
       " 'hasonló',\n",
       " 'you',\n",
       " 'szépen',\n",
       " 'ellenére',\n",
       " 'hülye',\n",
       " 'plusz',\n",
       " 'mekkora',\n",
       " 'látszik',\n",
       " 'hadházy',\n",
       " 'egyedül',\n",
       " 'képest',\n",
       " 'legjobb',\n",
       " 'működik',\n",
       " 'csinálni',\n",
       " 'függetlenül',\n",
       " 'például',\n",
       " 'erős',\n",
       " 'számít',\n",
       " 'tegnap',\n",
       " 'it',\n",
       " 'folyamatosan',\n",
       " 'lol',\n",
       " 'miközben',\n",
       " 'mkkp',\n",
       " 'gazdasági',\n",
       " 'alá',\n",
       " 'belőle',\n",
       " 'spam',\n",
       " 'hungary',\n",
       " 'végül',\n",
       " 'emiatt',\n",
       " 'szimpatikus',\n",
       " 'jelöltek',\n",
       " 'eléggé',\n",
       " 'személyesen',\n",
       " 'látni',\n",
       " 'külön',\n",
       " 'et',\n",
       " 'jut',\n",
       " 'itthon',\n",
       " 'érdemes',\n",
       " 'vajon',\n",
       " 'karácsonyt',\n",
       " 'minek',\n",
       " 'menni',\n",
       " 'kevesebb',\n",
       " 'országban',\n",
       " 'mire',\n",
       " 'nézni',\n",
       " 'kampány',\n",
       " 'szinten',\n",
       " 'keresztény',\n",
       " 'magam',\n",
       " 'helyzet',\n",
       " 'úgyhogy',\n",
       " 'o',\n",
       " 'gyerek',\n",
       " 'youtube',\n",
       " 'köszi',\n",
       " 'gergely',\n",
       " 'először',\n",
       " 'biztosan',\n",
       " 'igazi',\n",
       " 'venni',\n",
       " 'szól',\n",
       " 'mai',\n",
       " 'szavazatot',\n",
       " 'igy',\n",
       " 'konzervatív',\n",
       " 'szavaznak',\n",
       " 'megvan',\n",
       " 'mindenkit',\n",
       " 'rengeteg',\n",
       " 'kire',\n",
       " 'egymás',\n",
       " '\\n\\n\\n',\n",
       " 'hirtelen',\n",
       " 'k',\n",
       " 'budapest',\n",
       " 'tudjuk',\n",
       " '\\n\\nez',\n",
       " 'valahogy',\n",
       " 'automatically',\n",
       " 'módon',\n",
       " 'kevésbé',\n",
       " 'poszt',\n",
       " 'továbbra',\n",
       " 'kurvára',\n",
       " 'mondott',\n",
       " 'helyen',\n",
       " 'vitát',\n",
       " 'nak',\n",
       " 'tök',\n",
       " 'jo',\n",
       " 'köszönöm',\n",
       " 'kibaszott',\n",
       " 'kíváncsi',\n",
       " 'csinál',\n",
       " 'épp',\n",
       " 'abból',\n",
       " 'ugyanúgy',\n",
       " 'dolgokat',\n",
       " 'harmadik',\n",
       " 'in',\n",
       " 'megyek',\n",
       " 'kormányváltás',\n",
       " 'szabad',\n",
       " 'európai',\n",
       " 'oké',\n",
       " 'politikusok',\n",
       " 'embernek',\n",
       " 'kapcsolatban',\n",
       " 'tartom',\n",
       " 'sub',\n",
       " 'ettől',\n",
       " 'fgya',\n",
       " 'fideszesek',\n",
       " 'gondol',\n",
       " 'úr',\n",
       " 'nyeri',\n",
       " 'történt',\n",
       " 'nyert',\n",
       " 'akkora',\n",
       " 'indul',\n",
       " '\\na',\n",
       " 'kapott',\n",
       " 'helyi',\n",
       " 'hatalmas',\n",
       " 'akarok',\n",
       " 'magukat',\n",
       " 'konkrétan',\n",
       " 'dolgok',\n",
       " 'három',\n",
       " 'szavazott',\n",
       " 'fiatalok',\n",
       " 'érte',\n",
       " 'mostani',\n",
       " 'győr',\n",
       " 'jelöltre',\n",
       " 'évben',\n",
       " 'miert',\n",
       " 'múlva',\n",
       " 'állami',\n",
       " 'ilyet',\n",
       " 'nálunk',\n",
       " 'egyszerű',\n",
       " 'komoly',\n",
       " 'bot',\n",
       " 'lennék',\n",
       " 'reggel',\n",
       " 'normális',\n",
       " 'semmilyen',\n",
       " 'millió',\n",
       " 'minél',\n",
       " 'hajrá',\n",
       " 'neked',\n",
       " 'szart',\n",
       " 'bármi',\n",
       " 'azokat',\n",
       " 'egyéni',\n",
       " 'később',\n",
       " 'milliárd',\n",
       " 'szavazókat',\n",
       " 'partizán',\n",
       " 'ti',\n",
       " 'automatikusan',\n",
       " 'fele',\n",
       " 'kérdést',\n",
       " 'valahol',\n",
       " 'úgyis',\n",
       " 'esély',\n",
       " 'ér',\n",
       " 'oldal',\n",
       " 'utóbbi',\n",
       " 'részt',\n",
       " 'jutott',\n",
       " 'hiába',\n",
       " 'gyorsan',\n",
       " 'tv',\n",
       " 'rég',\n",
       " 'tudod',\n",
       " 'tuti',\n",
       " 'ráadásul',\n",
       " 'körben',\n",
       " 'korrupció',\n",
       " 'facebook',\n",
       " 'majdnem',\n",
       " 'alig',\n",
       " 'hittem',\n",
       " 'idő',\n",
       " 'vége',\n",
       " 'eszembe',\n",
       " 'kép',\n",
       " 'akarják',\n",
       " 'független',\n",
       " 'gond',\n",
       " 'orbánt',\n",
       " 'szívesen',\n",
       " 'leszek',\n",
       " 'szavaznék',\n",
       " 'ellene',\n",
       " 'este',\n",
       " 'ideje',\n",
       " 'kormányt',\n",
       " 'kár',\n",
       " 'elő',\n",
       " 'forint',\n",
       " 'előbb',\n",
       " 'eleve',\n",
       " 'op',\n",
       " 'otthon',\n",
       " 'not',\n",
       " 'mögött',\n",
       " 'valódi',\n",
       " 'nép',\n",
       " 'amivel',\n",
       " 'olvasni',\n",
       " 'at',\n",
       " 'hallottam',\n",
       " 'szavaztak',\n",
       " 'hány',\n",
       " 'dolgot',\n",
       " 'max',\n",
       " 'ad',\n",
       " 'végig',\n",
       " 'hisz',\n",
       " 'sosem',\n",
       " 'ennél',\n",
       " 'óra',\n",
       " 'azóta',\n",
       " 'szintén',\n",
       " 'napi',\n",
       " 'igaza',\n",
       " 'jelenti',\n",
       " 'mások',\n",
       " 'szavazna',\n",
       " 'subon',\n",
       " 'választások',\n",
       " 'szavazói',\n",
       " 'kettő',\n",
       " 'ugy',\n",
       " 'jár',\n",
       " 'korábban',\n",
       " 'rendszert',\n",
       " 'olvastam',\n",
       " 'hatalom',\n",
       " 'me',\n",
       " 'demokrácia',\n",
       " 'kap',\n",
       " 'szeretném',\n",
       " 'szeretnék',\n",
       " 'reddit',\n",
       " 'oldalon',\n",
       " 'akart',\n",
       " 'videó',\n",
       " 'kerül',\n",
       " 'gáz',\n",
       " 'hét',\n",
       " 'világ',\n",
       " 'forduló',\n",
       " 'leginkább',\n",
       " 'eredmény',\n",
       " 'jelent',\n",
       " 'társadalmi',\n",
       " 'állam',\n",
       " 'ov',\n",
       " 'lmp',\n",
       " 'was',\n",
       " 'mindenhol',\n",
       " 'dobrevnek',\n",
       " 'évig',\n",
       " 'ugyanaz',\n",
       " 'amire',\n",
       " 'többen',\n",
       " 'adni',\n",
       " 'elmenni',\n",
       " 'for',\n",
       " 'országos',\n",
       " 'korrupt',\n",
       " 'néz',\n",
       " 'kérlek',\n",
       " 'karácsonyra',\n",
       " 'bizonyos',\n",
       " 'tudtam',\n",
       " 'látja',\n",
       " 'posztodat',\n",
       " 'töröltük',\n",
       " 'legjobban',\n",
       " 'fasz',\n",
       " 'szegény',\n",
       " 'tett',\n",
       " 'balos',\n",
       " 'amik',\n",
       " 'beszél',\n",
       " 'közvélemény',\n",
       " 'ingyen',\n",
       " 'ért',\n",
       " 'értek',\n",
       " 'mellé',\n",
       " 'gyurcsany',\n",
       " 'örülnék',\n",
       " 'szükség',\n",
       " 'miután',\n",
       " 'random',\n",
       " 'felesleges',\n",
       " 'személyes',\n",
       " 'b',\n",
       " 'előválasztási',\n",
       " 'négy',\n",
       " 'very',\n",
       " 'have',\n",
       " 'örülök',\n",
       " 'képviselő',\n",
       " 'isten',\n",
       " 'messze',\n",
       " 'kérdésem',\n",
       " 'esetleges',\n",
       " 'támogatja',\n",
       " 'érzem',\n",
       " 'alapon',\n",
       " 'tartja',\n",
       " 'demokratikus',\n",
       " 'személy',\n",
       " 'vs',\n",
       " 'amiben',\n",
       " 'beszélni',\n",
       " 'véletlenül',\n",
       " 'mögötte',\n",
       " '\\n\\nén',\n",
       " 'gyakorlatilag',\n",
       " 'haza',\n",
       " 'mást',\n",
       " 'társadalom',\n",
       " 'sikerül',\n",
       " 'anno',\n",
       " 'faszom',\n",
       " 'átlag',\n",
       " 'fő',\n",
       " 'kinek',\n",
       " 'gondolja',\n",
       " 'tavasszal',\n",
       " 'magyarok',\n",
       " 'alapvetően',\n",
       " '\\n\\nés',\n",
       " 'kínai',\n",
       " 'gyereket',\n",
       " 'has',\n",
       " 'am',\n",
       " 'őszintén',\n",
       " 'geci',\n",
       " 'nekünk',\n",
       " 'tudott',\n",
       " 'tele',\n",
       " 'szavazz',\n",
       " 'hátha',\n",
       " 'lehetőség',\n",
       " 'maradt',\n",
       " 'legalábbis',\n",
       " 'fidesszel',\n",
       " 'al',\n",
       " 'szavazatok',\n",
       " 'akiknek',\n",
       " 'annál',\n",
       " 'liberális',\n",
       " 'erősen',\n",
       " 'vicces',\n",
       " 'from',\n",
       " 'or',\n",
       " 'évek',\n",
       " 'nincsenek',\n",
       " 'egyértelmű',\n",
       " 'menjen',\n",
       " 'ellenzéket',\n",
       " 'ezeknek',\n",
       " 'természetesen',\n",
       " 'kisebb',\n",
       " 'hivatalos',\n",
       " 'hiteles',\n",
       " 'aminek',\n",
       " 'kezd',\n",
       " 'sose',\n",
       " 'telex',\n",
       " 'élő',\n",
       " 'hosszú',\n",
       " 'egyértelműen',\n",
       " 'többség',\n",
       " 'létezik',\n",
       " 'nyerjen',\n",
       " 'csomó',\n",
       " 'jövő',\n",
       " 'rendes',\n",
       " 'eredeti',\n",
       " 'rosszabb',\n",
       " 'eleg',\n",
       " 'kor',\n",
       " 'magának',\n",
       " 'magas',\n",
       " '\\n\\namúgy',\n",
       " 'velük',\n",
       " 'innen',\n",
       " 'tart',\n",
       " 'load',\n",
       " 'please',\n",
       " 'if',\n",
       " 'pozitív',\n",
       " 'villamos',\n",
       " 'ferenc',\n",
       " 'zavar',\n",
       " 'embere',\n",
       " 'amiket',\n",
       " 'lennének',\n",
       " 'valakit',\n",
       " 'kit',\n",
       " 'egymást',\n",
       " 'gyurcsányt',\n",
       " 'holnap',\n",
       " 'amiért',\n",
       " 'bármilyen',\n",
       " '\\n\\nszóval',\n",
       " 'nagyjából',\n",
       " 'történik',\n",
       " 'no',\n",
       " 'senkit',\n",
       " 'szomorú',\n",
       " 'valakinek',\n",
       " 'kormányzás',\n",
       " 'tartani',\n",
       " 'vidéki',\n",
       " 'egészet',\n",
       " 'ft',\n",
       " 'lehessen',\n",
       " 'körül',\n",
       " 'new',\n",
       " 'concerns',\n",
       " 'vel',\n",
       " 'mennyit',\n",
       " 'háttérben',\n",
       " 'orban',\n",
       " 'szavazzon',\n",
       " 'média',\n",
       " 'karacsony',\n",
       " 'neve',\n",
       " 'jelöltet',\n",
       " 'legfontosabb',\n",
       " 'fordulót',\n",
       " 'been',\n",
       " 'any',\n",
       " 'munka',\n",
       " 'andrás',\n",
       " 'fogom',\n",
       " 'korrekt',\n",
       " 'azert',\n",
       " 'ig',\n",
       " 'hajlandó',\n",
       " 'állnak',\n",
       " 'vagytok',\n",
       " 'akarom',\n",
       " 'fb',\n",
       " 'rosszul',\n",
       " '\\n\\nszerintem',\n",
       " 'momentumos',\n",
       " 'győztes',\n",
       " 'legközelebb',\n",
       " 'xd',\n",
       " 'néztem',\n",
       " 'jót',\n",
       " 'tudná',\n",
       " 'mindkét',\n",
       " 'szavaznának',\n",
       " 'család',\n",
       " 'német',\n",
       " 'bármit',\n",
       " 'does',\n",
       " 'került',\n",
       " 'reklám',\n",
       " 'hír',\n",
       " 'jelentős',\n",
       " 'csoda',\n",
       " 'visszalépni',\n",
       " 'bármelyik',\n",
       " 'akarsz',\n",
       " 'konkrét',\n",
       " 'f',\n",
       " 'mindegyik',\n",
       " 'nehogy',\n",
       " 'lévő',\n",
       " 'megnyeri',\n",
       " 'nincsen',\n",
       " '\\nha',\n",
       " 'részéről',\n",
       " 'tudna',\n",
       " 'valós',\n",
       " 'népszerű',\n",
       " 'mindkettő',\n",
       " 'nálam',\n",
       " 'tesz',\n",
       " 'állt',\n",
       " 'néni',\n",
       " 'action',\n",
       " 'előtti',\n",
       " 'országnak',\n",
       " 'eddigi',\n",
       " 'minimum',\n",
       " 'zöld',\n",
       " 'várom',\n",
       " '\\n\\nmzp',\n",
       " 'p',\n",
       " 'csinált',\n",
       " 'szét',\n",
       " 'megoldás',\n",
       " 'bőven',\n",
       " 'különben',\n",
       " 'vezeti',\n",
       " 'like',\n",
       " 'fidess',\n",
       " 'baloldal',\n",
       " 'vidéken',\n",
       " 'ellenzékre',\n",
       " 'polgármester',\n",
       " 'parlamenti',\n",
       " 'pártot',\n",
       " 'gondoltam',\n",
       " 'beszélt',\n",
       " 'érdekli',\n",
       " 'kutyapárt',\n",
       " 'gondolok',\n",
       " 'kedvenc',\n",
       " 'választ',\n",
       " 'százalék',\n",
       " 'hétvégén',\n",
       " 'tudsz',\n",
       " 'kelljen',\n",
       " 'minket',\n",
       " 'abszolút',\n",
       " 'dolgozni',\n",
       " 'többször',\n",
       " 'removed',\n",
       " 'due',\n",
       " 'show',\n",
       " 'helyes',\n",
       " 'gyerekek',\n",
       " '”',\n",
       " 'kaptam',\n",
       " 'koalíció',\n",
       " 'v',\n",
       " 'érdekelne',\n",
       " 'rendszerváltás',\n",
       " 'valójában',\n",
       " 'amugy',\n",
       " 'csinálja',\n",
       " 'kiderült',\n",
       " 'sehol',\n",
       " 'eséllyel',\n",
       " 'fasza',\n",
       " 'valamilyen',\n",
       " 'valamelyik',\n",
       " 'egyrészt',\n",
       " 'elején',\n",
       " 'szavazatokat',\n",
       " 'számok',\n",
       " 'utan',\n",
       " 'ebbe',\n",
       " 'megfelelő',\n",
       " 'féle',\n",
       " 'érdekében',\n",
       " '\\n\\negy',\n",
       " 'direkt',\n",
       " 'meglepő',\n",
       " 'submission',\n",
       " 'increased',\n",
       " 'questions',\n",
       " 'kamu',\n",
       " 'origo',\n",
       " 'kezdve',\n",
       " 'tiszta',\n",
       " 'szeretne',\n",
       " 'ötlet',\n",
       " 'további',\n",
       " 'tudta',\n",
       " 'teszi',\n",
       " 'kétharmad',\n",
       " 'nyerne',\n",
       " 'with',\n",
       " 'írni',\n",
       " 'amennyiben',\n",
       " 'kifejezetten',\n",
       " 'köze',\n",
       " 'véletlen',\n",
       " 'hozni',\n",
       " 'értelmes',\n",
       " 'választani',\n",
       " 'ellenzéknek',\n",
       " 'mégsem',\n",
       " 'cél',\n",
       " 'szavazol',\n",
       " '\\n\\ncsak',\n",
       " 'jobbos',\n",
       " 'ahelyett',\n",
       " 'véleménye',\n",
       " 'elnök',\n",
       " 'elszaporodott',\n",
       " 'engedélyezi',\n",
       " 'accountoknak',\n",
       " 'posztolást',\n",
       " '\\nyour',\n",
       " 'allow',\n",
       " 'posts',\n",
       " 'accounts',\n",
       " 'performed',\n",
       " 'contact',\n",
       " 'moderators',\n",
       " 'message',\n",
       " 'compose',\n",
       " 'lépni',\n",
       " 'különböző',\n",
       " 'abba',\n",
       " 'héten',\n",
       " 'sikert',\n",
       " 'lehetséges',\n",
       " 'előző',\n",
       " 'egészen',\n",
       " 'hatalomra',\n",
       " 'től',\n",
       " 'különbség',\n",
       " 'menne',\n",
       " 'támogatni',\n",
       " 'kormányozni',\n",
       " 'felesége',\n",
       " 'vicc',\n",
       " 'fontosabb',\n",
       " 'oktatás',\n",
       " 'lényeg',\n",
       " 'hete',\n",
       " 'régi',\n",
       " 'másrészt',\n",
       " 'eredmények',\n",
       " 'sztem',\n",
       " 'célja',\n",
       " 'állandó',\n",
       " 'opció',\n",
       " 'parlamentben',\n",
       " 'vezető',\n",
       " 'nemzeti',\n",
       " 'mer',\n",
       " 'elmegy',\n",
       " 'váltani',\n",
       " 'hat',\n",
       " 'sorban',\n",
       " 'példa',\n",
       " 'évvel',\n",
       " 'téma',\n",
       " 'szeptember',\n",
       " 'állni',\n",
       " 'adja',\n",
       " 'sokszor',\n",
       " 'jelöltje',\n",
       " 'mostmár',\n",
       " 'korábbi',\n",
       " 'jaj',\n",
       " 'tisztában',\n",
       " '\\nde',\n",
       " 'országgyűlési',\n",
       " 'bal',\n",
       " 'nyugdíjas',\n",
       " 'picit',\n",
       " 'elvileg',\n",
       " 'felett',\n",
       " 'képet',\n",
       " 'élni',\n",
       " 'rohadt',\n",
       " 'jelolt',\n",
       " 'győzelem',\n",
       " 'mondták',\n",
       " 'interjú',\n",
       " 'parlamentbe',\n",
       " 'rtl',\n",
       " 'amelyik',\n",
       " '\\nkérlek',\n",
       " 'atv',\n",
       " 'klári',\n",
       " 'vona',\n",
       " 'akire',\n",
       " 'személyi',\n",
       " 'amint',\n",
       " 'program',\n",
       " 'redditen',\n",
       " 'ekkora',\n",
       " ...)"
      ]
     },
     "execution_count": 45,
     "metadata": {},
     "output_type": "execute_result"
    }
   ],
   "source": [
    "ws"
   ]
  }
 ],
 "metadata": {
  "interpreter": {
   "hash": "ed8eca2b220cf1e27a3481ffdb2c31f1e299e2d8073166b9e2e1c30297a93942"
  },
  "kernelspec": {
   "display_name": "Python 3.8.5 64-bit ('base': conda)",
   "name": "python3"
  },
  "language_info": {
   "codemirror_mode": {
    "name": "ipython",
    "version": 3
   },
   "file_extension": ".py",
   "mimetype": "text/x-python",
   "name": "python",
   "nbconvert_exporter": "python",
   "pygments_lexer": "ipython3",
   "version": "3.8.5"
  },
  "orig_nbformat": 4
 },
 "nbformat": 4,
 "nbformat_minor": 2
}
