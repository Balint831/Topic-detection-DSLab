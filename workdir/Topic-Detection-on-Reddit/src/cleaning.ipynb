{
 "cells": [
  {
   "cell_type": "code",
   "execution_count": 2,
   "metadata": {},
   "outputs": [],
   "source": [
    "import pandas as pd\n",
    "import numpy as np\n",
    "\n",
    "import re\n",
    "import matplotlib.pyplot as plt\n",
    "import plotly.express as px\n",
    "\n",
    "import collections\n",
    "from plotly import graph_objects as go\n",
    "import emoji\n",
    "\n",
    "import sys\n",
    "sys.path.append(\"..\")\n",
    "\n",
    "flatten = lambda t: [item for sublist in t for item in sublist]\n",
    "def deEmojify(text):\n",
    "    regrex_pattern = re.compile(pattern = \"[\"\n",
    "        u\"\\U0001F600-\\U0001F64F\"  # emoticons\n",
    "        u\"\\U0001F300-\\U0001F5FF\"  # symbols & pictographs\n",
    "        u\"\\U0001F680-\\U0001F6FF\"  # transport & map symbols\n",
    "        u\"\\U0001F1E0-\\U0001F1FF\"  # flags (iOS)\n",
    "                           \"]+\", flags = re.UNICODE)\n",
    "    return regrex_pattern.sub(r'',text)"
   ]
  },
  {
   "cell_type": "code",
   "execution_count": 3,
   "metadata": {},
   "outputs": [
    {
     "data": {
      "text/html": [
       "<div>\n",
       "<style scoped>\n",
       "    .dataframe tbody tr th:only-of-type {\n",
       "        vertical-align: middle;\n",
       "    }\n",
       "\n",
       "    .dataframe tbody tr th {\n",
       "        vertical-align: top;\n",
       "    }\n",
       "\n",
       "    .dataframe thead th {\n",
       "        text-align: right;\n",
       "    }\n",
       "</style>\n",
       "<table border=\"1\" class=\"dataframe\">\n",
       "  <thead>\n",
       "    <tr style=\"text-align: right;\">\n",
       "      <th></th>\n",
       "      <th>Unnamed: 0</th>\n",
       "      <th>comment_id</th>\n",
       "      <th>text</th>\n",
       "      <th>author</th>\n",
       "      <th>upvotes</th>\n",
       "      <th>timestamp</th>\n",
       "      <th>post_id</th>\n",
       "      <th>lens</th>\n",
       "    </tr>\n",
       "  </thead>\n",
       "  <tbody>\n",
       "    <tr>\n",
       "      <th>0</th>\n",
       "      <td>0</td>\n",
       "      <td>hfu3t3z</td>\n",
       "      <td>Minden oké otthon?</td>\n",
       "      <td>drakvuf</td>\n",
       "      <td>15</td>\n",
       "      <td>1633686153</td>\n",
       "      <td>q3uef4</td>\n",
       "      <td>3</td>\n",
       "    </tr>\n",
       "    <tr>\n",
       "      <th>1</th>\n",
       "      <td>1</td>\n",
       "      <td>hfu3wlv</td>\n",
       "      <td>Ez azért elég izzadtságszagú azt tekintve, hog...</td>\n",
       "      <td>Debre1024</td>\n",
       "      <td>6</td>\n",
       "      <td>1633686239</td>\n",
       "      <td>q3uef4</td>\n",
       "      <td>15</td>\n",
       "    </tr>\n",
       "    <tr>\n",
       "      <th>2</th>\n",
       "      <td>2</td>\n",
       "      <td>hfu491h</td>\n",
       "      <td>téged ki bántott :(</td>\n",
       "      <td>Endymion2748</td>\n",
       "      <td>6</td>\n",
       "      <td>1633686552</td>\n",
       "      <td>q3uef4</td>\n",
       "      <td>4</td>\n",
       "    </tr>\n",
       "    <tr>\n",
       "      <th>3</th>\n",
       "      <td>3</td>\n",
       "      <td>hfu407d</td>\n",
       "      <td>Még nincs szombat...</td>\n",
       "      <td>LazyTomTom</td>\n",
       "      <td>3</td>\n",
       "      <td>1633686328</td>\n",
       "      <td>q3uef4</td>\n",
       "      <td>3</td>\n",
       "    </tr>\n",
       "    <tr>\n",
       "      <th>4</th>\n",
       "      <td>4</td>\n",
       "      <td>hfu4nyg</td>\n",
       "      <td>Ezazz! Te is szereted ha megbasznak szárazon, ...</td>\n",
       "      <td>DrTorrente</td>\n",
       "      <td>3</td>\n",
       "      <td>1633686923</td>\n",
       "      <td>q3uef4</td>\n",
       "      <td>21</td>\n",
       "    </tr>\n",
       "  </tbody>\n",
       "</table>\n",
       "</div>"
      ],
      "text/plain": [
       "   Unnamed: 0 comment_id                                               text  \\\n",
       "0           0    hfu3t3z                                 Minden oké otthon?   \n",
       "1           1    hfu3wlv  Ez azért elég izzadtságszagú azt tekintve, hog...   \n",
       "2           2    hfu491h                                téged ki bántott :(   \n",
       "3           3    hfu407d                               Még nincs szombat...   \n",
       "4           4    hfu4nyg  Ezazz! Te is szereted ha megbasznak szárazon, ...   \n",
       "\n",
       "         author  upvotes   timestamp post_id  lens  \n",
       "0       drakvuf       15  1633686153  q3uef4     3  \n",
       "1     Debre1024        6  1633686239  q3uef4    15  \n",
       "2  Endymion2748        6  1633686552  q3uef4     4  \n",
       "3    LazyTomTom        3  1633686328  q3uef4     3  \n",
       "4    DrTorrente        3  1633686923  q3uef4    21  "
      ]
     },
     "execution_count": 3,
     "metadata": {},
     "output_type": "execute_result"
    }
   ],
   "source": [
    "comment_df = pd.read_excel(r\"..\\data\\psaw_comments_from_sept1_pol.xlsx\")\n",
    "comment_df[\"lens\"] = comment_df.text.str.split().map(lambda x: len(x))\n",
    "comment_df.head()"
   ]
  },
  {
   "cell_type": "code",
   "execution_count": 4,
   "metadata": {},
   "outputs": [
    {
     "name": "stdout",
     "output_type": "stream",
     "text": [
      "<class 'pandas.core.frame.DataFrame'>\n",
      "RangeIndex: 12950 entries, 0 to 12949\n",
      "Data columns (total 8 columns):\n",
      " #   Column      Non-Null Count  Dtype \n",
      "---  ------      --------------  ----- \n",
      " 0   Unnamed: 0  12950 non-null  int64 \n",
      " 1   comment_id  12950 non-null  object\n",
      " 2   text        12950 non-null  object\n",
      " 3   author      12950 non-null  object\n",
      " 4   upvotes     12950 non-null  int64 \n",
      " 5   timestamp   12950 non-null  int64 \n",
      " 6   post_id     12950 non-null  object\n",
      " 7   lens        12950 non-null  int64 \n",
      "dtypes: int64(4), object(4)\n",
      "memory usage: 809.5+ KB\n"
     ]
    }
   ],
   "source": [
    "comment_df.info()"
   ]
  },
  {
   "cell_type": "code",
   "execution_count": 5,
   "metadata": {},
   "outputs": [
    {
     "name": "stdout",
     "output_type": "stream",
     "text": [
      "Before:\n",
      " [u/shiffer_andras](https://youtu.be/dQw4w9WgXcQ) vélemény?\n",
      "Num of http: 589\n",
      "\n",
      "After:\n",
      " [u/shiffer_andras]( vélemény?\n",
      "Num of http: 0\n",
      "Num of https: 0\n"
     ]
    }
   ],
   "source": [
    "#Remove web links\n",
    "print(\"Before:\\n\",comment_df[\"text\"].iloc[25])\n",
    "print(\"Num of http:\", comment_df[\"text\"].map(lambda x: \"http\" in x).sum())\n",
    "\n",
    "\n",
    "comment_df[\"text\"] = comment_df[\"text\"].map( lambda x: re.sub(r'http\\S+', '', x) )\n",
    "print(\"\\nAfter:\\n\",comment_df[\"text\"].iloc[25])\n",
    "print(\"Num of http:\",comment_df.text.map(lambda x: \"http\" in x).sum())\n",
    "print(\"Num of https:\",comment_df.text.map(lambda x: \"https\" in x).sum())\n",
    "\n"
   ]
  },
  {
   "cell_type": "code",
   "execution_count": 6,
   "metadata": {},
   "outputs": [
    {
     "name": "stdout",
     "output_type": "stream",
     "text": [
      "Before:\n",
      " [u/shiffer_andras]( vélemény?\n",
      "Num of user mentions: 47\n",
      "\n",
      "After:\n",
      " [ vélemény?\n",
      "Num of user mentions: 0\n",
      "Num of user mentions: 0\n"
     ]
    }
   ],
   "source": [
    "#remove user mentions \n",
    "\n",
    "print(\"Before:\\n\",comment_df[\"text\"].iloc[25])\n",
    "print(\"Num of user mentions:\", comment_df[\"text\"].map(lambda x: \"u/\" in x).sum())\n",
    "\n",
    "comment_df[\"text\"] = comment_df[\"text\"].map( lambda x: re.sub(r\"u/\\S+\", \"\", x))\n",
    "\n",
    "print(\"\\nAfter:\\n\",comment_df[\"text\"].iloc[25])\n",
    "print(\"Num of user mentions:\",comment_df.text.map(lambda x: \"u/\" in x).sum())\n",
    "print(\"Num of user mentions:\",comment_df.text.map(lambda x: \"u/\" in x).sum())"
   ]
  },
  {
   "cell_type": "code",
   "execution_count": 7,
   "metadata": {},
   "outputs": [
    {
     "name": "stdout",
     "output_type": "stream",
     "text": [
      "Before: Lmao, fosik a malac 🥴\n",
      "Before: Lmao, fosik a malac \n"
     ]
    }
   ],
   "source": [
    "#remove emojis\n",
    "print(\"Before:\",comment_df.text[15]) \n",
    "comment_df[\"text\"] = comment_df[\"text\"].map( lambda text: emoji.get_emoji_regexp().sub(u'', text) )\n",
    "print(\"After:\",comment_df.text[15])"
   ]
  },
  {
   "cell_type": "code",
   "execution_count": 8,
   "metadata": {},
   "outputs": [],
   "source": [
    "from string import punctuation, digits\n",
    "\n",
    "#Remove numbers\n",
    "for d in digits:\n",
    "    comment_df[\"text\"] = comment_df[\"text\"].str.replace(d, \"\")\n",
    "\n",
    "#Remove punctuations\n",
    "for s in punctuation:\n",
    "    comment_df[\"text\"] = comment_df[\"text\"].str.replace(s, \"\")\n",
    "\n",
    "#Make lowercase\n",
    "comment_df[\"text\"] = comment_df[\"text\"].str.lower()\n",
    "\n",
    "#remove newline \n",
    "comment_df[\"text\"] = comment_df[\"text\"].str.replace(\"\\n\", \" \")"
   ]
  },
  {
   "cell_type": "code",
   "execution_count": 9,
   "metadata": {},
   "outputs": [],
   "source": [
    "# split every comment on whitespace\n",
    "comment_df.text = comment_df.text.str.split(\" \")\n",
    "\n",
    "#remove empty string ''\n",
    "notEmpty = lambda word: word != \"\"\n",
    "comment_df.text = comment_df.text.map(lambda line: list(filter(notEmpty, line)))"
   ]
  },
  {
   "cell_type": "code",
   "execution_count": 10,
   "metadata": {},
   "outputs": [
    {
     "data": {
      "text/plain": [
       "0                                    [minden, oké, otthon]\n",
       "1        [ez, azért, elég, izzadtságszagú, azt, tekintv...\n",
       "2                                     [téged, ki, bántott]\n",
       "3                                    [még, nincs, szombat]\n",
       "4        [ezazz, te, is, szereted, ha, megbasznak, szár...\n",
       "                               ...                        \n",
       "12945    [protip, for, life, a, bírósági, ítéleteket, m...\n",
       "12946    [végül, a, hangfelvételen, a, dulakodás, is, c...\n",
       "12947    [schiffer, és, srb, urak, kavarják, a, szart, ...\n",
       "12948    [milyen, érdekes, hogy, ez, a, per, is, pont, ...\n",
       "12949                                 [de, schiffer, fasz]\n",
       "Name: text, Length: 12950, dtype: object"
      ]
     },
     "execution_count": 10,
     "metadata": {},
     "output_type": "execute_result"
    }
   ],
   "source": [
    "comment_df.text"
   ]
  },
  {
   "cell_type": "markdown",
   "metadata": {},
   "source": [
    "# Removing stopwords and stemming"
   ]
  },
  {
   "cell_type": "code",
   "execution_count": 13,
   "metadata": {},
   "outputs": [
    {
     "name": "stdout",
     "output_type": "stream",
     "text": [
      "['a', 'ahogy', 'ahol', 'aki', 'akik', 'akkor', 'alatt', 'által', 'általában', 'amely', 'amelyek', 'amelyekben', 'amelyeket', 'amelyet', 'amelynek', 'ami', 'amit', 'amolyan', 'amíg', 'amikor', 'át', 'abban', 'ahhoz', 'annak', 'arra', 'arról', 'az', 'azok', 'azon', 'azt', 'azzal', 'azért', 'aztán', 'azután', 'azonban', 'bár', 'be', 'belül', 'benne', 'cikk', 'cikkek', 'cikkeket', 'csak', 'de', 'e', 'eddig', 'egész', 'egy', 'egyes', 'egyetlen', 'egyéb', 'egyik', 'egyre', 'ekkor', 'el', 'elég', 'ellen', 'elõ', 'elõször', 'elõtt', 'elsõ', 'én', 'éppen', 'ebben', 'ehhez', 'emilyen', 'ennek', 'erre', 'ez', 'ezt', 'ezek', 'ezen', 'ezzel', 'ezért', 'és', 'fel', 'felé', 'hanem', 'hiszen', 'hogy', 'hogyan', 'igen', 'így', 'illetve', 'ill.', 'ill', 'ilyen', 'ilyenkor', 'ison', 'ismét', 'itt', 'jó', 'jól', 'jobban', 'kell', 'kellett', 'keresztül', 'keressünk', 'ki', 'kívül', 'között', 'közül', 'legalább', 'lehet', 'lehetett', 'legyen', 'lenne', 'lenni', 'lesz', 'lett', 'maga', 'magát', 'majd', 'majd', 'már', 'más', 'másik', 'meg', 'még', 'mellett', 'mert', 'mely', 'melyek', 'mi', 'mit', 'míg', 'miért', 'milyen', 'mikor', 'minden', 'mindent', 'mindenki', 'mindig', 'mint', 'mintha', 'mivel', 'most', 'nagy', 'nagyobb', 'nagyon', 'ne', 'néha', 'nekem', 'neki', 'nem', 'néhány', 'nélkül', 'nincs', 'olyan', 'ott', 'össze', 'õ', 'õk', 'õket', 'pedig', 'persze', 'rá', 's', 'saját', 'sem', 'semmi', 'sok', 'sokat', 'sokkal', 'számára', 'szemben', 'szerint', 'szinte', 'talán', 'tehát', 'teljes', 'tovább', 'továbbá', 'több', 'úgy', 'ugyanis', 'új', 'újabb', 'újra', 'után', 'utána', 'utolsó', 'vagy', 'vagyis', 'valaki', 'valami', 'valamint', 'való', 'vagyok', 'van', 'vannak', 'volt', 'voltam', 'voltak', 'voltunk', 'vissza', 'vele', 'viszont', 'volna']\n"
     ]
    },
    {
     "name": "stderr",
     "output_type": "stream",
     "text": [
      "[nltk_data] Downloading package stopwords to\n",
      "[nltk_data]     C:\\Users\\balin\\AppData\\Roaming\\nltk_data...\n",
      "[nltk_data]   Package stopwords is already up-to-date!\n"
     ]
    }
   ],
   "source": [
    "import nltk\n",
    "nltk.download(\"stopwords\")\n",
    "from nltk.corpus import stopwords\n",
    "hu_stop = stopwords.words(\"hungarian\")\n",
    "print(hu_stop)"
   ]
  },
  {
   "cell_type": "code",
   "execution_count": 14,
   "metadata": {},
   "outputs": [],
   "source": [
    "with open(r\"..\\data\\misc\\hu_stopwords.txt\", \"r\",  encoding='utf-8') as f:\n",
    "    additional_stopwords = f.readlines()\n",
    "\n",
    "additional_stopwords = [ word.replace(\"\\n\",\"\") for word in additional_stopwords ]\n",
    "hu_stop += additional_stopwords\n",
    "hu_stop += [\"kb\", \"es\", \"\", \"  \"]\n",
    "hu_stop = list(set(hu_stop))"
   ]
  },
  {
   "cell_type": "code",
   "execution_count": 16,
   "metadata": {},
   "outputs": [],
   "source": [
    "#filtering stopwords\n",
    "def filterStopword(word):\n",
    "    if word in hu_stop:\n",
    "        return False\n",
    "    else:\n",
    "        return True\n",
    "\n",
    "#filtered_text = list(filter(filterStopword, comment_words))\n",
    "comment_df.text = comment_df.text.map(lambda line: list(filter(filterStopword, line)))"
   ]
  },
  {
   "cell_type": "code",
   "execution_count": 18,
   "metadata": {},
   "outputs": [
    {
     "data": {
      "application/vnd.plotly.v1+json": {
       "config": {
        "plotlyServerURL": "https://plot.ly"
       },
       "data": [
        {
         "marker": {
          "color": "rgb(17,165,121)",
          "line": {
           "color": "rgb(17,165,121)",
           "width": 0.5
          }
         },
         "opacity": 0.6,
         "type": "bar",
         "x": [
          "mzp",
          "fidesz",
          "dobrev",
          "karácsony",
          "szavazni",
          "fog",
          "gyurcsány",
          "orbán",
          "ellenzéki",
          "ember",
          "tudom",
          "dk",
          "amúgy",
          "magyar",
          "jelölt",
          "fideszes",
          "emberek",
          "politikai",
          "biztos",
          "szóval",
          "jobb",
          "annyira",
          "the",
          "ellenzék",
          "sajnos"
         ],
         "y": [
          1091,
          912,
          702,
          611,
          521,
          458,
          443,
          383,
          360,
          352,
          345,
          340,
          316,
          311,
          301,
          287,
          287,
          264,
          264,
          255,
          254,
          249,
          248,
          243,
          242
         ]
        }
       ],
       "layout": {
        "template": {
         "data": {
          "bar": [
           {
            "error_x": {
             "color": "#2a3f5f"
            },
            "error_y": {
             "color": "#2a3f5f"
            },
            "marker": {
             "line": {
              "color": "#E5ECF6",
              "width": 0.5
             }
            },
            "type": "bar"
           }
          ],
          "barpolar": [
           {
            "marker": {
             "line": {
              "color": "#E5ECF6",
              "width": 0.5
             }
            },
            "type": "barpolar"
           }
          ],
          "carpet": [
           {
            "aaxis": {
             "endlinecolor": "#2a3f5f",
             "gridcolor": "white",
             "linecolor": "white",
             "minorgridcolor": "white",
             "startlinecolor": "#2a3f5f"
            },
            "baxis": {
             "endlinecolor": "#2a3f5f",
             "gridcolor": "white",
             "linecolor": "white",
             "minorgridcolor": "white",
             "startlinecolor": "#2a3f5f"
            },
            "type": "carpet"
           }
          ],
          "choropleth": [
           {
            "colorbar": {
             "outlinewidth": 0,
             "ticks": ""
            },
            "type": "choropleth"
           }
          ],
          "contour": [
           {
            "colorbar": {
             "outlinewidth": 0,
             "ticks": ""
            },
            "colorscale": [
             [
              0,
              "#0d0887"
             ],
             [
              0.1111111111111111,
              "#46039f"
             ],
             [
              0.2222222222222222,
              "#7201a8"
             ],
             [
              0.3333333333333333,
              "#9c179e"
             ],
             [
              0.4444444444444444,
              "#bd3786"
             ],
             [
              0.5555555555555556,
              "#d8576b"
             ],
             [
              0.6666666666666666,
              "#ed7953"
             ],
             [
              0.7777777777777778,
              "#fb9f3a"
             ],
             [
              0.8888888888888888,
              "#fdca26"
             ],
             [
              1,
              "#f0f921"
             ]
            ],
            "type": "contour"
           }
          ],
          "contourcarpet": [
           {
            "colorbar": {
             "outlinewidth": 0,
             "ticks": ""
            },
            "type": "contourcarpet"
           }
          ],
          "heatmap": [
           {
            "colorbar": {
             "outlinewidth": 0,
             "ticks": ""
            },
            "colorscale": [
             [
              0,
              "#0d0887"
             ],
             [
              0.1111111111111111,
              "#46039f"
             ],
             [
              0.2222222222222222,
              "#7201a8"
             ],
             [
              0.3333333333333333,
              "#9c179e"
             ],
             [
              0.4444444444444444,
              "#bd3786"
             ],
             [
              0.5555555555555556,
              "#d8576b"
             ],
             [
              0.6666666666666666,
              "#ed7953"
             ],
             [
              0.7777777777777778,
              "#fb9f3a"
             ],
             [
              0.8888888888888888,
              "#fdca26"
             ],
             [
              1,
              "#f0f921"
             ]
            ],
            "type": "heatmap"
           }
          ],
          "heatmapgl": [
           {
            "colorbar": {
             "outlinewidth": 0,
             "ticks": ""
            },
            "colorscale": [
             [
              0,
              "#0d0887"
             ],
             [
              0.1111111111111111,
              "#46039f"
             ],
             [
              0.2222222222222222,
              "#7201a8"
             ],
             [
              0.3333333333333333,
              "#9c179e"
             ],
             [
              0.4444444444444444,
              "#bd3786"
             ],
             [
              0.5555555555555556,
              "#d8576b"
             ],
             [
              0.6666666666666666,
              "#ed7953"
             ],
             [
              0.7777777777777778,
              "#fb9f3a"
             ],
             [
              0.8888888888888888,
              "#fdca26"
             ],
             [
              1,
              "#f0f921"
             ]
            ],
            "type": "heatmapgl"
           }
          ],
          "histogram": [
           {
            "marker": {
             "colorbar": {
              "outlinewidth": 0,
              "ticks": ""
             }
            },
            "type": "histogram"
           }
          ],
          "histogram2d": [
           {
            "colorbar": {
             "outlinewidth": 0,
             "ticks": ""
            },
            "colorscale": [
             [
              0,
              "#0d0887"
             ],
             [
              0.1111111111111111,
              "#46039f"
             ],
             [
              0.2222222222222222,
              "#7201a8"
             ],
             [
              0.3333333333333333,
              "#9c179e"
             ],
             [
              0.4444444444444444,
              "#bd3786"
             ],
             [
              0.5555555555555556,
              "#d8576b"
             ],
             [
              0.6666666666666666,
              "#ed7953"
             ],
             [
              0.7777777777777778,
              "#fb9f3a"
             ],
             [
              0.8888888888888888,
              "#fdca26"
             ],
             [
              1,
              "#f0f921"
             ]
            ],
            "type": "histogram2d"
           }
          ],
          "histogram2dcontour": [
           {
            "colorbar": {
             "outlinewidth": 0,
             "ticks": ""
            },
            "colorscale": [
             [
              0,
              "#0d0887"
             ],
             [
              0.1111111111111111,
              "#46039f"
             ],
             [
              0.2222222222222222,
              "#7201a8"
             ],
             [
              0.3333333333333333,
              "#9c179e"
             ],
             [
              0.4444444444444444,
              "#bd3786"
             ],
             [
              0.5555555555555556,
              "#d8576b"
             ],
             [
              0.6666666666666666,
              "#ed7953"
             ],
             [
              0.7777777777777778,
              "#fb9f3a"
             ],
             [
              0.8888888888888888,
              "#fdca26"
             ],
             [
              1,
              "#f0f921"
             ]
            ],
            "type": "histogram2dcontour"
           }
          ],
          "mesh3d": [
           {
            "colorbar": {
             "outlinewidth": 0,
             "ticks": ""
            },
            "type": "mesh3d"
           }
          ],
          "parcoords": [
           {
            "line": {
             "colorbar": {
              "outlinewidth": 0,
              "ticks": ""
             }
            },
            "type": "parcoords"
           }
          ],
          "pie": [
           {
            "automargin": true,
            "type": "pie"
           }
          ],
          "scatter": [
           {
            "marker": {
             "colorbar": {
              "outlinewidth": 0,
              "ticks": ""
             }
            },
            "type": "scatter"
           }
          ],
          "scatter3d": [
           {
            "line": {
             "colorbar": {
              "outlinewidth": 0,
              "ticks": ""
             }
            },
            "marker": {
             "colorbar": {
              "outlinewidth": 0,
              "ticks": ""
             }
            },
            "type": "scatter3d"
           }
          ],
          "scattercarpet": [
           {
            "marker": {
             "colorbar": {
              "outlinewidth": 0,
              "ticks": ""
             }
            },
            "type": "scattercarpet"
           }
          ],
          "scattergeo": [
           {
            "marker": {
             "colorbar": {
              "outlinewidth": 0,
              "ticks": ""
             }
            },
            "type": "scattergeo"
           }
          ],
          "scattergl": [
           {
            "marker": {
             "colorbar": {
              "outlinewidth": 0,
              "ticks": ""
             }
            },
            "type": "scattergl"
           }
          ],
          "scattermapbox": [
           {
            "marker": {
             "colorbar": {
              "outlinewidth": 0,
              "ticks": ""
             }
            },
            "type": "scattermapbox"
           }
          ],
          "scatterpolar": [
           {
            "marker": {
             "colorbar": {
              "outlinewidth": 0,
              "ticks": ""
             }
            },
            "type": "scatterpolar"
           }
          ],
          "scatterpolargl": [
           {
            "marker": {
             "colorbar": {
              "outlinewidth": 0,
              "ticks": ""
             }
            },
            "type": "scatterpolargl"
           }
          ],
          "scatterternary": [
           {
            "marker": {
             "colorbar": {
              "outlinewidth": 0,
              "ticks": ""
             }
            },
            "type": "scatterternary"
           }
          ],
          "surface": [
           {
            "colorbar": {
             "outlinewidth": 0,
             "ticks": ""
            },
            "colorscale": [
             [
              0,
              "#0d0887"
             ],
             [
              0.1111111111111111,
              "#46039f"
             ],
             [
              0.2222222222222222,
              "#7201a8"
             ],
             [
              0.3333333333333333,
              "#9c179e"
             ],
             [
              0.4444444444444444,
              "#bd3786"
             ],
             [
              0.5555555555555556,
              "#d8576b"
             ],
             [
              0.6666666666666666,
              "#ed7953"
             ],
             [
              0.7777777777777778,
              "#fb9f3a"
             ],
             [
              0.8888888888888888,
              "#fdca26"
             ],
             [
              1,
              "#f0f921"
             ]
            ],
            "type": "surface"
           }
          ],
          "table": [
           {
            "cells": {
             "fill": {
              "color": "#EBF0F8"
             },
             "line": {
              "color": "white"
             }
            },
            "header": {
             "fill": {
              "color": "#C8D4E3"
             },
             "line": {
              "color": "white"
             }
            },
            "type": "table"
           }
          ]
         },
         "layout": {
          "annotationdefaults": {
           "arrowcolor": "#2a3f5f",
           "arrowhead": 0,
           "arrowwidth": 1
          },
          "autotypenumbers": "strict",
          "coloraxis": {
           "colorbar": {
            "outlinewidth": 0,
            "ticks": ""
           }
          },
          "colorscale": {
           "diverging": [
            [
             0,
             "#8e0152"
            ],
            [
             0.1,
             "#c51b7d"
            ],
            [
             0.2,
             "#de77ae"
            ],
            [
             0.3,
             "#f1b6da"
            ],
            [
             0.4,
             "#fde0ef"
            ],
            [
             0.5,
             "#f7f7f7"
            ],
            [
             0.6,
             "#e6f5d0"
            ],
            [
             0.7,
             "#b8e186"
            ],
            [
             0.8,
             "#7fbc41"
            ],
            [
             0.9,
             "#4d9221"
            ],
            [
             1,
             "#276419"
            ]
           ],
           "sequential": [
            [
             0,
             "#0d0887"
            ],
            [
             0.1111111111111111,
             "#46039f"
            ],
            [
             0.2222222222222222,
             "#7201a8"
            ],
            [
             0.3333333333333333,
             "#9c179e"
            ],
            [
             0.4444444444444444,
             "#bd3786"
            ],
            [
             0.5555555555555556,
             "#d8576b"
            ],
            [
             0.6666666666666666,
             "#ed7953"
            ],
            [
             0.7777777777777778,
             "#fb9f3a"
            ],
            [
             0.8888888888888888,
             "#fdca26"
            ],
            [
             1,
             "#f0f921"
            ]
           ],
           "sequentialminus": [
            [
             0,
             "#0d0887"
            ],
            [
             0.1111111111111111,
             "#46039f"
            ],
            [
             0.2222222222222222,
             "#7201a8"
            ],
            [
             0.3333333333333333,
             "#9c179e"
            ],
            [
             0.4444444444444444,
             "#bd3786"
            ],
            [
             0.5555555555555556,
             "#d8576b"
            ],
            [
             0.6666666666666666,
             "#ed7953"
            ],
            [
             0.7777777777777778,
             "#fb9f3a"
            ],
            [
             0.8888888888888888,
             "#fdca26"
            ],
            [
             1,
             "#f0f921"
            ]
           ]
          },
          "colorway": [
           "#636efa",
           "#EF553B",
           "#00cc96",
           "#ab63fa",
           "#FFA15A",
           "#19d3f3",
           "#FF6692",
           "#B6E880",
           "#FF97FF",
           "#FECB52"
          ],
          "font": {
           "color": "#2a3f5f"
          },
          "geo": {
           "bgcolor": "white",
           "lakecolor": "white",
           "landcolor": "#E5ECF6",
           "showlakes": true,
           "showland": true,
           "subunitcolor": "white"
          },
          "hoverlabel": {
           "align": "left"
          },
          "hovermode": "closest",
          "mapbox": {
           "style": "light"
          },
          "paper_bgcolor": "white",
          "plot_bgcolor": "#E5ECF6",
          "polar": {
           "angularaxis": {
            "gridcolor": "white",
            "linecolor": "white",
            "ticks": ""
           },
           "bgcolor": "#E5ECF6",
           "radialaxis": {
            "gridcolor": "white",
            "linecolor": "white",
            "ticks": ""
           }
          },
          "scene": {
           "xaxis": {
            "backgroundcolor": "#E5ECF6",
            "gridcolor": "white",
            "gridwidth": 2,
            "linecolor": "white",
            "showbackground": true,
            "ticks": "",
            "zerolinecolor": "white"
           },
           "yaxis": {
            "backgroundcolor": "#E5ECF6",
            "gridcolor": "white",
            "gridwidth": 2,
            "linecolor": "white",
            "showbackground": true,
            "ticks": "",
            "zerolinecolor": "white"
           },
           "zaxis": {
            "backgroundcolor": "#E5ECF6",
            "gridcolor": "white",
            "gridwidth": 2,
            "linecolor": "white",
            "showbackground": true,
            "ticks": "",
            "zerolinecolor": "white"
           }
          },
          "shapedefaults": {
           "line": {
            "color": "#2a3f5f"
           }
          },
          "ternary": {
           "aaxis": {
            "gridcolor": "white",
            "linecolor": "white",
            "ticks": ""
           },
           "baxis": {
            "gridcolor": "white",
            "linecolor": "white",
            "ticks": ""
           },
           "bgcolor": "#E5ECF6",
           "caxis": {
            "gridcolor": "white",
            "linecolor": "white",
            "ticks": ""
           }
          },
          "title": {
           "x": 0.05
          },
          "xaxis": {
           "automargin": true,
           "gridcolor": "white",
           "linecolor": "white",
           "ticks": "",
           "title": {
            "standoff": 15
           },
           "zerolinecolor": "white",
           "zerolinewidth": 2
          },
          "yaxis": {
           "automargin": true,
           "gridcolor": "white",
           "linecolor": "white",
           "ticks": "",
           "title": {
            "standoff": 15
           },
           "zerolinecolor": "white",
           "zerolinewidth": 2
          }
         }
        },
        "title": {
         "text": "Barchart of the most frequent words"
        },
        "yaxis": {
         "title": {
          "text": "word frequency"
         },
         "type": "log"
        }
       }
      }
     },
     "metadata": {},
     "output_type": "display_data"
    }
   ],
   "source": [
    "cntr = collections.Counter( flatten(comment_df.text) )\n",
    "ws, cnt = zip( *cntr.most_common() )\n",
    "\n",
    "fig = go.Figure([go.Bar(x=ws[:25], y=cnt[:25], marker_color = 'rgb(17,165,121)')])\n",
    "fig.update_yaxes(type=\"log\")\n",
    "\n",
    "fig.update_traces(marker_line_color='rgb(17,165,121)',\n",
    "                  marker_line_width=0.5, opacity=0.6)\n",
    "\n",
    "fig.update_layout(title=\"Barchart of the most frequent words\",\n",
    "                  yaxis_title=\"word frequency\",)\n",
    "\n",
    "fig.show()"
   ]
  },
  {
   "cell_type": "code",
   "execution_count": 15,
   "metadata": {},
   "outputs": [
    {
     "data": {
      "text/plain": [
       "0                                           oké otthon\n",
       "1    izzadtságszagú tekintve dobrev jelöltsége pont...\n",
       "2                                              bántott\n",
       "3                                              szombat\n",
       "4    ezazz szereted megbasznak szárazon köpnek fize...\n",
       "Name: text, dtype: object"
      ]
     },
     "execution_count": 15,
     "metadata": {},
     "output_type": "execute_result"
    }
   ],
   "source": [
    "\"\"\"comment_df[\"text\"] = comment_df.text.map( lambda word: \" \".join(list(filter(filterStopword, word.split(\" \")))))\n",
    "comment_df.text.head()\"\"\""
   ]
  },
  {
   "cell_type": "code",
   "execution_count": 29,
   "metadata": {},
   "outputs": [
    {
     "data": {
      "text/plain": [
       "0                                            [oké, otthon]\n",
       "1        [izzadtságszagú, tekintve, dobrev, jelöltsége,...\n",
       "2                                                [bántott]\n",
       "3                                                [szombat]\n",
       "4        [ezazz, szereted, megbasznak, szárazon, köpnek...\n",
       "                               ...                        \n",
       "12945    [protip, for, life, bírósági, ítéleteket, magu...\n",
       "12946    [hangfelvételen, dulakodás, hamisítvány, szegé...\n",
       "12947    [schiffer, srb, kavarják, szart, rendesen, „lá...\n",
       "12948    [érdekes, per, pont, tudott, befejeződni, hóna...\n",
       "12949                                     [schiffer, fasz]\n",
       "Name: text, Length: 12950, dtype: object"
      ]
     },
     "execution_count": 29,
     "metadata": {},
     "output_type": "execute_result"
    }
   ],
   "source": [
    "notBlank = lambda w: len(w) > 0\n",
    "\n",
    "comment_df.text.map(lambda line: list(filter(notBlank, [word for word in line.split(\" \")] )))\n",
    "\n"
   ]
  },
  {
   "cell_type": "code",
   "execution_count": 20,
   "metadata": {},
   "outputs": [],
   "source": [
    "from nltk.stem import SnowballStemmer\n",
    "\n",
    "#Stemming tweets\n",
    "snow = SnowballStemmer('hungarian',ignore_stopwords=True)\n",
    "\n",
    "comment_df.text = comment_df.text.map(lambda line: \" \".join([snow.stem(word) for word in line]))\n",
    "\n",
    "comment_df.to_excel(\"..\\data\\cleaned_swed_stemmed.xlsx\")"
   ]
  },
  {
   "cell_type": "code",
   "execution_count": 23,
   "metadata": {},
   "outputs": [
    {
     "data": {
      "text/plain": [
       "'lma fos malac 🥴'"
      ]
     },
     "execution_count": 23,
     "metadata": {},
     "output_type": "execute_result"
    }
   ],
   "source": []
  }
 ],
 "metadata": {
  "interpreter": {
   "hash": "ed8eca2b220cf1e27a3481ffdb2c31f1e299e2d8073166b9e2e1c30297a93942"
  },
  "kernelspec": {
   "display_name": "Python 3.8.5 64-bit ('base': conda)",
   "name": "python3"
  },
  "language_info": {
   "codemirror_mode": {
    "name": "ipython",
    "version": 3
   },
   "file_extension": ".py",
   "mimetype": "text/x-python",
   "name": "python",
   "nbconvert_exporter": "python",
   "pygments_lexer": "ipython3",
   "version": "3.8.5"
  },
  "orig_nbformat": 4
 },
 "nbformat": 4,
 "nbformat_minor": 2
}
