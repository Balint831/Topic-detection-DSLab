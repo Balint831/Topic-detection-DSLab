{
 "cells": [
  {
   "cell_type": "code",
   "execution_count": 15,
   "source": [
    "import pandas as pd\r\n",
    "import numpy as np\r\n",
    "\r\n",
    "import re\r\n",
    "import matplotlib.pyplot as plt\r\n",
    "import plotly.express as px\r\n",
    "\r\n",
    "import sys\r\n",
    "sys.path.append(\"..\")\r\n",
    "\r\n",
    "def deEmojify(text):\r\n",
    "    regrex_pattern = re.compile(pattern = \"[\"\r\n",
    "        u\"\\U0001F600-\\U0001F64F\"  # emoticons\r\n",
    "        u\"\\U0001F300-\\U0001F5FF\"  # symbols & pictographs\r\n",
    "        u\"\\U0001F680-\\U0001F6FF\"  # transport & map symbols\r\n",
    "        u\"\\U0001F1E0-\\U0001F1FF\"  # flags (iOS)\r\n",
    "                           \"]+\", flags = re.UNICODE)\r\n",
    "    return regrex_pattern.sub(r'',text)"
   ],
   "outputs": [],
   "metadata": {}
  },
  {
   "cell_type": "code",
   "execution_count": 16,
   "source": [
    "comment_df = pd.read_excel(r\"..\\data\\psaw_comments_from_sept1_pol.xlsx\")\r\n",
    "comment_df[\"lens\"] = comment_df.text.str.split().map(lambda x: len(x))\r\n",
    "comment_df.head()"
   ],
   "outputs": [
    {
     "output_type": "execute_result",
     "data": {
      "text/html": [
       "<div>\n",
       "<style scoped>\n",
       "    .dataframe tbody tr th:only-of-type {\n",
       "        vertical-align: middle;\n",
       "    }\n",
       "\n",
       "    .dataframe tbody tr th {\n",
       "        vertical-align: top;\n",
       "    }\n",
       "\n",
       "    .dataframe thead th {\n",
       "        text-align: right;\n",
       "    }\n",
       "</style>\n",
       "<table border=\"1\" class=\"dataframe\">\n",
       "  <thead>\n",
       "    <tr style=\"text-align: right;\">\n",
       "      <th></th>\n",
       "      <th>Unnamed: 0</th>\n",
       "      <th>comment_id</th>\n",
       "      <th>text</th>\n",
       "      <th>author</th>\n",
       "      <th>upvotes</th>\n",
       "      <th>timestamp</th>\n",
       "      <th>post_id</th>\n",
       "      <th>lens</th>\n",
       "    </tr>\n",
       "  </thead>\n",
       "  <tbody>\n",
       "    <tr>\n",
       "      <th>0</th>\n",
       "      <td>0</td>\n",
       "      <td>hfu3t3z</td>\n",
       "      <td>Minden oké otthon?</td>\n",
       "      <td>drakvuf</td>\n",
       "      <td>15</td>\n",
       "      <td>1633686153</td>\n",
       "      <td>q3uef4</td>\n",
       "      <td>3</td>\n",
       "    </tr>\n",
       "    <tr>\n",
       "      <th>1</th>\n",
       "      <td>1</td>\n",
       "      <td>hfu3wlv</td>\n",
       "      <td>Ez azért elég izzadtságszagú azt tekintve, hog...</td>\n",
       "      <td>Debre1024</td>\n",
       "      <td>6</td>\n",
       "      <td>1633686239</td>\n",
       "      <td>q3uef4</td>\n",
       "      <td>15</td>\n",
       "    </tr>\n",
       "    <tr>\n",
       "      <th>2</th>\n",
       "      <td>2</td>\n",
       "      <td>hfu491h</td>\n",
       "      <td>téged ki bántott :(</td>\n",
       "      <td>Endymion2748</td>\n",
       "      <td>6</td>\n",
       "      <td>1633686552</td>\n",
       "      <td>q3uef4</td>\n",
       "      <td>4</td>\n",
       "    </tr>\n",
       "    <tr>\n",
       "      <th>3</th>\n",
       "      <td>3</td>\n",
       "      <td>hfu407d</td>\n",
       "      <td>Még nincs szombat...</td>\n",
       "      <td>LazyTomTom</td>\n",
       "      <td>3</td>\n",
       "      <td>1633686328</td>\n",
       "      <td>q3uef4</td>\n",
       "      <td>3</td>\n",
       "    </tr>\n",
       "    <tr>\n",
       "      <th>4</th>\n",
       "      <td>4</td>\n",
       "      <td>hfu4nyg</td>\n",
       "      <td>Ezazz! Te is szereted ha megbasznak szárazon, ...</td>\n",
       "      <td>DrTorrente</td>\n",
       "      <td>3</td>\n",
       "      <td>1633686923</td>\n",
       "      <td>q3uef4</td>\n",
       "      <td>21</td>\n",
       "    </tr>\n",
       "  </tbody>\n",
       "</table>\n",
       "</div>"
      ],
      "text/plain": [
       "   Unnamed: 0 comment_id                                               text  \\\n",
       "0           0    hfu3t3z                                 Minden oké otthon?   \n",
       "1           1    hfu3wlv  Ez azért elég izzadtságszagú azt tekintve, hog...   \n",
       "2           2    hfu491h                                téged ki bántott :(   \n",
       "3           3    hfu407d                               Még nincs szombat...   \n",
       "4           4    hfu4nyg  Ezazz! Te is szereted ha megbasznak szárazon, ...   \n",
       "\n",
       "         author  upvotes   timestamp post_id  lens  \n",
       "0       drakvuf       15  1633686153  q3uef4     3  \n",
       "1     Debre1024        6  1633686239  q3uef4    15  \n",
       "2  Endymion2748        6  1633686552  q3uef4     4  \n",
       "3    LazyTomTom        3  1633686328  q3uef4     3  \n",
       "4    DrTorrente        3  1633686923  q3uef4    21  "
      ]
     },
     "metadata": {},
     "execution_count": 16
    }
   ],
   "metadata": {}
  },
  {
   "cell_type": "code",
   "execution_count": 17,
   "source": [
    "from string import punctuation\r\n",
    "\r\n",
    "#Lowercase\r\n",
    "comment_df[\"text\"] = comment_df[\"text\"].str.lower()\r\n",
    "#Remove web links\r\n",
    "comment_df[\"text\"] = comment_df[\"text\"].map( lambda x: re.sub(r'http\\S+', '', x) ) \r\n",
    "#Remove punctuations\r\n",
    "for s in punctuation:\r\n",
    "    comment_df[\"text\"] = comment_df[\"text\"].str.replace(s, \"\")"
   ],
   "outputs": [],
   "metadata": {}
  },
  {
   "cell_type": "code",
   "execution_count": null,
   "source": [],
   "outputs": [],
   "metadata": {}
  },
  {
   "cell_type": "code",
   "execution_count": null,
   "source": [],
   "outputs": [],
   "metadata": {}
  }
 ],
 "metadata": {
  "orig_nbformat": 4,
  "language_info": {
   "name": "python",
   "version": "3.8.5",
   "mimetype": "text/x-python",
   "codemirror_mode": {
    "name": "ipython",
    "version": 3
   },
   "pygments_lexer": "ipython3",
   "nbconvert_exporter": "python",
   "file_extension": ".py"
  },
  "kernelspec": {
   "name": "python3",
   "display_name": "Python 3.8.5 64-bit ('base': conda)"
  },
  "interpreter": {
   "hash": "ed8eca2b220cf1e27a3481ffdb2c31f1e299e2d8073166b9e2e1c30297a93942"
  }
 },
 "nbformat": 4,
 "nbformat_minor": 2
}