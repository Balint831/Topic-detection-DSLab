{
 "cells": [
  {
   "cell_type": "code",
   "execution_count": 1,
   "metadata": {},
   "outputs": [],
   "source": [
    "import pandas as pd\n",
    "import numpy as np\n",
    "\n",
    "import re\n",
    "import matplotlib.pyplot as plt\n",
    "import plotly.express as px\n",
    "\n",
    "import collections\n",
    "from plotly import graph_objects as go\n",
    "import emoji\n",
    "\n",
    "import sys\n",
    "sys.path.append(\"..\")\n",
    "\n",
    "flatten = lambda t: [item for sublist in t for item in sublist]\n",
    "def deEmojify(text):\n",
    "    regrex_pattern = re.compile(pattern = \"[\"\n",
    "        u\"\\U0001F600-\\U0001F64F\"  # emoticons\n",
    "        u\"\\U0001F300-\\U0001F5FF\"  # symbols & pictographs\n",
    "        u\"\\U0001F680-\\U0001F6FF\"  # transport & map symbols\n",
    "        u\"\\U0001F1E0-\\U0001F1FF\"  # flags (iOS)\n",
    "                           \"]+\", flags = re.UNICODE)\n",
    "    return regrex_pattern.sub(r'',text)"
   ]
  },
  {
   "cell_type": "code",
   "execution_count": 2,
   "metadata": {},
   "outputs": [
    {
     "data": {
      "text/html": [
       "<div>\n",
       "<style scoped>\n",
       "    .dataframe tbody tr th:only-of-type {\n",
       "        vertical-align: middle;\n",
       "    }\n",
       "\n",
       "    .dataframe tbody tr th {\n",
       "        vertical-align: top;\n",
       "    }\n",
       "\n",
       "    .dataframe thead th {\n",
       "        text-align: right;\n",
       "    }\n",
       "</style>\n",
       "<table border=\"1\" class=\"dataframe\">\n",
       "  <thead>\n",
       "    <tr style=\"text-align: right;\">\n",
       "      <th></th>\n",
       "      <th>Unnamed: 0</th>\n",
       "      <th>comment_id</th>\n",
       "      <th>text</th>\n",
       "      <th>author</th>\n",
       "      <th>upvotes</th>\n",
       "      <th>timestamp</th>\n",
       "      <th>post_id</th>\n",
       "      <th>lens</th>\n",
       "    </tr>\n",
       "  </thead>\n",
       "  <tbody>\n",
       "    <tr>\n",
       "      <th>0</th>\n",
       "      <td>0</td>\n",
       "      <td>hfu3t3z</td>\n",
       "      <td>Minden oké otthon?</td>\n",
       "      <td>drakvuf</td>\n",
       "      <td>15</td>\n",
       "      <td>1633686153</td>\n",
       "      <td>q3uef4</td>\n",
       "      <td>3</td>\n",
       "    </tr>\n",
       "    <tr>\n",
       "      <th>1</th>\n",
       "      <td>1</td>\n",
       "      <td>hfu3wlv</td>\n",
       "      <td>Ez azért elég izzadtságszagú azt tekintve, hog...</td>\n",
       "      <td>Debre1024</td>\n",
       "      <td>6</td>\n",
       "      <td>1633686239</td>\n",
       "      <td>q3uef4</td>\n",
       "      <td>15</td>\n",
       "    </tr>\n",
       "    <tr>\n",
       "      <th>2</th>\n",
       "      <td>2</td>\n",
       "      <td>hfu491h</td>\n",
       "      <td>téged ki bántott :(</td>\n",
       "      <td>Endymion2748</td>\n",
       "      <td>6</td>\n",
       "      <td>1633686552</td>\n",
       "      <td>q3uef4</td>\n",
       "      <td>4</td>\n",
       "    </tr>\n",
       "    <tr>\n",
       "      <th>3</th>\n",
       "      <td>3</td>\n",
       "      <td>hfu407d</td>\n",
       "      <td>Még nincs szombat...</td>\n",
       "      <td>LazyTomTom</td>\n",
       "      <td>3</td>\n",
       "      <td>1633686328</td>\n",
       "      <td>q3uef4</td>\n",
       "      <td>3</td>\n",
       "    </tr>\n",
       "    <tr>\n",
       "      <th>4</th>\n",
       "      <td>4</td>\n",
       "      <td>hfu4nyg</td>\n",
       "      <td>Ezazz! Te is szereted ha megbasznak szárazon, ...</td>\n",
       "      <td>DrTorrente</td>\n",
       "      <td>3</td>\n",
       "      <td>1633686923</td>\n",
       "      <td>q3uef4</td>\n",
       "      <td>21</td>\n",
       "    </tr>\n",
       "  </tbody>\n",
       "</table>\n",
       "</div>"
      ],
      "text/plain": [
       "   Unnamed: 0 comment_id                                               text  \\\n",
       "0           0    hfu3t3z                                 Minden oké otthon?   \n",
       "1           1    hfu3wlv  Ez azért elég izzadtságszagú azt tekintve, hog...   \n",
       "2           2    hfu491h                                téged ki bántott :(   \n",
       "3           3    hfu407d                               Még nincs szombat...   \n",
       "4           4    hfu4nyg  Ezazz! Te is szereted ha megbasznak szárazon, ...   \n",
       "\n",
       "         author  upvotes   timestamp post_id  lens  \n",
       "0       drakvuf       15  1633686153  q3uef4     3  \n",
       "1     Debre1024        6  1633686239  q3uef4    15  \n",
       "2  Endymion2748        6  1633686552  q3uef4     4  \n",
       "3    LazyTomTom        3  1633686328  q3uef4     3  \n",
       "4    DrTorrente        3  1633686923  q3uef4    21  "
      ]
     },
     "execution_count": 2,
     "metadata": {},
     "output_type": "execute_result"
    }
   ],
   "source": [
    "comment_df = pd.read_excel(r\"..\\data\\psaw_comments_from_sept1_pol.xlsx\")\n",
    "comment_df[\"lens\"] = comment_df.text.str.split().map(lambda x: len(x))\n",
    "comment_df.head()"
   ]
  },
  {
   "cell_type": "code",
   "execution_count": 3,
   "metadata": {},
   "outputs": [
    {
     "name": "stdout",
     "output_type": "stream",
     "text": [
      "<class 'pandas.core.frame.DataFrame'>\n",
      "RangeIndex: 12950 entries, 0 to 12949\n",
      "Data columns (total 8 columns):\n",
      " #   Column      Non-Null Count  Dtype \n",
      "---  ------      --------------  ----- \n",
      " 0   Unnamed: 0  12950 non-null  int64 \n",
      " 1   comment_id  12950 non-null  object\n",
      " 2   text        12950 non-null  object\n",
      " 3   author      12950 non-null  object\n",
      " 4   upvotes     12950 non-null  int64 \n",
      " 5   timestamp   12950 non-null  int64 \n",
      " 6   post_id     12950 non-null  object\n",
      " 7   lens        12950 non-null  int64 \n",
      "dtypes: int64(4), object(4)\n",
      "memory usage: 809.5+ KB\n"
     ]
    }
   ],
   "source": [
    "comment_df.info()"
   ]
  },
  {
   "cell_type": "markdown",
   "metadata": {},
   "source": [
    "# Cleaning\n",
    "\n",
    "## Remove\n",
    "-  web links\n",
    "-  user mentions\n",
    "-  emojis\n",
    "- punctuation\n",
    "- numbers\n",
    "- newline characters\n",
    "- tabs\n",
    "<br>\n",
    "\n",
    "- make lowercase\n"
   ]
  },
  {
   "cell_type": "code",
   "execution_count": 4,
   "metadata": {},
   "outputs": [
    {
     "name": "stdout",
     "output_type": "stream",
     "text": [
      "Before:\n",
      " [u/shiffer_andras](https://youtu.be/dQw4w9WgXcQ) vélemény?\n",
      "Num of http: 589\n",
      "\n",
      "After:\n",
      " [u/shiffer_andras]( vélemény?\n",
      "Num of http: 0\n",
      "Num of https: 0\n"
     ]
    }
   ],
   "source": [
    "#Remove web links\n",
    "print(\"Before:\\n\",comment_df[\"text\"].iloc[25])\n",
    "print(\"Num of http:\", comment_df[\"text\"].map(lambda x: \"http\" in x).sum())\n",
    "\n",
    "\n",
    "comment_df[\"text\"] = comment_df[\"text\"].map( lambda x: re.sub(r'http\\S+', '', x) )\n",
    "print(\"\\nAfter:\\n\",comment_df[\"text\"].iloc[25])\n",
    "print(\"Num of http:\",comment_df.text.map(lambda x: \"http\" in x).sum())\n",
    "print(\"Num of https:\",comment_df.text.map(lambda x: \"https\" in x).sum())\n",
    "\n"
   ]
  },
  {
   "cell_type": "code",
   "execution_count": 5,
   "metadata": {},
   "outputs": [
    {
     "name": "stdout",
     "output_type": "stream",
     "text": [
      "Before:\n",
      " [u/shiffer_andras]( vélemény?\n",
      "Num of user mentions: 47\n",
      "\n",
      "After:\n",
      " [ vélemény?\n",
      "Num of user mentions: 0\n",
      "Num of user mentions: 0\n"
     ]
    }
   ],
   "source": [
    "#remove user mentions, u/shiffer_andras vélemény?\n",
    "\n",
    "print(\"Before:\\n\",comment_df[\"text\"].iloc[25])\n",
    "print(\"Num of user mentions:\", comment_df[\"text\"].map(lambda x: \"u/\" in x).sum())\n",
    "\n",
    "comment_df[\"text\"] = comment_df[\"text\"].map( lambda x: re.sub(r\"u/\\S+\", \"\", x))\n",
    "\n",
    "print(\"\\nAfter:\\n\",comment_df[\"text\"].iloc[25])\n",
    "print(\"Num of user mentions:\",comment_df.text.map(lambda x: \"u/\" in x).sum())\n",
    "print(\"Num of user mentions:\",comment_df.text.map(lambda x: \"u/\" in x).sum())"
   ]
  },
  {
   "cell_type": "code",
   "execution_count": 6,
   "metadata": {},
   "outputs": [
    {
     "name": "stdout",
     "output_type": "stream",
     "text": [
      "Before: Lmao, fosik a malac 🥴\n",
      "After: Lmao, fosik a malac \n"
     ]
    }
   ],
   "source": [
    "#remove emojis, lmao, fosik a malac\n",
    "print(\"Before:\",comment_df.text[15]) \n",
    "comment_df[\"text\"] = comment_df[\"text\"].map( lambda text: emoji.get_emoji_regexp().sub(u'', text) )\n",
    "print(\"After:\",comment_df.text[15])"
   ]
  },
  {
   "cell_type": "code",
   "execution_count": 7,
   "metadata": {},
   "outputs": [],
   "source": [
    "from string import punctuation, digits\n",
    "\n",
    "#Remove numbers\n",
    "for d in digits:\n",
    "    comment_df[\"text\"] = comment_df[\"text\"].str.replace(d, \"\")\n",
    "\n",
    "#Remove punctuations\n",
    "for s in punctuation:\n",
    "    comment_df[\"text\"] = comment_df[\"text\"].str.replace(s, \"\")\n",
    "\n",
    "#Make lowercase\n",
    "comment_df[\"text\"] = comment_df[\"text\"].str.lower()\n",
    "\n",
    "#remove newline \n",
    "comment_df[\"text\"] = comment_df[\"text\"].str.replace(\"\\n\", \" \")\n",
    "\n",
    "#remove newline \n",
    "comment_df[\"text\"] = comment_df[\"text\"].str.replace(\"\\t\", \" \")"
   ]
  },
  {
   "cell_type": "code",
   "execution_count": 8,
   "metadata": {},
   "outputs": [],
   "source": [
    "# split every comment on whitespace\n",
    "comment_df.text = comment_df.text.str.split(\" \")\n",
    "\n",
    "#remove empty string ''\n",
    "notEmpty = lambda word: word != \"\"\n",
    "comment_df.text = comment_df.text.map(lambda line: list(filter(notEmpty, line)))"
   ]
  },
  {
   "cell_type": "code",
   "execution_count": 9,
   "metadata": {},
   "outputs": [],
   "source": [
    "comment_df.drop(index =[ 1209, 1220, 4802, 10207], inplace = True)"
   ]
  },
  {
   "cell_type": "code",
   "execution_count": 10,
   "metadata": {},
   "outputs": [
    {
     "data": {
      "text/plain": [
       "0                                    [minden, oké, otthon]\n",
       "1        [ez, azért, elég, izzadtságszagú, azt, tekintv...\n",
       "2                                     [téged, ki, bántott]\n",
       "3                                    [még, nincs, szombat]\n",
       "4        [ezazz, te, is, szereted, ha, megbasznak, szár...\n",
       "                               ...                        \n",
       "12945    [protip, for, life, a, bírósági, ítéleteket, m...\n",
       "12946    [végül, a, hangfelvételen, a, dulakodás, is, c...\n",
       "12947    [schiffer, és, srb, urak, kavarják, a, szart, ...\n",
       "12948    [milyen, érdekes, hogy, ez, a, per, is, pont, ...\n",
       "12949                                 [de, schiffer, fasz]\n",
       "Name: text, Length: 12946, dtype: object"
      ]
     },
     "execution_count": 10,
     "metadata": {},
     "output_type": "execute_result"
    }
   ],
   "source": [
    "comment_df.text"
   ]
  },
  {
   "cell_type": "markdown",
   "metadata": {},
   "source": [
    "# Removing stopwords and stemming"
   ]
  },
  {
   "cell_type": "code",
   "execution_count": 11,
   "metadata": {},
   "outputs": [
    {
     "name": "stdout",
     "output_type": "stream",
     "text": [
      "['a', 'ahogy', 'ahol', 'aki', 'akik', 'akkor', 'alatt', 'által', 'általában', 'amely', 'amelyek', 'amelyekben', 'amelyeket', 'amelyet', 'amelynek', 'ami', 'amit', 'amolyan', 'amíg', 'amikor', 'át', 'abban', 'ahhoz', 'annak', 'arra', 'arról', 'az', 'azok', 'azon', 'azt', 'azzal', 'azért', 'aztán', 'azután', 'azonban', 'bár', 'be', 'belül', 'benne', 'cikk', 'cikkek', 'cikkeket', 'csak', 'de', 'e', 'eddig', 'egész', 'egy', 'egyes', 'egyetlen', 'egyéb', 'egyik', 'egyre', 'ekkor', 'el', 'elég', 'ellen', 'elõ', 'elõször', 'elõtt', 'elsõ', 'én', 'éppen', 'ebben', 'ehhez', 'emilyen', 'ennek', 'erre', 'ez', 'ezt', 'ezek', 'ezen', 'ezzel', 'ezért', 'és', 'fel', 'felé', 'hanem', 'hiszen', 'hogy', 'hogyan', 'igen', 'így', 'illetve', 'ill.', 'ill', 'ilyen', 'ilyenkor', 'ison', 'ismét', 'itt', 'jó', 'jól', 'jobban', 'kell', 'kellett', 'keresztül', 'keressünk', 'ki', 'kívül', 'között', 'közül', 'legalább', 'lehet', 'lehetett', 'legyen', 'lenne', 'lenni', 'lesz', 'lett', 'maga', 'magát', 'majd', 'majd', 'már', 'más', 'másik', 'meg', 'még', 'mellett', 'mert', 'mely', 'melyek', 'mi', 'mit', 'míg', 'miért', 'milyen', 'mikor', 'minden', 'mindent', 'mindenki', 'mindig', 'mint', 'mintha', 'mivel', 'most', 'nagy', 'nagyobb', 'nagyon', 'ne', 'néha', 'nekem', 'neki', 'nem', 'néhány', 'nélkül', 'nincs', 'olyan', 'ott', 'össze', 'õ', 'õk', 'õket', 'pedig', 'persze', 'rá', 's', 'saját', 'sem', 'semmi', 'sok', 'sokat', 'sokkal', 'számára', 'szemben', 'szerint', 'szinte', 'talán', 'tehát', 'teljes', 'tovább', 'továbbá', 'több', 'úgy', 'ugyanis', 'új', 'újabb', 'újra', 'után', 'utána', 'utolsó', 'vagy', 'vagyis', 'valaki', 'valami', 'valamint', 'való', 'vagyok', 'van', 'vannak', 'volt', 'voltam', 'voltak', 'voltunk', 'vissza', 'vele', 'viszont', 'volna']\n"
     ]
    },
    {
     "name": "stderr",
     "output_type": "stream",
     "text": [
      "[nltk_data] Downloading package stopwords to\n",
      "[nltk_data]     C:\\Users\\balin\\AppData\\Roaming\\nltk_data...\n",
      "[nltk_data]   Package stopwords is already up-to-date!\n"
     ]
    }
   ],
   "source": [
    "import nltk\n",
    "nltk.download(\"stopwords\")\n",
    "from nltk.corpus import stopwords\n",
    "hu_stop = stopwords.words(\"hungarian\")\n",
    "print(hu_stop)"
   ]
  },
  {
   "cell_type": "code",
   "execution_count": 12,
   "metadata": {},
   "outputs": [],
   "source": [
    "#Loading additional stopwords from github\n",
    "\n",
    "with open(r\"..\\data\\misc\\hu_stopwords.txt\", \"r\",  encoding='utf-8') as f:\n",
    "    additional_stopwords = f.readlines()\n",
    "\n",
    "additional_stopwords = [ word.replace(\"\\n\",\"\") for word in additional_stopwords ]\n",
    "hu_stop += additional_stopwords\n",
    "hu_stop += [\"kb\", \"es\", \"\", \"  \"]\n",
    "hu_stop = list(set(hu_stop))"
   ]
  },
  {
   "cell_type": "code",
   "execution_count": 13,
   "metadata": {},
   "outputs": [],
   "source": [
    "#filtering stopwords\n",
    "def filterStopword(word):\n",
    "    if word in hu_stop:\n",
    "        return False\n",
    "    else:\n",
    "        return True\n",
    "\n",
    "#filtered_text = list(filter(filterStopword, comment_words))\n",
    "comment_df.text = comment_df.text.map(lambda line: list(filter(filterStopword, line)))"
   ]
  },
  {
   "cell_type": "code",
   "execution_count": 14,
   "metadata": {},
   "outputs": [
    {
     "data": {
      "application/vnd.plotly.v1+json": {
       "config": {
        "plotlyServerURL": "https://plot.ly"
       },
       "data": [
        {
         "marker": {
          "color": "rgb(17,165,121)",
          "line": {
           "color": "rgb(17,165,121)",
           "width": 0.5
          }
         },
         "opacity": 0.6,
         "type": "bar",
         "x": [
          "mzp",
          "fidesz",
          "dobrev",
          "karácsony",
          "szavazni",
          "fog",
          "gyurcsány",
          "orbán",
          "ellenzéki",
          "ember",
          "tudom",
          "dk",
          "amúgy",
          "magyar",
          "jelölt",
          "fideszes",
          "emberek",
          "politikai",
          "biztos",
          "szóval",
          "jobb",
          "annyira",
          "the",
          "ellenzék",
          "sajnos"
         ],
         "y": [
          1091,
          912,
          703,
          611,
          521,
          458,
          443,
          383,
          360,
          352,
          345,
          340,
          316,
          311,
          301,
          287,
          287,
          264,
          264,
          255,
          254,
          249,
          248,
          243,
          242
         ]
        }
       ],
       "layout": {
        "template": {
         "data": {
          "bar": [
           {
            "error_x": {
             "color": "#2a3f5f"
            },
            "error_y": {
             "color": "#2a3f5f"
            },
            "marker": {
             "line": {
              "color": "#E5ECF6",
              "width": 0.5
             }
            },
            "type": "bar"
           }
          ],
          "barpolar": [
           {
            "marker": {
             "line": {
              "color": "#E5ECF6",
              "width": 0.5
             }
            },
            "type": "barpolar"
           }
          ],
          "carpet": [
           {
            "aaxis": {
             "endlinecolor": "#2a3f5f",
             "gridcolor": "white",
             "linecolor": "white",
             "minorgridcolor": "white",
             "startlinecolor": "#2a3f5f"
            },
            "baxis": {
             "endlinecolor": "#2a3f5f",
             "gridcolor": "white",
             "linecolor": "white",
             "minorgridcolor": "white",
             "startlinecolor": "#2a3f5f"
            },
            "type": "carpet"
           }
          ],
          "choropleth": [
           {
            "colorbar": {
             "outlinewidth": 0,
             "ticks": ""
            },
            "type": "choropleth"
           }
          ],
          "contour": [
           {
            "colorbar": {
             "outlinewidth": 0,
             "ticks": ""
            },
            "colorscale": [
             [
              0,
              "#0d0887"
             ],
             [
              0.1111111111111111,
              "#46039f"
             ],
             [
              0.2222222222222222,
              "#7201a8"
             ],
             [
              0.3333333333333333,
              "#9c179e"
             ],
             [
              0.4444444444444444,
              "#bd3786"
             ],
             [
              0.5555555555555556,
              "#d8576b"
             ],
             [
              0.6666666666666666,
              "#ed7953"
             ],
             [
              0.7777777777777778,
              "#fb9f3a"
             ],
             [
              0.8888888888888888,
              "#fdca26"
             ],
             [
              1,
              "#f0f921"
             ]
            ],
            "type": "contour"
           }
          ],
          "contourcarpet": [
           {
            "colorbar": {
             "outlinewidth": 0,
             "ticks": ""
            },
            "type": "contourcarpet"
           }
          ],
          "heatmap": [
           {
            "colorbar": {
             "outlinewidth": 0,
             "ticks": ""
            },
            "colorscale": [
             [
              0,
              "#0d0887"
             ],
             [
              0.1111111111111111,
              "#46039f"
             ],
             [
              0.2222222222222222,
              "#7201a8"
             ],
             [
              0.3333333333333333,
              "#9c179e"
             ],
             [
              0.4444444444444444,
              "#bd3786"
             ],
             [
              0.5555555555555556,
              "#d8576b"
             ],
             [
              0.6666666666666666,
              "#ed7953"
             ],
             [
              0.7777777777777778,
              "#fb9f3a"
             ],
             [
              0.8888888888888888,
              "#fdca26"
             ],
             [
              1,
              "#f0f921"
             ]
            ],
            "type": "heatmap"
           }
          ],
          "heatmapgl": [
           {
            "colorbar": {
             "outlinewidth": 0,
             "ticks": ""
            },
            "colorscale": [
             [
              0,
              "#0d0887"
             ],
             [
              0.1111111111111111,
              "#46039f"
             ],
             [
              0.2222222222222222,
              "#7201a8"
             ],
             [
              0.3333333333333333,
              "#9c179e"
             ],
             [
              0.4444444444444444,
              "#bd3786"
             ],
             [
              0.5555555555555556,
              "#d8576b"
             ],
             [
              0.6666666666666666,
              "#ed7953"
             ],
             [
              0.7777777777777778,
              "#fb9f3a"
             ],
             [
              0.8888888888888888,
              "#fdca26"
             ],
             [
              1,
              "#f0f921"
             ]
            ],
            "type": "heatmapgl"
           }
          ],
          "histogram": [
           {
            "marker": {
             "colorbar": {
              "outlinewidth": 0,
              "ticks": ""
             }
            },
            "type": "histogram"
           }
          ],
          "histogram2d": [
           {
            "colorbar": {
             "outlinewidth": 0,
             "ticks": ""
            },
            "colorscale": [
             [
              0,
              "#0d0887"
             ],
             [
              0.1111111111111111,
              "#46039f"
             ],
             [
              0.2222222222222222,
              "#7201a8"
             ],
             [
              0.3333333333333333,
              "#9c179e"
             ],
             [
              0.4444444444444444,
              "#bd3786"
             ],
             [
              0.5555555555555556,
              "#d8576b"
             ],
             [
              0.6666666666666666,
              "#ed7953"
             ],
             [
              0.7777777777777778,
              "#fb9f3a"
             ],
             [
              0.8888888888888888,
              "#fdca26"
             ],
             [
              1,
              "#f0f921"
             ]
            ],
            "type": "histogram2d"
           }
          ],
          "histogram2dcontour": [
           {
            "colorbar": {
             "outlinewidth": 0,
             "ticks": ""
            },
            "colorscale": [
             [
              0,
              "#0d0887"
             ],
             [
              0.1111111111111111,
              "#46039f"
             ],
             [
              0.2222222222222222,
              "#7201a8"
             ],
             [
              0.3333333333333333,
              "#9c179e"
             ],
             [
              0.4444444444444444,
              "#bd3786"
             ],
             [
              0.5555555555555556,
              "#d8576b"
             ],
             [
              0.6666666666666666,
              "#ed7953"
             ],
             [
              0.7777777777777778,
              "#fb9f3a"
             ],
             [
              0.8888888888888888,
              "#fdca26"
             ],
             [
              1,
              "#f0f921"
             ]
            ],
            "type": "histogram2dcontour"
           }
          ],
          "mesh3d": [
           {
            "colorbar": {
             "outlinewidth": 0,
             "ticks": ""
            },
            "type": "mesh3d"
           }
          ],
          "parcoords": [
           {
            "line": {
             "colorbar": {
              "outlinewidth": 0,
              "ticks": ""
             }
            },
            "type": "parcoords"
           }
          ],
          "pie": [
           {
            "automargin": true,
            "type": "pie"
           }
          ],
          "scatter": [
           {
            "marker": {
             "colorbar": {
              "outlinewidth": 0,
              "ticks": ""
             }
            },
            "type": "scatter"
           }
          ],
          "scatter3d": [
           {
            "line": {
             "colorbar": {
              "outlinewidth": 0,
              "ticks": ""
             }
            },
            "marker": {
             "colorbar": {
              "outlinewidth": 0,
              "ticks": ""
             }
            },
            "type": "scatter3d"
           }
          ],
          "scattercarpet": [
           {
            "marker": {
             "colorbar": {
              "outlinewidth": 0,
              "ticks": ""
             }
            },
            "type": "scattercarpet"
           }
          ],
          "scattergeo": [
           {
            "marker": {
             "colorbar": {
              "outlinewidth": 0,
              "ticks": ""
             }
            },
            "type": "scattergeo"
           }
          ],
          "scattergl": [
           {
            "marker": {
             "colorbar": {
              "outlinewidth": 0,
              "ticks": ""
             }
            },
            "type": "scattergl"
           }
          ],
          "scattermapbox": [
           {
            "marker": {
             "colorbar": {
              "outlinewidth": 0,
              "ticks": ""
             }
            },
            "type": "scattermapbox"
           }
          ],
          "scatterpolar": [
           {
            "marker": {
             "colorbar": {
              "outlinewidth": 0,
              "ticks": ""
             }
            },
            "type": "scatterpolar"
           }
          ],
          "scatterpolargl": [
           {
            "marker": {
             "colorbar": {
              "outlinewidth": 0,
              "ticks": ""
             }
            },
            "type": "scatterpolargl"
           }
          ],
          "scatterternary": [
           {
            "marker": {
             "colorbar": {
              "outlinewidth": 0,
              "ticks": ""
             }
            },
            "type": "scatterternary"
           }
          ],
          "surface": [
           {
            "colorbar": {
             "outlinewidth": 0,
             "ticks": ""
            },
            "colorscale": [
             [
              0,
              "#0d0887"
             ],
             [
              0.1111111111111111,
              "#46039f"
             ],
             [
              0.2222222222222222,
              "#7201a8"
             ],
             [
              0.3333333333333333,
              "#9c179e"
             ],
             [
              0.4444444444444444,
              "#bd3786"
             ],
             [
              0.5555555555555556,
              "#d8576b"
             ],
             [
              0.6666666666666666,
              "#ed7953"
             ],
             [
              0.7777777777777778,
              "#fb9f3a"
             ],
             [
              0.8888888888888888,
              "#fdca26"
             ],
             [
              1,
              "#f0f921"
             ]
            ],
            "type": "surface"
           }
          ],
          "table": [
           {
            "cells": {
             "fill": {
              "color": "#EBF0F8"
             },
             "line": {
              "color": "white"
             }
            },
            "header": {
             "fill": {
              "color": "#C8D4E3"
             },
             "line": {
              "color": "white"
             }
            },
            "type": "table"
           }
          ]
         },
         "layout": {
          "annotationdefaults": {
           "arrowcolor": "#2a3f5f",
           "arrowhead": 0,
           "arrowwidth": 1
          },
          "autotypenumbers": "strict",
          "coloraxis": {
           "colorbar": {
            "outlinewidth": 0,
            "ticks": ""
           }
          },
          "colorscale": {
           "diverging": [
            [
             0,
             "#8e0152"
            ],
            [
             0.1,
             "#c51b7d"
            ],
            [
             0.2,
             "#de77ae"
            ],
            [
             0.3,
             "#f1b6da"
            ],
            [
             0.4,
             "#fde0ef"
            ],
            [
             0.5,
             "#f7f7f7"
            ],
            [
             0.6,
             "#e6f5d0"
            ],
            [
             0.7,
             "#b8e186"
            ],
            [
             0.8,
             "#7fbc41"
            ],
            [
             0.9,
             "#4d9221"
            ],
            [
             1,
             "#276419"
            ]
           ],
           "sequential": [
            [
             0,
             "#0d0887"
            ],
            [
             0.1111111111111111,
             "#46039f"
            ],
            [
             0.2222222222222222,
             "#7201a8"
            ],
            [
             0.3333333333333333,
             "#9c179e"
            ],
            [
             0.4444444444444444,
             "#bd3786"
            ],
            [
             0.5555555555555556,
             "#d8576b"
            ],
            [
             0.6666666666666666,
             "#ed7953"
            ],
            [
             0.7777777777777778,
             "#fb9f3a"
            ],
            [
             0.8888888888888888,
             "#fdca26"
            ],
            [
             1,
             "#f0f921"
            ]
           ],
           "sequentialminus": [
            [
             0,
             "#0d0887"
            ],
            [
             0.1111111111111111,
             "#46039f"
            ],
            [
             0.2222222222222222,
             "#7201a8"
            ],
            [
             0.3333333333333333,
             "#9c179e"
            ],
            [
             0.4444444444444444,
             "#bd3786"
            ],
            [
             0.5555555555555556,
             "#d8576b"
            ],
            [
             0.6666666666666666,
             "#ed7953"
            ],
            [
             0.7777777777777778,
             "#fb9f3a"
            ],
            [
             0.8888888888888888,
             "#fdca26"
            ],
            [
             1,
             "#f0f921"
            ]
           ]
          },
          "colorway": [
           "#636efa",
           "#EF553B",
           "#00cc96",
           "#ab63fa",
           "#FFA15A",
           "#19d3f3",
           "#FF6692",
           "#B6E880",
           "#FF97FF",
           "#FECB52"
          ],
          "font": {
           "color": "#2a3f5f"
          },
          "geo": {
           "bgcolor": "white",
           "lakecolor": "white",
           "landcolor": "#E5ECF6",
           "showlakes": true,
           "showland": true,
           "subunitcolor": "white"
          },
          "hoverlabel": {
           "align": "left"
          },
          "hovermode": "closest",
          "mapbox": {
           "style": "light"
          },
          "paper_bgcolor": "white",
          "plot_bgcolor": "#E5ECF6",
          "polar": {
           "angularaxis": {
            "gridcolor": "white",
            "linecolor": "white",
            "ticks": ""
           },
           "bgcolor": "#E5ECF6",
           "radialaxis": {
            "gridcolor": "white",
            "linecolor": "white",
            "ticks": ""
           }
          },
          "scene": {
           "xaxis": {
            "backgroundcolor": "#E5ECF6",
            "gridcolor": "white",
            "gridwidth": 2,
            "linecolor": "white",
            "showbackground": true,
            "ticks": "",
            "zerolinecolor": "white"
           },
           "yaxis": {
            "backgroundcolor": "#E5ECF6",
            "gridcolor": "white",
            "gridwidth": 2,
            "linecolor": "white",
            "showbackground": true,
            "ticks": "",
            "zerolinecolor": "white"
           },
           "zaxis": {
            "backgroundcolor": "#E5ECF6",
            "gridcolor": "white",
            "gridwidth": 2,
            "linecolor": "white",
            "showbackground": true,
            "ticks": "",
            "zerolinecolor": "white"
           }
          },
          "shapedefaults": {
           "line": {
            "color": "#2a3f5f"
           }
          },
          "ternary": {
           "aaxis": {
            "gridcolor": "white",
            "linecolor": "white",
            "ticks": ""
           },
           "baxis": {
            "gridcolor": "white",
            "linecolor": "white",
            "ticks": ""
           },
           "bgcolor": "#E5ECF6",
           "caxis": {
            "gridcolor": "white",
            "linecolor": "white",
            "ticks": ""
           }
          },
          "title": {
           "x": 0.05
          },
          "xaxis": {
           "automargin": true,
           "gridcolor": "white",
           "linecolor": "white",
           "ticks": "",
           "title": {
            "standoff": 15
           },
           "zerolinecolor": "white",
           "zerolinewidth": 2
          },
          "yaxis": {
           "automargin": true,
           "gridcolor": "white",
           "linecolor": "white",
           "ticks": "",
           "title": {
            "standoff": 15
           },
           "zerolinecolor": "white",
           "zerolinewidth": 2
          }
         }
        },
        "title": {
         "text": "Barchart of the most frequent words"
        },
        "yaxis": {
         "title": {
          "text": "word frequency"
         },
         "type": "log"
        }
       }
      }
     },
     "metadata": {},
     "output_type": "display_data"
    }
   ],
   "source": [
    "cntr = collections.Counter( flatten(comment_df.text) )\n",
    "ws, cnt = zip( *cntr.most_common() )\n",
    "\n",
    "fig = go.Figure([go.Bar(x=ws[:25], y=cnt[:25], marker_color = 'rgb(17,165,121)')])\n",
    "fig.update_yaxes(type=\"log\")\n",
    "\n",
    "fig.update_traces(marker_line_color='rgb(17,165,121)',\n",
    "                  marker_line_width=0.5, opacity=0.6)\n",
    "\n",
    "fig.update_layout(title=\"Barchart of the most frequent words\",\n",
    "                  yaxis_title=\"word frequency\",)\n",
    "\n",
    "fig.show()"
   ]
  },
  {
   "cell_type": "code",
   "execution_count": 15,
   "metadata": {},
   "outputs": [
    {
     "data": {
      "text/plain": [
       "'comment_df[\"text\"] = comment_df.text.map( lambda word: \" \".join(list(filter(filterStopword, word.split(\" \")))))\\ncomment_df.text.head()'"
      ]
     },
     "execution_count": 15,
     "metadata": {},
     "output_type": "execute_result"
    }
   ],
   "source": [
    "\"\"\"comment_df[\"text\"] = comment_df.text.map( lambda word: \" \".join(list(filter(filterStopword, word.split(\" \")))))\n",
    "comment_df.text.head()\"\"\""
   ]
  },
  {
   "cell_type": "code",
   "execution_count": 16,
   "metadata": {},
   "outputs": [],
   "source": [
    "from nltk.stem import SnowballStemmer\n",
    "\n",
    "#Stemming tweets\n",
    "snow = SnowballStemmer('hungarian',ignore_stopwords=True)\n",
    "\n",
    "comment_df.text = comment_df.text.map(lambda line: \" \".join([snow.stem(word) for word in line]))\n",
    "\n",
    "comment_df = comment_df[comment_df.text.map(lambda line: len(line.split(\" \"))) > 6]\n",
    "comment_df = comment_df[comment_df.text.map(lambda line: len(line.split(\" \"))) < 100]\n",
    "comment_df = comment_df.reset_index().drop(columns = [\"index\"])\n",
    "#comment_df.to_excel(\"..\\data\\cleaned_swed_stemmed.xlsx\")"
   ]
  },
  {
   "cell_type": "code",
   "execution_count": 17,
   "metadata": {},
   "outputs": [
    {
     "data": {
      "text/plain": [
       "(6727, 8)"
      ]
     },
     "execution_count": 17,
     "metadata": {},
     "output_type": "execute_result"
    }
   ],
   "source": [
    "comment_df.shape"
   ]
  },
  {
   "cell_type": "markdown",
   "metadata": {},
   "source": [
    "# TF-IDF"
   ]
  },
  {
   "cell_type": "code",
   "execution_count": 19,
   "metadata": {},
   "outputs": [],
   "source": [
    "from sklearn.feature_extraction.text import CountVectorizer\n",
    "c = CountVectorizer()"
   ]
  },
  {
   "cell_type": "code",
   "execution_count": 20,
   "metadata": {},
   "outputs": [
    {
     "data": {
      "text/plain": [
       "array([[0, 0, 0, ..., 0, 0, 0],\n",
       "       [0, 0, 0, ..., 0, 0, 0],\n",
       "       [0, 0, 0, ..., 0, 0, 0],\n",
       "       ...,\n",
       "       [0, 0, 0, ..., 0, 0, 0],\n",
       "       [0, 0, 0, ..., 0, 0, 0],\n",
       "       [0, 0, 0, ..., 0, 0, 0]], dtype=int64)"
      ]
     },
     "execution_count": 20,
     "metadata": {},
     "output_type": "execute_result"
    }
   ],
   "source": [
    "c.fit_transform(comment_df.text).toarray()"
   ]
  },
  {
   "cell_type": "code",
   "execution_count": 21,
   "metadata": {},
   "outputs": [
    {
     "data": {
      "text/plain": [
       "(1.0, 60.0)"
      ]
     },
     "execution_count": 21,
     "metadata": {},
     "output_type": "execute_result"
    },
    {
     "data": {
      "image/png": "[encoded data removed]",
      "text/plain": [
       "<Figure size 432x288 with 1 Axes>"
      ]
     },
     "metadata": {
      "needs_background": "light"
     },
     "output_type": "display_data"
    }
   ],
   "source": [
    "plt.hist(c.fit_transform(comment_df.text).toarray().flatten(), bins = 30)\n",
    "plt.yscale(\"log\")\n",
    "plt.xlim(1,60)"
   ]
  },
  {
   "cell_type": "code",
   "execution_count": 22,
   "metadata": {},
   "outputs": [
    {
     "data": {
      "text/plain": [
       "0       1.0\n",
       "1       1.0\n",
       "2       1.0\n",
       "3       1.0\n",
       "4       1.0\n",
       "       ... \n",
       "6722    1.0\n",
       "6723    1.0\n",
       "6724    1.0\n",
       "6725    1.0\n",
       "6726    1.0\n",
       "Length: 6727, dtype: float64"
      ]
     },
     "execution_count": 22,
     "metadata": {},
     "output_type": "execute_result"
    }
   ],
   "source": [
    "term_doc = pd.DataFrame(c.fit_transform(comment_df.text.astype('U')).toarray())\n",
    "#term_doc = pd.get_dummies(comment_df.text)\n",
    "\n",
    "term_frequency = term_doc.divide( term_doc.sum(axis=\"columns\"), axis=\"rows\")\n",
    "term_frequency.sum(axis=\"columns\")"
   ]
  },
  {
   "cell_type": "code",
   "execution_count": 23,
   "metadata": {},
   "outputs": [
    {
     "name": "stderr",
     "output_type": "stream",
     "text": [
      "C:\\Users\\balin\\Anaconda3\\lib\\site-packages\\sklearn\\utils\\deprecation.py:87: FutureWarning:\n",
      "\n",
      "Function get_feature_names is deprecated; get_feature_names is deprecated in 1.0 and will be removed in 1.2. Please use get_feature_names_out instead.\n",
      "\n"
     ]
    },
    {
     "data": {
      "text/html": [
       "<div>\n",
       "<style scoped>\n",
       "    .dataframe tbody tr th:only-of-type {\n",
       "        vertical-align: middle;\n",
       "    }\n",
       "\n",
       "    .dataframe tbody tr th {\n",
       "        vertical-align: top;\n",
       "    }\n",
       "\n",
       "    .dataframe thead th {\n",
       "        text-align: right;\n",
       "    }\n",
       "</style>\n",
       "<table border=\"1\" class=\"dataframe\">\n",
       "  <thead>\n",
       "    <tr style=\"text-align: right;\">\n",
       "      <th></th>\n",
       "      <th>aaaaa</th>\n",
       "      <th>aaaaaa</th>\n",
       "      <th>aaaaaaaaaa</th>\n",
       "      <th>aacgtatgggcctatatttgcccgacatagggcggcctaattgattgacatagcgtatgggcctatgacataggcatagggcttatgaccaaggttaag</th>\n",
       "      <th>aacgtatgggcctatatttgcccgacataggggggcctaattgattgacatagcgtatgggcctatgacataggcatagggcttatgaccaaggttaag</th>\n",
       "      <th>abbahagyta</th>\n",
       "      <th>abbol</th>\n",
       "      <th>abdlocker</th>\n",
       "      <th>abl</th>\n",
       "      <th>abnormális</th>\n",
       "      <th>...</th>\n",
       "      <th>őszint</th>\n",
       "      <th>őszinte</th>\n",
       "      <th>őszinteség</th>\n",
       "      <th>őszintébb</th>\n",
       "      <th>őszintétlen</th>\n",
       "      <th>ősztől</th>\n",
       "      <th>őszöd</th>\n",
       "      <th>őzbak</th>\n",
       "      <th>őélkasdjfasj</th>\n",
       "      <th>űz</th>\n",
       "    </tr>\n",
       "  </thead>\n",
       "  <tbody>\n",
       "    <tr>\n",
       "      <th>0</th>\n",
       "      <td>0</td>\n",
       "      <td>0</td>\n",
       "      <td>0</td>\n",
       "      <td>0</td>\n",
       "      <td>0</td>\n",
       "      <td>0</td>\n",
       "      <td>0</td>\n",
       "      <td>0</td>\n",
       "      <td>0</td>\n",
       "      <td>0</td>\n",
       "      <td>...</td>\n",
       "      <td>0</td>\n",
       "      <td>0</td>\n",
       "      <td>0</td>\n",
       "      <td>0</td>\n",
       "      <td>0</td>\n",
       "      <td>0</td>\n",
       "      <td>0</td>\n",
       "      <td>0</td>\n",
       "      <td>0</td>\n",
       "      <td>0</td>\n",
       "    </tr>\n",
       "    <tr>\n",
       "      <th>1</th>\n",
       "      <td>0</td>\n",
       "      <td>0</td>\n",
       "      <td>0</td>\n",
       "      <td>0</td>\n",
       "      <td>0</td>\n",
       "      <td>0</td>\n",
       "      <td>0</td>\n",
       "      <td>0</td>\n",
       "      <td>0</td>\n",
       "      <td>0</td>\n",
       "      <td>...</td>\n",
       "      <td>0</td>\n",
       "      <td>0</td>\n",
       "      <td>0</td>\n",
       "      <td>0</td>\n",
       "      <td>0</td>\n",
       "      <td>0</td>\n",
       "      <td>0</td>\n",
       "      <td>0</td>\n",
       "      <td>0</td>\n",
       "      <td>0</td>\n",
       "    </tr>\n",
       "    <tr>\n",
       "      <th>2</th>\n",
       "      <td>0</td>\n",
       "      <td>0</td>\n",
       "      <td>0</td>\n",
       "      <td>0</td>\n",
       "      <td>0</td>\n",
       "      <td>0</td>\n",
       "      <td>0</td>\n",
       "      <td>0</td>\n",
       "      <td>0</td>\n",
       "      <td>0</td>\n",
       "      <td>...</td>\n",
       "      <td>0</td>\n",
       "      <td>0</td>\n",
       "      <td>0</td>\n",
       "      <td>0</td>\n",
       "      <td>0</td>\n",
       "      <td>0</td>\n",
       "      <td>0</td>\n",
       "      <td>0</td>\n",
       "      <td>0</td>\n",
       "      <td>0</td>\n",
       "    </tr>\n",
       "    <tr>\n",
       "      <th>3</th>\n",
       "      <td>0</td>\n",
       "      <td>0</td>\n",
       "      <td>0</td>\n",
       "      <td>0</td>\n",
       "      <td>0</td>\n",
       "      <td>0</td>\n",
       "      <td>0</td>\n",
       "      <td>0</td>\n",
       "      <td>0</td>\n",
       "      <td>0</td>\n",
       "      <td>...</td>\n",
       "      <td>0</td>\n",
       "      <td>0</td>\n",
       "      <td>0</td>\n",
       "      <td>0</td>\n",
       "      <td>0</td>\n",
       "      <td>0</td>\n",
       "      <td>0</td>\n",
       "      <td>0</td>\n",
       "      <td>0</td>\n",
       "      <td>0</td>\n",
       "    </tr>\n",
       "    <tr>\n",
       "      <th>4</th>\n",
       "      <td>0</td>\n",
       "      <td>0</td>\n",
       "      <td>0</td>\n",
       "      <td>0</td>\n",
       "      <td>0</td>\n",
       "      <td>0</td>\n",
       "      <td>0</td>\n",
       "      <td>0</td>\n",
       "      <td>0</td>\n",
       "      <td>0</td>\n",
       "      <td>...</td>\n",
       "      <td>0</td>\n",
       "      <td>0</td>\n",
       "      <td>0</td>\n",
       "      <td>0</td>\n",
       "      <td>0</td>\n",
       "      <td>0</td>\n",
       "      <td>0</td>\n",
       "      <td>0</td>\n",
       "      <td>0</td>\n",
       "      <td>0</td>\n",
       "    </tr>\n",
       "    <tr>\n",
       "      <th>...</th>\n",
       "      <td>...</td>\n",
       "      <td>...</td>\n",
       "      <td>...</td>\n",
       "      <td>...</td>\n",
       "      <td>...</td>\n",
       "      <td>...</td>\n",
       "      <td>...</td>\n",
       "      <td>...</td>\n",
       "      <td>...</td>\n",
       "      <td>...</td>\n",
       "      <td>...</td>\n",
       "      <td>...</td>\n",
       "      <td>...</td>\n",
       "      <td>...</td>\n",
       "      <td>...</td>\n",
       "      <td>...</td>\n",
       "      <td>...</td>\n",
       "      <td>...</td>\n",
       "      <td>...</td>\n",
       "      <td>...</td>\n",
       "      <td>...</td>\n",
       "    </tr>\n",
       "    <tr>\n",
       "      <th>6722</th>\n",
       "      <td>0</td>\n",
       "      <td>0</td>\n",
       "      <td>0</td>\n",
       "      <td>0</td>\n",
       "      <td>0</td>\n",
       "      <td>0</td>\n",
       "      <td>0</td>\n",
       "      <td>0</td>\n",
       "      <td>0</td>\n",
       "      <td>0</td>\n",
       "      <td>...</td>\n",
       "      <td>0</td>\n",
       "      <td>0</td>\n",
       "      <td>0</td>\n",
       "      <td>0</td>\n",
       "      <td>0</td>\n",
       "      <td>0</td>\n",
       "      <td>0</td>\n",
       "      <td>0</td>\n",
       "      <td>0</td>\n",
       "      <td>0</td>\n",
       "    </tr>\n",
       "    <tr>\n",
       "      <th>6723</th>\n",
       "      <td>0</td>\n",
       "      <td>0</td>\n",
       "      <td>0</td>\n",
       "      <td>0</td>\n",
       "      <td>0</td>\n",
       "      <td>0</td>\n",
       "      <td>0</td>\n",
       "      <td>0</td>\n",
       "      <td>0</td>\n",
       "      <td>0</td>\n",
       "      <td>...</td>\n",
       "      <td>0</td>\n",
       "      <td>0</td>\n",
       "      <td>0</td>\n",
       "      <td>0</td>\n",
       "      <td>0</td>\n",
       "      <td>0</td>\n",
       "      <td>0</td>\n",
       "      <td>0</td>\n",
       "      <td>0</td>\n",
       "      <td>0</td>\n",
       "    </tr>\n",
       "    <tr>\n",
       "      <th>6724</th>\n",
       "      <td>0</td>\n",
       "      <td>0</td>\n",
       "      <td>0</td>\n",
       "      <td>0</td>\n",
       "      <td>0</td>\n",
       "      <td>0</td>\n",
       "      <td>0</td>\n",
       "      <td>0</td>\n",
       "      <td>0</td>\n",
       "      <td>0</td>\n",
       "      <td>...</td>\n",
       "      <td>0</td>\n",
       "      <td>0</td>\n",
       "      <td>0</td>\n",
       "      <td>0</td>\n",
       "      <td>0</td>\n",
       "      <td>0</td>\n",
       "      <td>0</td>\n",
       "      <td>0</td>\n",
       "      <td>0</td>\n",
       "      <td>0</td>\n",
       "    </tr>\n",
       "    <tr>\n",
       "      <th>6725</th>\n",
       "      <td>0</td>\n",
       "      <td>0</td>\n",
       "      <td>0</td>\n",
       "      <td>0</td>\n",
       "      <td>0</td>\n",
       "      <td>0</td>\n",
       "      <td>0</td>\n",
       "      <td>0</td>\n",
       "      <td>0</td>\n",
       "      <td>0</td>\n",
       "      <td>...</td>\n",
       "      <td>0</td>\n",
       "      <td>0</td>\n",
       "      <td>0</td>\n",
       "      <td>0</td>\n",
       "      <td>0</td>\n",
       "      <td>0</td>\n",
       "      <td>0</td>\n",
       "      <td>0</td>\n",
       "      <td>0</td>\n",
       "      <td>0</td>\n",
       "    </tr>\n",
       "    <tr>\n",
       "      <th>6726</th>\n",
       "      <td>0</td>\n",
       "      <td>0</td>\n",
       "      <td>0</td>\n",
       "      <td>0</td>\n",
       "      <td>0</td>\n",
       "      <td>0</td>\n",
       "      <td>0</td>\n",
       "      <td>0</td>\n",
       "      <td>0</td>\n",
       "      <td>0</td>\n",
       "      <td>...</td>\n",
       "      <td>0</td>\n",
       "      <td>0</td>\n",
       "      <td>0</td>\n",
       "      <td>0</td>\n",
       "      <td>0</td>\n",
       "      <td>0</td>\n",
       "      <td>0</td>\n",
       "      <td>0</td>\n",
       "      <td>0</td>\n",
       "      <td>0</td>\n",
       "    </tr>\n",
       "  </tbody>\n",
       "</table>\n",
       "<p>6727 rows × 29520 columns</p>\n",
       "</div>"
      ],
      "text/plain": [
       "      aaaaa  aaaaaa  aaaaaaaaaa  \\\n",
       "0         0       0           0   \n",
       "1         0       0           0   \n",
       "2         0       0           0   \n",
       "3         0       0           0   \n",
       "4         0       0           0   \n",
       "...     ...     ...         ...   \n",
       "6722      0       0           0   \n",
       "6723      0       0           0   \n",
       "6724      0       0           0   \n",
       "6725      0       0           0   \n",
       "6726      0       0           0   \n",
       "\n",
       "      aacgtatgggcctatatttgcccgacatagggcggcctaattgattgacatagcgtatgggcctatgacataggcatagggcttatgaccaaggttaag  \\\n",
       "0                                                     0                                                     \n",
       "1                                                     0                                                     \n",
       "2                                                     0                                                     \n",
       "3                                                     0                                                     \n",
       "4                                                     0                                                     \n",
       "...                                                 ...                                                     \n",
       "6722                                                  0                                                     \n",
       "6723                                                  0                                                     \n",
       "6724                                                  0                                                     \n",
       "6725                                                  0                                                     \n",
       "6726                                                  0                                                     \n",
       "\n",
       "      aacgtatgggcctatatttgcccgacataggggggcctaattgattgacatagcgtatgggcctatgacataggcatagggcttatgaccaaggttaag  \\\n",
       "0                                                     0                                                     \n",
       "1                                                     0                                                     \n",
       "2                                                     0                                                     \n",
       "3                                                     0                                                     \n",
       "4                                                     0                                                     \n",
       "...                                                 ...                                                     \n",
       "6722                                                  0                                                     \n",
       "6723                                                  0                                                     \n",
       "6724                                                  0                                                     \n",
       "6725                                                  0                                                     \n",
       "6726                                                  0                                                     \n",
       "\n",
       "      abbahagyta  abbol  abdlocker  abl  abnormális  ...  őszint  őszinte  \\\n",
       "0              0      0          0    0           0  ...       0        0   \n",
       "1              0      0          0    0           0  ...       0        0   \n",
       "2              0      0          0    0           0  ...       0        0   \n",
       "3              0      0          0    0           0  ...       0        0   \n",
       "4              0      0          0    0           0  ...       0        0   \n",
       "...          ...    ...        ...  ...         ...  ...     ...      ...   \n",
       "6722           0      0          0    0           0  ...       0        0   \n",
       "6723           0      0          0    0           0  ...       0        0   \n",
       "6724           0      0          0    0           0  ...       0        0   \n",
       "6725           0      0          0    0           0  ...       0        0   \n",
       "6726           0      0          0    0           0  ...       0        0   \n",
       "\n",
       "      őszinteség  őszintébb  őszintétlen  ősztől  őszöd  őzbak  őélkasdjfasj  \\\n",
       "0              0          0            0       0      0      0             0   \n",
       "1              0          0            0       0      0      0             0   \n",
       "2              0          0            0       0      0      0             0   \n",
       "3              0          0            0       0      0      0             0   \n",
       "4              0          0            0       0      0      0             0   \n",
       "...          ...        ...          ...     ...    ...    ...           ...   \n",
       "6722           0          0            0       0      0      0             0   \n",
       "6723           0          0            0       0      0      0             0   \n",
       "6724           0          0            0       0      0      0             0   \n",
       "6725           0          0            0       0      0      0             0   \n",
       "6726           0          0            0       0      0      0             0   \n",
       "\n",
       "      űz  \n",
       "0      0  \n",
       "1      0  \n",
       "2      0  \n",
       "3      0  \n",
       "4      0  \n",
       "...   ..  \n",
       "6722   0  \n",
       "6723   0  \n",
       "6724   0  \n",
       "6725   0  \n",
       "6726   0  \n",
       "\n",
       "[6727 rows x 29520 columns]"
      ]
     },
     "execution_count": 23,
     "metadata": {},
     "output_type": "execute_result"
    }
   ],
   "source": [
    "#(term_doc.sum(axis=\"columns\") < 1).sum()\n",
    "term_doc.columns = c.get_feature_names()\n",
    "#c.get_feature_names(term_doc)\n",
    "term_doc"
   ]
  },
  {
   "cell_type": "code",
   "execution_count": 24,
   "metadata": {},
   "outputs": [
    {
     "data": {
      "text/html": [
       "<div>\n",
       "<style scoped>\n",
       "    .dataframe tbody tr th:only-of-type {\n",
       "        vertical-align: middle;\n",
       "    }\n",
       "\n",
       "    .dataframe tbody tr th {\n",
       "        vertical-align: top;\n",
       "    }\n",
       "\n",
       "    .dataframe thead th {\n",
       "        text-align: right;\n",
       "    }\n",
       "</style>\n",
       "<table border=\"1\" class=\"dataframe\">\n",
       "  <thead>\n",
       "    <tr style=\"text-align: right;\">\n",
       "      <th></th>\n",
       "      <th>Unnamed: 0</th>\n",
       "      <th>comment_id</th>\n",
       "      <th>text</th>\n",
       "      <th>author</th>\n",
       "      <th>upvotes</th>\n",
       "      <th>timestamp</th>\n",
       "      <th>post_id</th>\n",
       "      <th>lens</th>\n",
       "    </tr>\n",
       "  </thead>\n",
       "  <tbody>\n",
       "  </tbody>\n",
       "</table>\n",
       "</div>"
      ],
      "text/plain": [
       "Empty DataFrame\n",
       "Columns: [Unnamed: 0, comment_id, text, author, upvotes, timestamp, post_id, lens]\n",
       "Index: []"
      ]
     },
     "execution_count": 24,
     "metadata": {},
     "output_type": "execute_result"
    }
   ],
   "source": [
    "#check which elements are none\n",
    "comment_df.reset_index().drop(columns = [\"index\"])[term_frequency.isna().T.any()]"
   ]
  },
  {
   "cell_type": "code",
   "execution_count": 29,
   "metadata": {},
   "outputs": [
    {
     "data": {
      "text/plain": [
       "0       0\n",
       "1       0\n",
       "2       0\n",
       "3       0\n",
       "4       0\n",
       "       ..\n",
       "6722    0\n",
       "6723    0\n",
       "6724    0\n",
       "6725    0\n",
       "6726    0\n",
       "Name: aacgtatgggcctatatttgcccgacatagggcggcctaattgattgacatagcgtatgggcctatgacataggcatagggcttatgaccaaggttaag, Length: 6727, dtype: int64"
      ]
     },
     "execution_count": 29,
     "metadata": {},
     "output_type": "execute_result"
    }
   ],
   "source": [
    "term_doc.iloc[:,3]"
   ]
  },
  {
   "cell_type": "code",
   "execution_count": 30,
   "metadata": {},
   "outputs": [],
   "source": [
    "# idf number of documents / number of documents containing the word\n",
    "temp = np.zeros(len(term_doc.columns))\n",
    "\n",
    "for i in range(len(temp)):\n",
    "    temp[i] = sum(term_doc.iloc[:,i].map(lambda x: 1 if x > 0 else 0))\n",
    "    \n",
    "idf = np.log(len(term_doc) / temp)"
   ]
  },
  {
   "cell_type": "code",
   "execution_count": 31,
   "metadata": {},
   "outputs": [
    {
     "data": {
      "text/plain": [
       "(6727, 29520)"
      ]
     },
     "execution_count": 31,
     "metadata": {},
     "output_type": "execute_result"
    }
   ],
   "source": [
    "pd.DataFrame(c.fit_transform(comment_df.text).toarray()).shape"
   ]
  },
  {
   "cell_type": "markdown",
   "metadata": {},
   "source": [
    "For some very odd reason using count vectorizer produced some (4) NaN values, which wallopped the SVD calculation"
   ]
  },
  {
   "cell_type": "code",
   "execution_count": 32,
   "metadata": {},
   "outputs": [
    {
     "data": {
      "text/plain": [
       "'1.0'"
      ]
     },
     "execution_count": 32,
     "metadata": {},
     "output_type": "execute_result"
    }
   ],
   "source": [
    "(term_doc.sum(axis=\"columns\")<1).sum()\n",
    "#c.get_feature_names_out(2)\n",
    "import sklearn\n",
    "sklearn.__version__"
   ]
  },
  {
   "cell_type": "code",
   "execution_count": null,
   "metadata": {},
   "outputs": [
    {
     "data": {
      "text/plain": [
       "((6731, 6671), 6671)"
      ]
     },
     "execution_count": 21,
     "metadata": {},
     "output_type": "execute_result"
    }
   ],
   "source": [
    "term_doc.shape, len(idf)"
   ]
  },
  {
   "cell_type": "code",
   "execution_count": 33,
   "metadata": {},
   "outputs": [
    {
     "data": {
      "text/plain": [
       "(array([6.0000e+00, 3.0000e+00, 1.1000e+01, 2.0000e+01, 3.3000e+01,\n",
       "        4.1000e+01, 7.0000e+01, 1.2800e+02, 1.5700e+02, 2.2500e+02,\n",
       "        2.9400e+02, 4.1200e+02, 5.0700e+02, 6.7300e+02, 8.4400e+02,\n",
       "        1.6430e+03, 1.7240e+03, 3.8180e+03, 0.0000e+00, 1.8911e+04]),\n",
       " array([2.11438422, 2.44935923, 2.78433425, 3.11930927, 3.45428429,\n",
       "        3.7892593 , 4.12423432, 4.45920934, 4.79418435, 5.12915937,\n",
       "        5.46413439, 5.7991094 , 6.13408442, 6.46905944, 6.80403446,\n",
       "        7.13900947, 7.47398449, 7.80895951, 8.14393452, 8.47890954,\n",
       "        8.81388456]),\n",
       " <BarContainer object of 20 artists>)"
      ]
     },
     "execution_count": 33,
     "metadata": {},
     "output_type": "execute_result"
    },
    {
     "data": {
      "image/png": "[encoded data removed]",
      "text/plain": [
       "<Figure size 432x288 with 1 Axes>"
      ]
     },
     "metadata": {
      "needs_background": "light"
     },
     "output_type": "display_data"
    }
   ],
   "source": [
    "plt.hist(idf, bins = 20)"
   ]
  },
  {
   "cell_type": "code",
   "execution_count": 34,
   "metadata": {},
   "outputs": [
    {
     "data": {
      "text/plain": [
       "0       1.0\n",
       "1       1.0\n",
       "2       1.0\n",
       "3       1.0\n",
       "4       1.0\n",
       "       ... \n",
       "6722    1.0\n",
       "6723    1.0\n",
       "6724    1.0\n",
       "6725    1.0\n",
       "6726    1.0\n",
       "Length: 6727, dtype: float64"
      ]
     },
     "execution_count": 34,
     "metadata": {},
     "output_type": "execute_result"
    }
   ],
   "source": [
    "term_frequency = term_doc.divide( term_doc.sum(axis=\"columns\"), axis=\"rows\")\n",
    "term_frequency.sum(axis=\"columns\")"
   ]
  },
  {
   "cell_type": "code",
   "execution_count": 35,
   "metadata": {},
   "outputs": [],
   "source": [
    "tf_idf = term_frequency * idf\n"
   ]
  },
  {
   "cell_type": "code",
   "execution_count": 41,
   "metadata": {},
   "outputs": [],
   "source": [
    "#LSA method: making SVD with the tf_idf, then taking the first n most significant vectors to score the documents\n",
    "\n",
    "from sklearn.decomposition import TruncatedSVD\n",
    "n_comp = 7\n",
    "svd = TruncatedSVD(n_components = n_comp)\n",
    "lsa = svd.fit_transform(tf_idf)"
   ]
  },
  {
   "cell_type": "code",
   "execution_count": 42,
   "metadata": {},
   "outputs": [],
   "source": [
    "topic_encoded_df = pd.DataFrame(lsa, index = comment_df.index,\n",
    "                                columns = [f\"topic{i}\" for i in range(n_comp)])\n",
    "topic_encoded_df[\"text\"] = comment_df.text"
   ]
  },
  {
   "cell_type": "code",
   "execution_count": 43,
   "metadata": {},
   "outputs": [
    {
     "name": "stderr",
     "output_type": "stream",
     "text": [
      "C:\\Users\\balin\\Anaconda3\\lib\\site-packages\\sklearn\\utils\\deprecation.py:87: FutureWarning:\n",
      "\n",
      "Function get_feature_names is deprecated; get_feature_names is deprecated in 1.0 and will be removed in 1.2. Please use get_feature_names_out instead.\n",
      "\n"
     ]
    }
   ],
   "source": [
    "encoding_matrix = pd.DataFrame(svd.components_, \n",
    "                               index = [f\"topic{i}\" for i in range(n_comp)], \n",
    "                               columns = c.get_feature_names())"
   ]
  },
  {
   "cell_type": "code",
   "execution_count": 44,
   "metadata": {},
   "outputs": [],
   "source": [
    "top_by_topic = pd.DataFrame()\n",
    "for col in encoding_matrix.index:\n",
    "    topic_temp_df = pd.DataFrame(encoding_matrix.T.sort_values(col, axis = \"rows\", ascending = False, \n",
    "                                                               key = np.abs)[col][:15]).reset_index()\n",
    "    topic_temp_df.columns = [col, col+\"_value\"]\n",
    "    top_by_topic = pd.concat([top_by_topic, topic_temp_df], axis = 1)"
   ]
  },
  {
   "cell_type": "code",
   "execution_count": 48,
   "metadata": {},
   "outputs": [
    {
     "data": {
      "text/html": [
       "<div>\n",
       "<style scoped>\n",
       "    .dataframe tbody tr th:only-of-type {\n",
       "        vertical-align: middle;\n",
       "    }\n",
       "\n",
       "    .dataframe tbody tr th {\n",
       "        vertical-align: top;\n",
       "    }\n",
       "\n",
       "    .dataframe thead th {\n",
       "        text-align: right;\n",
       "    }\n",
       "</style>\n",
       "<table border=\"1\" class=\"dataframe\">\n",
       "  <thead>\n",
       "    <tr style=\"text-align: right;\">\n",
       "      <th></th>\n",
       "      <th>topic0</th>\n",
       "      <th>topic0_value</th>\n",
       "      <th>topic1</th>\n",
       "      <th>topic1_value</th>\n",
       "      <th>topic2</th>\n",
       "      <th>topic2_value</th>\n",
       "      <th>topic3</th>\n",
       "      <th>topic3_value</th>\n",
       "      <th>topic4</th>\n",
       "      <th>topic4_value</th>\n",
       "      <th>topic5</th>\n",
       "      <th>topic5_value</th>\n",
       "      <th>topic6</th>\n",
       "      <th>topic6_value</th>\n",
       "    </tr>\n",
       "  </thead>\n",
       "  <tbody>\n",
       "    <tr>\n",
       "      <th>0</th>\n",
       "      <td>dobrev</td>\n",
       "      <td>0.275129</td>\n",
       "      <td>poll</td>\n",
       "      <td>0.698320</td>\n",
       "      <td>dobrev</td>\n",
       "      <td>-0.295531</td>\n",
       "      <td>karácsony</td>\n",
       "      <td>0.334473</td>\n",
       "      <td>stop</td>\n",
       "      <td>0.631816</td>\n",
       "      <td>tóth</td>\n",
       "      <td>0.611525</td>\n",
       "      <td>the</td>\n",
       "      <td>0.298485</td>\n",
       "    </tr>\n",
       "    <tr>\n",
       "      <th>1</th>\n",
       "      <td>mzp</td>\n",
       "      <td>0.229880</td>\n",
       "      <td>peter</td>\n",
       "      <td>0.598082</td>\n",
       "      <td>nap</td>\n",
       "      <td>0.270916</td>\n",
       "      <td>dobrev</td>\n",
       "      <td>0.312081</td>\n",
       "      <td>gyurcsány</td>\n",
       "      <td>0.416867</td>\n",
       "      <td>csa</td>\n",
       "      <td>0.578525</td>\n",
       "      <td>onlin</td>\n",
       "      <td>0.259320</td>\n",
       "    </tr>\n",
       "    <tr>\n",
       "      <th>2</th>\n",
       "      <td>karácsony</td>\n",
       "      <td>0.221081</td>\n",
       "      <td>tegyel</td>\n",
       "      <td>0.137998</td>\n",
       "      <td>próbál</td>\n",
       "      <td>0.248543</td>\n",
       "      <td>mzp</td>\n",
       "      <td>0.246360</td>\n",
       "      <td>dobrev</td>\n",
       "      <td>-0.319287</td>\n",
       "      <td>hadházy</td>\n",
       "      <td>0.191263</td>\n",
       "      <td>dobrev</td>\n",
       "      <td>-0.257683</td>\n",
       "    </tr>\n",
       "    <tr>\n",
       "      <th>3</th>\n",
       "      <td>fidesz</td>\n",
       "      <td>0.196126</td>\n",
       "      <td>reportol</td>\n",
       "      <td>0.126285</td>\n",
       "      <td>karácsony</td>\n",
       "      <td>-0.243735</td>\n",
       "      <td>végrehajtv</td>\n",
       "      <td>0.194559</td>\n",
       "      <td>soros</td>\n",
       "      <td>0.175365</td>\n",
       "      <td>kihátrál</td>\n",
       "      <td>0.130459</td>\n",
       "      <td>mzp</td>\n",
       "      <td>0.253210</td>\n",
       "    </tr>\n",
       "    <tr>\n",
       "      <th>4</th>\n",
       "      <td>fog</td>\n",
       "      <td>0.191463</td>\n",
       "      <td>tam</td>\n",
       "      <td>0.122562</td>\n",
       "      <td>végrehajtv</td>\n",
       "      <td>0.241405</td>\n",
       "      <td>átlépt</td>\n",
       "      <td>0.192273</td>\n",
       "      <td>karácsony</td>\n",
       "      <td>0.143315</td>\n",
       "      <td>fidesz</td>\n",
       "      <td>-0.121641</td>\n",
       "      <td>fidesz</td>\n",
       "      <td>-0.235593</td>\n",
       "    </tr>\n",
       "    <tr>\n",
       "      <th>5</th>\n",
       "      <td>szavazn</td>\n",
       "      <td>0.152273</td>\n",
       "      <td>ci</td>\n",
       "      <td>0.116681</td>\n",
       "      <td>átlépt</td>\n",
       "      <td>0.238809</td>\n",
       "      <td>korlát</td>\n",
       "      <td>0.187435</td>\n",
       "      <td>szavaz</td>\n",
       "      <td>-0.142244</td>\n",
       "      <td>zugló</td>\n",
       "      <td>0.118876</td>\n",
       "      <td>perc</td>\n",
       "      <td>0.180663</td>\n",
       "    </tr>\n",
       "    <tr>\n",
       "      <th>6</th>\n",
       "      <td>gyurcsány</td>\n",
       "      <td>0.137208</td>\n",
       "      <td>uj</td>\n",
       "      <td>0.110229</td>\n",
       "      <td>posz</td>\n",
       "      <td>0.237780</td>\n",
       "      <td>posz</td>\n",
       "      <td>0.180900</td>\n",
       "      <td>aláírás</td>\n",
       "      <td>0.093600</td>\n",
       "      <td>fog</td>\n",
       "      <td>0.111660</td>\n",
       "      <td>bizonyite</td>\n",
       "      <td>0.143985</td>\n",
       "    </tr>\n",
       "    <tr>\n",
       "      <th>7</th>\n",
       "      <td>ellenze</td>\n",
       "      <td>0.135590</td>\n",
       "      <td>vegzetes</td>\n",
       "      <td>0.076240</td>\n",
       "      <td>poszt</td>\n",
       "      <td>0.236134</td>\n",
       "      <td>poszt</td>\n",
       "      <td>0.179463</td>\n",
       "      <td>szavazn</td>\n",
       "      <td>-0.091675</td>\n",
       "      <td>karácsony</td>\n",
       "      <td>0.094834</td>\n",
       "      <td>szavazás</td>\n",
       "      <td>0.134188</td>\n",
       "    </tr>\n",
       "    <tr>\n",
       "      <th>8</th>\n",
       "      <td>ember</td>\n",
       "      <td>0.132539</td>\n",
       "      <td>figyelmes</td>\n",
       "      <td>0.074699</td>\n",
       "      <td>korlát</td>\n",
       "      <td>0.234496</td>\n",
       "      <td>stop</td>\n",
       "      <td>0.174868</td>\n",
       "      <td>fog</td>\n",
       "      <td>-0.090188</td>\n",
       "      <td>ákos</td>\n",
       "      <td>0.083024</td>\n",
       "      <td>fog</td>\n",
       "      <td>0.132937</td>\n",
       "    </tr>\n",
       "    <tr>\n",
       "      <th>9</th>\n",
       "      <td>szavaz</td>\n",
       "      <td>0.130417</td>\n",
       "      <td>lecsap</td>\n",
       "      <td>0.074699</td>\n",
       "      <td>automatikus</td>\n",
       "      <td>0.211905</td>\n",
       "      <td>próbál</td>\n",
       "      <td>0.171217</td>\n",
       "      <td>forduló</td>\n",
       "      <td>-0.084362</td>\n",
       "      <td>mzp</td>\n",
       "      <td>-0.081490</td>\n",
       "      <td>to</td>\n",
       "      <td>0.132515</td>\n",
       "    </tr>\n",
       "    <tr>\n",
       "      <th>10</th>\n",
       "      <td>tud</td>\n",
       "      <td>0.129183</td>\n",
       "      <td>ittv</td>\n",
       "      <td>0.070277</td>\n",
       "      <td>törölt</td>\n",
       "      <td>0.208271</td>\n",
       "      <td>törölt</td>\n",
       "      <td>0.166784</td>\n",
       "      <td>jakab</td>\n",
       "      <td>-0.070628</td>\n",
       "      <td>orb</td>\n",
       "      <td>-0.078169</td>\n",
       "      <td>szavaz</td>\n",
       "      <td>-0.127172</td>\n",
       "    </tr>\n",
       "    <tr>\n",
       "      <th>11</th>\n",
       "      <td>orb</td>\n",
       "      <td>0.125170</td>\n",
       "      <td>mzp</td>\n",
       "      <td>-0.068955</td>\n",
       "      <td>intézkedés</td>\n",
       "      <td>0.206420</td>\n",
       "      <td>automatikus</td>\n",
       "      <td>0.166463</td>\n",
       "      <td>mzp</td>\n",
       "      <td>-0.068950</td>\n",
       "      <td>stop</td>\n",
       "      <td>-0.066831</td>\n",
       "      <td>ellenze</td>\n",
       "      <td>-0.112402</td>\n",
       "    </tr>\n",
       "    <tr>\n",
       "      <th>12</th>\n",
       "      <td>szavazó</td>\n",
       "      <td>0.117347</td>\n",
       "      <td>templ</td>\n",
       "      <td>0.068559</td>\n",
       "      <td>bot</td>\n",
       "      <td>0.203738</td>\n",
       "      <td>bot</td>\n",
       "      <td>0.162993</td>\n",
       "      <td>acemoglunégynégynégy</td>\n",
       "      <td>0.066693</td>\n",
       "      <td>ügy</td>\n",
       "      <td>0.064487</td>\n",
       "      <td>of</td>\n",
       "      <td>0.106557</td>\n",
       "    </tr>\n",
       "    <tr>\n",
       "      <th>13</th>\n",
       "      <td>előválasztás</td>\n",
       "      <td>0.116602</td>\n",
       "      <td>mar</td>\n",
       "      <td>0.054782</td>\n",
       "      <td>mzp</td>\n",
       "      <td>-0.171177</td>\n",
       "      <td>intézkedés</td>\n",
       "      <td>0.159691</td>\n",
       "      <td>the</td>\n",
       "      <td>0.062813</td>\n",
       "      <td>big</td>\n",
       "      <td>0.064475</td>\n",
       "      <td>karácsony</td>\n",
       "      <td>0.105213</td>\n",
       "    </tr>\n",
       "    <tr>\n",
       "      <th>14</th>\n",
       "      <td>nyer</td>\n",
       "      <td>0.098740</td>\n",
       "      <td>un</td>\n",
       "      <td>0.050634</td>\n",
       "      <td>poll</td>\n",
       "      <td>-0.093573</td>\n",
       "      <td>nap</td>\n",
       "      <td>0.156509</td>\n",
       "      <td>gyurcsany</td>\n",
       "      <td>0.059376</td>\n",
       "      <td>számíthat</td>\n",
       "      <td>0.063680</td>\n",
       "      <td>szavazn</td>\n",
       "      <td>0.104038</td>\n",
       "    </tr>\n",
       "  </tbody>\n",
       "</table>\n",
       "</div>"
      ],
      "text/plain": [
       "          topic0  topic0_value     topic1  topic1_value       topic2  \\\n",
       "0         dobrev      0.275129       poll      0.698320       dobrev   \n",
       "1            mzp      0.229880      peter      0.598082          nap   \n",
       "2      karácsony      0.221081     tegyel      0.137998       próbál   \n",
       "3         fidesz      0.196126   reportol      0.126285    karácsony   \n",
       "4            fog      0.191463        tam      0.122562   végrehajtv   \n",
       "5        szavazn      0.152273         ci      0.116681       átlépt   \n",
       "6      gyurcsány      0.137208         uj      0.110229         posz   \n",
       "7        ellenze      0.135590   vegzetes      0.076240        poszt   \n",
       "8          ember      0.132539  figyelmes      0.074699       korlát   \n",
       "9         szavaz      0.130417     lecsap      0.074699  automatikus   \n",
       "10           tud      0.129183       ittv      0.070277       törölt   \n",
       "11           orb      0.125170        mzp     -0.068955   intézkedés   \n",
       "12       szavazó      0.117347      templ      0.068559          bot   \n",
       "13  előválasztás      0.116602        mar      0.054782          mzp   \n",
       "14          nyer      0.098740         un      0.050634         poll   \n",
       "\n",
       "    topic2_value       topic3  topic3_value                topic4  \\\n",
       "0      -0.295531    karácsony      0.334473                  stop   \n",
       "1       0.270916       dobrev      0.312081             gyurcsány   \n",
       "2       0.248543          mzp      0.246360                dobrev   \n",
       "3      -0.243735   végrehajtv      0.194559                 soros   \n",
       "4       0.241405       átlépt      0.192273             karácsony   \n",
       "5       0.238809       korlát      0.187435                szavaz   \n",
       "6       0.237780         posz      0.180900               aláírás   \n",
       "7       0.236134        poszt      0.179463               szavazn   \n",
       "8       0.234496         stop      0.174868                   fog   \n",
       "9       0.211905       próbál      0.171217               forduló   \n",
       "10      0.208271       törölt      0.166784                 jakab   \n",
       "11      0.206420  automatikus      0.166463                   mzp   \n",
       "12      0.203738          bot      0.162993  acemoglunégynégynégy   \n",
       "13     -0.171177   intézkedés      0.159691                   the   \n",
       "14     -0.093573          nap      0.156509             gyurcsany   \n",
       "\n",
       "    topic4_value     topic5  topic5_value     topic6  topic6_value  \n",
       "0       0.631816       tóth      0.611525        the      0.298485  \n",
       "1       0.416867        csa      0.578525      onlin      0.259320  \n",
       "2      -0.319287    hadházy      0.191263     dobrev     -0.257683  \n",
       "3       0.175365   kihátrál      0.130459        mzp      0.253210  \n",
       "4       0.143315     fidesz     -0.121641     fidesz     -0.235593  \n",
       "5      -0.142244      zugló      0.118876       perc      0.180663  \n",
       "6       0.093600        fog      0.111660  bizonyite      0.143985  \n",
       "7      -0.091675  karácsony      0.094834   szavazás      0.134188  \n",
       "8      -0.090188       ákos      0.083024        fog      0.132937  \n",
       "9      -0.084362        mzp     -0.081490         to      0.132515  \n",
       "10     -0.070628        orb     -0.078169     szavaz     -0.127172  \n",
       "11     -0.068950       stop     -0.066831    ellenze     -0.112402  \n",
       "12      0.066693        ügy      0.064487         of      0.106557  \n",
       "13      0.062813        big      0.064475  karácsony      0.105213  \n",
       "14      0.059376  számíthat      0.063680    szavazn      0.104038  "
      ]
     },
     "execution_count": 48,
     "metadata": {},
     "output_type": "execute_result"
    }
   ],
   "source": [
    "top_by_topic.to_excel(r\"..\\data\\top_by_topic_LSI.xlsx\")\n",
    "top_by_topic\n"
   ]
  }
 ],
 "metadata": {
  "interpreter": {
   "hash": "ed8eca2b220cf1e27a3481ffdb2c31f1e299e2d8073166b9e2e1c30297a93942"
  },
  "kernelspec": {
   "display_name": "Python 3.8.5 64-bit ('base': conda)",
   "name": "python3"
  },
  "language_info": {
   "codemirror_mode": {
    "name": "ipython",
    "version": 3
   },
   "file_extension": ".py",
   "mimetype": "text/x-python",
   "name": "python",
   "nbconvert_exporter": "python",
   "pygments_lexer": "ipython3",
   "version": "3.8.5"
  },
  "orig_nbformat": 4
 },
 "nbformat": 4,
 "nbformat_minor": 2
}
