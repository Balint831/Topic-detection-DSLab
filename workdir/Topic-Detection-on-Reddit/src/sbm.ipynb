{
 "cells": [
  {
   "cell_type": "code",
   "execution_count": 1,
   "id": "419a7459",
   "metadata": {},
   "outputs": [],
   "source": [
    "import sys"
   ]
  },
  {
   "cell_type": "code",
   "execution_count": 2,
   "id": "661e7d91",
   "metadata": {},
   "outputs": [],
   "source": [
    "sys.path.append(\"/home/user/hSBM_Topicmodel\")"
   ]
  },
  {
   "cell_type": "code",
   "execution_count": 3,
   "id": "d38e79e5",
   "metadata": {},
   "outputs": [],
   "source": [
    "from sbmtm import sbmtm\n",
    "import graph_tool.all as gt\n",
    "import pandas as pd\n",
    "from plotly import figure_factory as ff"
   ]
  },
  {
   "cell_type": "code",
   "execution_count": 145,
   "id": "c0a1dfad",
   "metadata": {},
   "outputs": [],
   "source": [
    "comments_df = pd.read_csv(\"/home/user/mnt/DSLab/workdir/Topic-Detection-on-Reddit/data/lemma/group_40_100.csv\")\n",
    "stock_df = pd.read_csv(\"/home/user/mnt/DSLab/workdir/Topic-Detection-on-Reddit/data/psaw_comments_from_sept1_pol_1013.csv\",\n",
    "                      sep=';')"
   ]
  },
  {
   "cell_type": "code",
   "execution_count": 146,
   "id": "2760dc41",
   "metadata": {},
   "outputs": [],
   "source": [
    "change_id_dict = dict(zip(comments_df.index, comments_df[\"Unnamed: 0\"]))"
   ]
  },
  {
   "cell_type": "code",
   "execution_count": 147,
   "id": "4d3ebe3d",
   "metadata": {},
   "outputs": [],
   "source": [
    "texts = comments_df.text.map(lambda line: line.split(\" \")).to_list()"
   ]
  },
  {
   "cell_type": "code",
   "execution_count": 148,
   "id": "d4b0733d",
   "metadata": {},
   "outputs": [
    {
     "name": "stdout",
     "output_type": "stream",
     "text": [
      "<NestedBlockState object, with base <BlockState object with 13952 blocks (27 nonempty), degree-corrected, for graph <Graph object, undirected, with 14977 vertices and 31678 edges, 2 internal vertex properties, 1 internal edge property, at 0x7f7e1cc1bd00>, at 0x7f7e1bece2b0>, and 5 levels of sizes [(14977, 27), (27, 8), (8, 3), (3, 2), (2, 1)] at 0x7f7e1bece3d0>\n"
     ]
    }
   ],
   "source": [
    "model = sbmtm()\n",
    "\n",
    "model.make_graph(texts)\n",
    "\n",
    "model.fit()"
   ]
  },
  {
   "cell_type": "code",
   "execution_count": 141,
   "id": "36f113df",
   "metadata": {},
   "outputs": [],
   "source": [
    "model.plot(nedges=10000, filename = \"small_lemma.png\")"
   ]
  },
  {
   "cell_type": "code",
   "execution_count": 72,
   "id": "7448496f",
   "metadata": {},
   "outputs": [
    {
     "data": {
      "text/plain": [
       "8571                                               Mótvár\n",
       "3147    \"Egy Fideszes ismerõsöm üzenetet küldött a Fac...\n",
       "3205          https://www.youtube.com/watch?v=Sji3zduFBDc\n",
       "3203    Az egész balhé ezzel a ki indul ki lép vissza ...\n",
       "3193    >A propagandagépezet azt hiszem, hogy saját ma...\n",
       "3191    Lehet hogy csak buborék, lehet hogy ostobák. \\...\n",
       "3190    >Hát tényleg ennyire ostoba a magyar nép társa...\n",
       "3186            Mszp még létezik? Nem kell neki. Viszlát.\n",
       "3184                  Botka meg MZP-t támogatja! Egy-egy!\n",
       "3179    Hogy tud Klára megkétszerezett erővel \"országo...\n",
       "Name: text, dtype: object"
      ]
     },
     "execution_count": 72,
     "metadata": {},
     "output_type": "execute_result"
    }
   ],
   "source": [
    "import numpy as np\n",
    "stock_df.iloc[ comments_df.iloc[ np.array(list(model.clusters(l = 1).values()))[0][:,0]][\"Unnamed: 0\"] ].text\n",
    "\n"
   ]
  },
  {
   "cell_type": "code",
   "execution_count": 104,
   "id": "2d57ed10",
   "metadata": {},
   "outputs": [],
   "source": [
    "model.print_summary()"
   ]
  },
  {
   "cell_type": "code",
   "execution_count": 96,
   "id": "74bbf2e3",
   "metadata": {},
   "outputs": [
    {
     "data": {
      "text/plain": [
       "'emlekszem micsoda ûrkorhazak Fidesz elott mazli ugyan asztal ulhettem altalanos suli mamam szar Fidesz sracok naivitassal kurva nehez elet'"
      ]
     },
     "execution_count": 96,
     "metadata": {},
     "output_type": "execute_result"
    }
   ],
   "source": [
    "comments_df.iloc[new_id].text"
   ]
  },
  {
   "cell_type": "code",
   "execution_count": 33,
   "id": "b1c35b51",
   "metadata": {},
   "outputs": [],
   "source": [
    "topic_dict = model.topics(l=0,n=20)"
   ]
  },
  {
   "cell_type": "code",
   "execution_count": 37,
   "id": "63501844",
   "metadata": {},
   "outputs": [],
   "source": [
    "def topicDict2Df(level):\n",
    "    topic_dict = model.topics(l=level,n=20)\n",
    "    col_pairs = []\n",
    "    for key in topic_dict.keys():\n",
    "\n",
    "        words, vals = zip(*topic_dict[ key ])\n",
    "        col_pairs.append( words )\n",
    "        col_pairs.append( vals )\n",
    "\n",
    "    topic_df = pd.DataFrame(col_pairs).T\n",
    "    topic_df.rename(columns = { col: f\"topic_{col//2}\" if col%2==0 else f\"value_{col//2}\" for col in topic_df.columns},\n",
    "                   inplace = True)\n",
    "    \n",
    "    for col in topic_df.columns:\n",
    "        if \"value\" in col:\n",
    "            topic_df[col] = pd.to_numeric( topic_df[col] )\n",
    "            \n",
    "    topic_df = topic_df.round( {col: 4 for col in topic_df.columns} )\n",
    "    return topic_df"
   ]
  },
  {
   "cell_type": "code",
   "execution_count": 35,
   "id": "d68df82f",
   "metadata": {},
   "outputs": [],
   "source": [
    "def show_table(topic_dict):\n",
    "    df = topicDict2Df(topic_dict)\n",
    "    fig = ff.create_table(df)\n",
    "    fig.update_layout(width = 100 * df.shape[1] )\n",
    "    fig.show()"
   ]
  },
  {
   "cell_type": "code",
   "execution_count": 129,
   "id": "4e70c1a7",
   "metadata": {},
   "outputs": [
    {
     "name": "stdout",
     "output_type": "stream",
     "text": [
      "      Unnamed: 0 comment_id  \\\n",
      "2413        2413    hg4bh9o   \n",
      "\n",
      "                                                   text     author  upvotes  \\\n",
      "2413  > Miért kérem én a baloldali szavazatokat is?”...  ellenkult      -13   \n",
      "\n",
      "       timestamp post_id  \n",
      "2413  1633883598  q5b8e1  \n"
     ]
    }
   ],
   "source": [
    "new_id = 369\n",
    "with pd.option_context('display.max_rows', None, 'display.max_columns', None):  # more options can be specified also\n",
    "    print(stock_df[ stock_df.comment_id == comments_df.loc[new_id].comment_id])\n",
    "#model.get_groups()[\"p_tw_d\"][:,new_id]"
   ]
  },
  {
   "cell_type": "code",
   "execution_count": 173,
   "id": "d3d4c59c",
   "metadata": {},
   "outputs": [],
   "source": [
    "pd.options.display.max_colwidth = 1000\n",
    "def lookupComment(new_id):\n",
    "    print(stock_df[ stock_df.comment_id == comments_df.loc[new_id].comment_id].text.to_string())"
   ]
  },
  {
   "cell_type": "code",
   "execution_count": null,
   "id": "4f03f9f1",
   "metadata": {},
   "outputs": [],
   "source": []
  },
  {
   "cell_type": "code",
   "execution_count": 197,
   "id": "7aee3887",
   "metadata": {},
   "outputs": [
    {
     "data": {
      "text/html": [
       "<div>\n",
       "<style scoped>\n",
       "    .dataframe tbody tr th:only-of-type {\n",
       "        vertical-align: middle;\n",
       "    }\n",
       "\n",
       "    .dataframe tbody tr th {\n",
       "        vertical-align: top;\n",
       "    }\n",
       "\n",
       "    .dataframe thead th {\n",
       "        text-align: right;\n",
       "    }\n",
       "</style>\n",
       "<table border=\"1\" class=\"dataframe\">\n",
       "  <thead>\n",
       "    <tr style=\"text-align: right;\">\n",
       "      <th></th>\n",
       "      <th>topic_0</th>\n",
       "      <th>value_0</th>\n",
       "    </tr>\n",
       "  </thead>\n",
       "  <tbody>\n",
       "    <tr>\n",
       "      <th>0</th>\n",
       "      <td>mzp</td>\n",
       "      <td>0.0073</td>\n",
       "    </tr>\n",
       "    <tr>\n",
       "      <th>1</th>\n",
       "      <td>Fidesz</td>\n",
       "      <td>0.0069</td>\n",
       "    </tr>\n",
       "    <tr>\n",
       "      <th>2</th>\n",
       "      <td>dobrev</td>\n",
       "      <td>0.0060</td>\n",
       "    </tr>\n",
       "    <tr>\n",
       "      <th>3</th>\n",
       "      <td>szavaz</td>\n",
       "      <td>0.0059</td>\n",
       "    </tr>\n",
       "    <tr>\n",
       "      <th>4</th>\n",
       "      <td>ember</td>\n",
       "      <td>0.0052</td>\n",
       "    </tr>\n",
       "    <tr>\n",
       "      <th>5</th>\n",
       "      <td>mond</td>\n",
       "      <td>0.0047</td>\n",
       "    </tr>\n",
       "    <tr>\n",
       "      <th>6</th>\n",
       "      <td>akar</td>\n",
       "      <td>0.0041</td>\n",
       "    </tr>\n",
       "    <tr>\n",
       "      <th>7</th>\n",
       "      <td>megy</td>\n",
       "      <td>0.0040</td>\n",
       "    </tr>\n",
       "    <tr>\n",
       "      <th>8</th>\n",
       "      <td>dolog</td>\n",
       "      <td>0.0036</td>\n",
       "    </tr>\n",
       "    <tr>\n",
       "      <th>9</th>\n",
       "      <td>karácsony</td>\n",
       "      <td>0.0036</td>\n",
       "    </tr>\n",
       "    <tr>\n",
       "      <th>10</th>\n",
       "      <td>ország</td>\n",
       "      <td>0.0035</td>\n",
       "    </tr>\n",
       "    <tr>\n",
       "      <th>11</th>\n",
       "      <td>Orbán</td>\n",
       "      <td>0.0035</td>\n",
       "    </tr>\n",
       "    <tr>\n",
       "      <th>12</th>\n",
       "      <td>ellenzéki</td>\n",
       "      <td>0.0032</td>\n",
       "    </tr>\n",
       "    <tr>\n",
       "      <th>13</th>\n",
       "      <td>dk</td>\n",
       "      <td>0.0029</td>\n",
       "    </tr>\n",
       "    <tr>\n",
       "      <th>14</th>\n",
       "      <td>jelöl</td>\n",
       "      <td>0.0028</td>\n",
       "    </tr>\n",
       "    <tr>\n",
       "      <th>15</th>\n",
       "      <td>választás</td>\n",
       "      <td>0.0028</td>\n",
       "    </tr>\n",
       "    <tr>\n",
       "      <th>16</th>\n",
       "      <td>rész</td>\n",
       "      <td>0.0028</td>\n",
       "    </tr>\n",
       "    <tr>\n",
       "      <th>17</th>\n",
       "      <td>annyi</td>\n",
       "      <td>0.0027</td>\n",
       "    </tr>\n",
       "    <tr>\n",
       "      <th>18</th>\n",
       "      <td>gondol</td>\n",
       "      <td>0.0027</td>\n",
       "    </tr>\n",
       "    <tr>\n",
       "      <th>19</th>\n",
       "      <td>tesz</td>\n",
       "      <td>0.0025</td>\n",
       "    </tr>\n",
       "  </tbody>\n",
       "</table>\n",
       "</div>"
      ],
      "text/plain": [
       "      topic_0  value_0\n",
       "0         mzp   0.0073\n",
       "1      Fidesz   0.0069\n",
       "2      dobrev   0.0060\n",
       "3      szavaz   0.0059\n",
       "4       ember   0.0052\n",
       "5        mond   0.0047\n",
       "6        akar   0.0041\n",
       "7        megy   0.0040\n",
       "8       dolog   0.0036\n",
       "9   karácsony   0.0036\n",
       "10     ország   0.0035\n",
       "11      Orbán   0.0035\n",
       "12  ellenzéki   0.0032\n",
       "13         dk   0.0029\n",
       "14      jelöl   0.0028\n",
       "15  választás   0.0028\n",
       "16       rész   0.0028\n",
       "17      annyi   0.0027\n",
       "18     gondol   0.0027\n",
       "19       tesz   0.0025"
      ]
     },
     "execution_count": 197,
     "metadata": {},
     "output_type": "execute_result"
    }
   ],
   "source": [
    "import pandas as pd\n",
    "pd.set_option('display.max_rows', 500)\n",
    "pd.set_option('display.max_columns', 500)\n",
    "pd.set_option('display.width', 1000)\n",
    "topicDict2Df(level = 2)"
   ]
  },
  {
   "cell_type": "code",
   "execution_count": 177,
   "id": "5a49d643",
   "metadata": {},
   "outputs": [],
   "source": [
    "topdist_list = [ model.topicdist(i, l=0) for i in comments_df.index ]"
   ]
  },
  {
   "cell_type": "code",
   "execution_count": 193,
   "id": "9d2972af",
   "metadata": {},
   "outputs": [],
   "source": [
    "topdist_dict = [ dict( dist ) for dist in  topdist_list ]"
   ]
  },
  {
   "cell_type": "code",
   "execution_count": 201,
   "id": "133e3dfe",
   "metadata": {},
   "outputs": [
    {
     "data": {
      "text/html": [
       "<div>\n",
       "<style scoped>\n",
       "    .dataframe tbody tr th:only-of-type {\n",
       "        vertical-align: middle;\n",
       "    }\n",
       "\n",
       "    .dataframe tbody tr th {\n",
       "        vertical-align: top;\n",
       "    }\n",
       "\n",
       "    .dataframe thead th {\n",
       "        text-align: right;\n",
       "    }\n",
       "</style>\n",
       "<table border=\"1\" class=\"dataframe\">\n",
       "  <thead>\n",
       "    <tr style=\"text-align: right;\">\n",
       "      <th></th>\n",
       "      <th>0</th>\n",
       "      <th>1</th>\n",
       "      <th>2</th>\n",
       "      <th>3</th>\n",
       "      <th>4</th>\n",
       "      <th>5</th>\n",
       "      <th>6</th>\n",
       "      <th>7</th>\n",
       "      <th>8</th>\n",
       "      <th>9</th>\n",
       "      <th>10</th>\n",
       "      <th>11</th>\n",
       "      <th>12</th>\n",
       "    </tr>\n",
       "  </thead>\n",
       "  <tbody>\n",
       "    <tr>\n",
       "      <th>0</th>\n",
       "      <td>0.976744</td>\n",
       "      <td>0.023256</td>\n",
       "      <td>0.000000</td>\n",
       "      <td>0.000000</td>\n",
       "      <td>0.000000</td>\n",
       "      <td>0.000000</td>\n",
       "      <td>0.000000</td>\n",
       "      <td>0.000000</td>\n",
       "      <td>0.000000</td>\n",
       "      <td>0.0</td>\n",
       "      <td>0.0</td>\n",
       "      <td>0.0</td>\n",
       "      <td>0.00000</td>\n",
       "    </tr>\n",
       "    <tr>\n",
       "      <th>1</th>\n",
       "      <td>0.170213</td>\n",
       "      <td>0.000000</td>\n",
       "      <td>0.085106</td>\n",
       "      <td>0.702128</td>\n",
       "      <td>0.021277</td>\n",
       "      <td>0.021277</td>\n",
       "      <td>0.000000</td>\n",
       "      <td>0.000000</td>\n",
       "      <td>0.000000</td>\n",
       "      <td>0.0</td>\n",
       "      <td>0.0</td>\n",
       "      <td>0.0</td>\n",
       "      <td>0.00000</td>\n",
       "    </tr>\n",
       "    <tr>\n",
       "      <th>2</th>\n",
       "      <td>0.075000</td>\n",
       "      <td>0.000000</td>\n",
       "      <td>0.075000</td>\n",
       "      <td>0.800000</td>\n",
       "      <td>0.025000</td>\n",
       "      <td>0.025000</td>\n",
       "      <td>0.000000</td>\n",
       "      <td>0.000000</td>\n",
       "      <td>0.000000</td>\n",
       "      <td>0.0</td>\n",
       "      <td>0.0</td>\n",
       "      <td>0.0</td>\n",
       "      <td>0.00000</td>\n",
       "    </tr>\n",
       "    <tr>\n",
       "      <th>3</th>\n",
       "      <td>0.813953</td>\n",
       "      <td>0.046512</td>\n",
       "      <td>0.069767</td>\n",
       "      <td>0.000000</td>\n",
       "      <td>0.023256</td>\n",
       "      <td>0.000000</td>\n",
       "      <td>0.023256</td>\n",
       "      <td>0.023256</td>\n",
       "      <td>0.000000</td>\n",
       "      <td>0.0</td>\n",
       "      <td>0.0</td>\n",
       "      <td>0.0</td>\n",
       "      <td>0.00000</td>\n",
       "    </tr>\n",
       "    <tr>\n",
       "      <th>4</th>\n",
       "      <td>0.428571</td>\n",
       "      <td>0.122449</td>\n",
       "      <td>0.142857</td>\n",
       "      <td>0.000000</td>\n",
       "      <td>0.183673</td>\n",
       "      <td>0.000000</td>\n",
       "      <td>0.102041</td>\n",
       "      <td>0.020408</td>\n",
       "      <td>0.000000</td>\n",
       "      <td>0.0</td>\n",
       "      <td>0.0</td>\n",
       "      <td>0.0</td>\n",
       "      <td>0.00000</td>\n",
       "    </tr>\n",
       "    <tr>\n",
       "      <th>...</th>\n",
       "      <td>...</td>\n",
       "      <td>...</td>\n",
       "      <td>...</td>\n",
       "      <td>...</td>\n",
       "      <td>...</td>\n",
       "      <td>...</td>\n",
       "      <td>...</td>\n",
       "      <td>...</td>\n",
       "      <td>...</td>\n",
       "      <td>...</td>\n",
       "      <td>...</td>\n",
       "      <td>...</td>\n",
       "      <td>...</td>\n",
       "    </tr>\n",
       "    <tr>\n",
       "      <th>624</th>\n",
       "      <td>0.666667</td>\n",
       "      <td>0.083333</td>\n",
       "      <td>0.000000</td>\n",
       "      <td>0.000000</td>\n",
       "      <td>0.000000</td>\n",
       "      <td>0.000000</td>\n",
       "      <td>0.000000</td>\n",
       "      <td>0.000000</td>\n",
       "      <td>0.250000</td>\n",
       "      <td>0.0</td>\n",
       "      <td>0.0</td>\n",
       "      <td>0.0</td>\n",
       "      <td>0.00000</td>\n",
       "    </tr>\n",
       "    <tr>\n",
       "      <th>625</th>\n",
       "      <td>0.755556</td>\n",
       "      <td>0.111111</td>\n",
       "      <td>0.044444</td>\n",
       "      <td>0.000000</td>\n",
       "      <td>0.000000</td>\n",
       "      <td>0.000000</td>\n",
       "      <td>0.022222</td>\n",
       "      <td>0.000000</td>\n",
       "      <td>0.066667</td>\n",
       "      <td>0.0</td>\n",
       "      <td>0.0</td>\n",
       "      <td>0.0</td>\n",
       "      <td>0.00000</td>\n",
       "    </tr>\n",
       "    <tr>\n",
       "      <th>626</th>\n",
       "      <td>0.666667</td>\n",
       "      <td>0.023810</td>\n",
       "      <td>0.047619</td>\n",
       "      <td>0.000000</td>\n",
       "      <td>0.000000</td>\n",
       "      <td>0.000000</td>\n",
       "      <td>0.000000</td>\n",
       "      <td>0.000000</td>\n",
       "      <td>0.261905</td>\n",
       "      <td>0.0</td>\n",
       "      <td>0.0</td>\n",
       "      <td>0.0</td>\n",
       "      <td>0.00000</td>\n",
       "    </tr>\n",
       "    <tr>\n",
       "      <th>627</th>\n",
       "      <td>0.825000</td>\n",
       "      <td>0.100000</td>\n",
       "      <td>0.050000</td>\n",
       "      <td>0.000000</td>\n",
       "      <td>0.000000</td>\n",
       "      <td>0.000000</td>\n",
       "      <td>0.000000</td>\n",
       "      <td>0.000000</td>\n",
       "      <td>0.025000</td>\n",
       "      <td>0.0</td>\n",
       "      <td>0.0</td>\n",
       "      <td>0.0</td>\n",
       "      <td>0.00000</td>\n",
       "    </tr>\n",
       "    <tr>\n",
       "      <th>628</th>\n",
       "      <td>0.926829</td>\n",
       "      <td>0.024390</td>\n",
       "      <td>0.024390</td>\n",
       "      <td>0.000000</td>\n",
       "      <td>0.000000</td>\n",
       "      <td>0.000000</td>\n",
       "      <td>0.000000</td>\n",
       "      <td>0.000000</td>\n",
       "      <td>0.000000</td>\n",
       "      <td>0.0</td>\n",
       "      <td>0.0</td>\n",
       "      <td>0.0</td>\n",
       "      <td>0.02439</td>\n",
       "    </tr>\n",
       "  </tbody>\n",
       "</table>\n",
       "<p>629 rows × 13 columns</p>\n",
       "</div>"
      ],
      "text/plain": [
       "           0         1         2         3         4         5         6         7         8    9    10   11       12\n",
       "0    0.976744  0.023256  0.000000  0.000000  0.000000  0.000000  0.000000  0.000000  0.000000  0.0  0.0  0.0  0.00000\n",
       "1    0.170213  0.000000  0.085106  0.702128  0.021277  0.021277  0.000000  0.000000  0.000000  0.0  0.0  0.0  0.00000\n",
       "2    0.075000  0.000000  0.075000  0.800000  0.025000  0.025000  0.000000  0.000000  0.000000  0.0  0.0  0.0  0.00000\n",
       "3    0.813953  0.046512  0.069767  0.000000  0.023256  0.000000  0.023256  0.023256  0.000000  0.0  0.0  0.0  0.00000\n",
       "4    0.428571  0.122449  0.142857  0.000000  0.183673  0.000000  0.102041  0.020408  0.000000  0.0  0.0  0.0  0.00000\n",
       "..        ...       ...       ...       ...       ...       ...       ...       ...       ...  ...  ...  ...      ...\n",
       "624  0.666667  0.083333  0.000000  0.000000  0.000000  0.000000  0.000000  0.000000  0.250000  0.0  0.0  0.0  0.00000\n",
       "625  0.755556  0.111111  0.044444  0.000000  0.000000  0.000000  0.022222  0.000000  0.066667  0.0  0.0  0.0  0.00000\n",
       "626  0.666667  0.023810  0.047619  0.000000  0.000000  0.000000  0.000000  0.000000  0.261905  0.0  0.0  0.0  0.00000\n",
       "627  0.825000  0.100000  0.050000  0.000000  0.000000  0.000000  0.000000  0.000000  0.025000  0.0  0.0  0.0  0.00000\n",
       "628  0.926829  0.024390  0.024390  0.000000  0.000000  0.000000  0.000000  0.000000  0.000000  0.0  0.0  0.0  0.02439\n",
       "\n",
       "[629 rows x 13 columns]"
      ]
     },
     "execution_count": 201,
     "metadata": {},
     "output_type": "execute_result"
    }
   ],
   "source": [
    "topdist_df = pd.DataFrame(topdist_dict)\n",
    "topdist_df"
   ]
  },
  {
   "cell_type": "code",
   "execution_count": 212,
   "id": "131a9e19",
   "metadata": {},
   "outputs": [
    {
     "data": {
      "image/png": "[encoded data removed]",
      "text/plain": [
       "<Figure size 2304x1728 with 16 Axes>"
      ]
     },
     "metadata": {
      "needs_background": "light"
     },
     "output_type": "display_data"
    }
   ],
   "source": [
    "import matplotlib.pyplot as plt\n",
    "\n",
    "fig, axes = plt.subplots(4,4, figsize=[4*8, 4*6])\n",
    "axes = axes.flatten()\n",
    "\n",
    "for idx, ax in enumerate(axes):\n",
    "    if idx > 12:\n",
    "        break\n",
    "    ax.hist(topdist_df[idx], bins = 20)\n",
    "    ax.set_title(f\"Topic {idx}\",size=20)\n",
    "    ax.set_ylabel(\"Count\", size=20)\n",
    "    ax.set_xlabel(\"topic density\", size=20)\n",
    "    \n",
    "    \n",
    "fig.suptitle(\"Topic density of each document\", size=22)\n",
    "plt.savefig(\"topic_density.png\")\n",
    "plt.tight_layout()"
   ]
  }
 ],
 "metadata": {
  "kernelspec": {
   "display_name": "Python 3",
   "language": "python",
   "name": "python3"
  },
  "language_info": {
   "codemirror_mode": {
    "name": "ipython",
    "version": 3
   },
   "file_extension": ".py",
   "mimetype": "text/x-python",
   "name": "python",
   "nbconvert_exporter": "python",
   "pygments_lexer": "ipython3",
   "version": "3.9.5"
  }
 },
 "nbformat": 4,
 "nbformat_minor": 5
}
